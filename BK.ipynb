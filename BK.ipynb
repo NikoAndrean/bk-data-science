{
  "cells": [
    {
      "cell_type": "markdown",
      "metadata": {
        "id": "n9Vw5f0zfYle"
      },
      "source": [
        "# **PROJECT BIMBINGAN KARIR**"
      ]
    },
    {
      "cell_type": "markdown",
      "metadata": {
        "id": "Bg9Zl9RVTv-h"
      },
      "source": [
        "### **Table of Content**\n",
        "\n",
        "*   Pengumpulan Data\n",
        "*   Menelaah Data\n",
        "*   Validasi Data\n",
        "*   Menentukan Object Data\n",
        "*   Membersihkan Data\n",
        "*   Kontruksi Data\n",
        "*   Model\n",
        "*   Evaluasi\n",
        "*   Kesimpulan\n",
        "\n",
        "\n",
        "\n"
      ]
    },
    {
      "cell_type": "markdown",
      "metadata": {
        "id": "C5dY-grwfgt9"
      },
      "source": [
        "# **PENGUMPULAN DATA**"
      ]
    },
    {
      "cell_type": "markdown",
      "metadata": {
        "id": "Szsh2Vu_Uw5d"
      },
      "source": [
        "\n",
        "Dataset yang digunakan adalah dataset yang bersumber dari link berikut : https://archive.ics.uci.edu/dataset/45/heart+disease\n",
        "Dataset yang dipakai adalah dataset dengan nama file \"Hungarian.data\" diharapkan sebelum memakai dataset tersebut anda dapat membaca\n",
        "deskripsi dataset yang ada di dalam file \"heart-disease.names\""
      ]
    },
    {
      "cell_type": "markdown",
      "metadata": {
        "id": "PjIJDk4OUkxN"
      },
      "source": [
        "# **MENELAAH DATA**"
      ]
    },
    {
      "cell_type": "markdown",
      "metadata": {
        "id": "tt2e7rTdWZDn"
      },
      "source": [
        "pilih dan masukan library yang anda butuhkan untuk menelaah data"
      ]
    },
    {
      "cell_type": "code",
      "execution_count": 1,
      "metadata": {
        "id": "hjbbR0SJfzj0"
      },
      "outputs": [],
      "source": [
        "import pandas as pd # Mengimport modul pandas sebagai pd\n",
        "import re # Mengimport modul regular expression (re)\n",
        "import numpy as np # Mengimport modul NumPy sebagai np\n",
        "import itertools # Mengimport modul itertools"
      ]
    },
    {
      "cell_type": "markdown",
      "metadata": {
        "id": "arb4ZhDoWsEP"
      },
      "source": [
        "### Load Data"
      ]
    },
    {
      "cell_type": "code",
      "execution_count": 2,
      "metadata": {
        "id": "xwkscK74gogR"
      },
      "outputs": [],
      "source": [
        "#inisasi variabel yang akan diproses dengan nama variabel dir\n",
        "dir = 'data/hungarian.data'"
      ]
    },
    {
      "cell_type": "code",
      "execution_count": 3,
      "metadata": {
        "colab": {
          "base_uri": "https://localhost:8080/"
        },
        "id": "BeyWjzVPhTNK",
        "outputId": "7f1364bc-9258-40e5-bdb8-054f98cf6ce9"
      },
      "outputs": [],
      "source": [
        "# Impor modul drive dari google.colab\n",
        "# from google.colab import drive\n",
        "# # Mount Google Drive untuk mengakses file yang disimpan di Google Drive\n",
        "# drive.mount('/content/drive')"
      ]
    },
    {
      "cell_type": "code",
      "execution_count": 4,
      "metadata": {
        "colab": {
          "base_uri": "https://localhost:8080/"
        },
        "id": "mptddo9Qh8Eu",
        "outputId": "4986f825-a598-4d73-eded-03040fa7ab7d"
      },
      "outputs": [],
      "source": [
        "# Menampilkan isi dari direktori yang ditentukan\n",
        "# !ls \"/content/drive/MyDrive/Bimbingan Karir/dataset/hungarian.data\""
      ]
    },
    {
      "cell_type": "code",
      "execution_count": 5,
      "metadata": {
        "id": "DCg4V37cf0Lc"
      },
      "outputs": [],
      "source": [
        "# Tetapkan path direktori ke variabel 'dir'\n",
        "# dir = '/content/drive/MyDrive/Bimbingan Karir/dataset/hungarian.data'"
      ]
    },
    {
      "cell_type": "markdown",
      "metadata": {
        "id": "C_00iCtuW8WC"
      },
      "source": [
        "buatlah iterasi untuk membaca dataset"
      ]
    },
    {
      "cell_type": "code",
      "execution_count": 6,
      "metadata": {
        "colab": {
          "base_uri": "https://localhost:8080/"
        },
        "id": "5KVYIRzSiRp7",
        "outputId": "11e34a1a-4f42-489b-883c-18774e030db1"
      },
      "outputs": [
        {
          "data": {
            "text/plain": [
              "['1254 0 40 1 1 0 0',\n",
              " '-9 2 140 0 289 -9 -9 -9',\n",
              " '0 -9 -9 0 12 16 84 0',\n",
              " '0 0 0 0 150 18 -9 7',\n",
              " '172 86 200 110 140 86 0 0',\n",
              " '0 -9 26 20 -9 -9 -9 -9',\n",
              " '-9 -9 -9 -9 -9 -9 -9 12',\n",
              " '20 84 0 -9 -9 -9 -9 -9',\n",
              " '-9 -9 -9 -9 -9 1 1 1',\n",
              " '1 1 -9. -9. name']"
            ]
          },
          "execution_count": 6,
          "metadata": {},
          "output_type": "execute_result"
        }
      ],
      "source": [
        "# Membuka file pada path yang telah ditetapkan sebelumnya (dir) dengan menggunakan encoding Latin1\n",
        "with open(dir, encoding='Latin1') as file:\n",
        "  lines = [line.strip() for line in file] # Membaca setiap baris dari file dan menyimpannya dalam bentuk list dengan menghilangkan spasi tambahan (strip)\n",
        "\n",
        "lines[0:10] # Menampilkan 10 baris pertama dari list lines"
      ]
    },
    {
      "cell_type": "markdown",
      "metadata": {
        "id": "6PXoOEPmW5ET"
      },
      "source": [
        "setelah membaca file dataset lakukan iterasi sesuai jumlah kolom dan baris yang ada pada dataset. Untuk keterangan kolom dan baris dapat\n",
        "dilihat melalui deskripsi dataset yang sudah dijelaskan sebelumnya"
      ]
    },
    {
      "cell_type": "code",
      "execution_count": 7,
      "metadata": {
        "colab": {
          "base_uri": "https://localhost:8080/",
          "height": 423
        },
        "id": "NWJgitIGjf5p",
        "outputId": "cc4a8e3f-2261-44c1-bfda-3aa1d846e743"
      },
      "outputs": [
        {
          "data": {
            "text/html": [
              "<div>\n",
              "<style scoped>\n",
              "    .dataframe tbody tr th:only-of-type {\n",
              "        vertical-align: middle;\n",
              "    }\n",
              "\n",
              "    .dataframe tbody tr th {\n",
              "        vertical-align: top;\n",
              "    }\n",
              "\n",
              "    .dataframe thead th {\n",
              "        text-align: right;\n",
              "    }\n",
              "</style>\n",
              "<table border=\"1\" class=\"dataframe\">\n",
              "  <thead>\n",
              "    <tr style=\"text-align: right;\">\n",
              "      <th></th>\n",
              "      <th>0</th>\n",
              "      <th>1</th>\n",
              "      <th>2</th>\n",
              "      <th>3</th>\n",
              "      <th>4</th>\n",
              "      <th>5</th>\n",
              "      <th>6</th>\n",
              "      <th>7</th>\n",
              "      <th>8</th>\n",
              "      <th>9</th>\n",
              "      <th>...</th>\n",
              "      <th>66</th>\n",
              "      <th>67</th>\n",
              "      <th>68</th>\n",
              "      <th>69</th>\n",
              "      <th>70</th>\n",
              "      <th>71</th>\n",
              "      <th>72</th>\n",
              "      <th>73</th>\n",
              "      <th>74</th>\n",
              "      <th>75</th>\n",
              "    </tr>\n",
              "  </thead>\n",
              "  <tbody>\n",
              "    <tr>\n",
              "      <th>0</th>\n",
              "      <td>1254</td>\n",
              "      <td>0</td>\n",
              "      <td>40</td>\n",
              "      <td>1</td>\n",
              "      <td>1</td>\n",
              "      <td>0</td>\n",
              "      <td>0</td>\n",
              "      <td>-9</td>\n",
              "      <td>2</td>\n",
              "      <td>140</td>\n",
              "      <td>...</td>\n",
              "      <td>-9</td>\n",
              "      <td>-9</td>\n",
              "      <td>1</td>\n",
              "      <td>1</td>\n",
              "      <td>1</td>\n",
              "      <td>1</td>\n",
              "      <td>1</td>\n",
              "      <td>-9.</td>\n",
              "      <td>-9.</td>\n",
              "      <td>name</td>\n",
              "    </tr>\n",
              "    <tr>\n",
              "      <th>1</th>\n",
              "      <td>1255</td>\n",
              "      <td>0</td>\n",
              "      <td>49</td>\n",
              "      <td>0</td>\n",
              "      <td>1</td>\n",
              "      <td>0</td>\n",
              "      <td>0</td>\n",
              "      <td>-9</td>\n",
              "      <td>3</td>\n",
              "      <td>160</td>\n",
              "      <td>...</td>\n",
              "      <td>-9</td>\n",
              "      <td>-9</td>\n",
              "      <td>1</td>\n",
              "      <td>1</td>\n",
              "      <td>1</td>\n",
              "      <td>1</td>\n",
              "      <td>1</td>\n",
              "      <td>-9.</td>\n",
              "      <td>-9.</td>\n",
              "      <td>name</td>\n",
              "    </tr>\n",
              "    <tr>\n",
              "      <th>2</th>\n",
              "      <td>1256</td>\n",
              "      <td>0</td>\n",
              "      <td>37</td>\n",
              "      <td>1</td>\n",
              "      <td>1</td>\n",
              "      <td>0</td>\n",
              "      <td>0</td>\n",
              "      <td>-9</td>\n",
              "      <td>2</td>\n",
              "      <td>130</td>\n",
              "      <td>...</td>\n",
              "      <td>-9</td>\n",
              "      <td>-9</td>\n",
              "      <td>1</td>\n",
              "      <td>1</td>\n",
              "      <td>1</td>\n",
              "      <td>1</td>\n",
              "      <td>1</td>\n",
              "      <td>-9.</td>\n",
              "      <td>-9.</td>\n",
              "      <td>name</td>\n",
              "    </tr>\n",
              "    <tr>\n",
              "      <th>3</th>\n",
              "      <td>1257</td>\n",
              "      <td>0</td>\n",
              "      <td>48</td>\n",
              "      <td>0</td>\n",
              "      <td>1</td>\n",
              "      <td>1</td>\n",
              "      <td>1</td>\n",
              "      <td>-9</td>\n",
              "      <td>4</td>\n",
              "      <td>138</td>\n",
              "      <td>...</td>\n",
              "      <td>2</td>\n",
              "      <td>-9</td>\n",
              "      <td>1</td>\n",
              "      <td>1</td>\n",
              "      <td>1</td>\n",
              "      <td>1</td>\n",
              "      <td>1</td>\n",
              "      <td>-9.</td>\n",
              "      <td>-9.</td>\n",
              "      <td>name</td>\n",
              "    </tr>\n",
              "    <tr>\n",
              "      <th>4</th>\n",
              "      <td>1258</td>\n",
              "      <td>0</td>\n",
              "      <td>54</td>\n",
              "      <td>1</td>\n",
              "      <td>1</td>\n",
              "      <td>0</td>\n",
              "      <td>1</td>\n",
              "      <td>-9</td>\n",
              "      <td>3</td>\n",
              "      <td>150</td>\n",
              "      <td>...</td>\n",
              "      <td>1</td>\n",
              "      <td>-9</td>\n",
              "      <td>1</td>\n",
              "      <td>1</td>\n",
              "      <td>1</td>\n",
              "      <td>1</td>\n",
              "      <td>1</td>\n",
              "      <td>-9.</td>\n",
              "      <td>-9.</td>\n",
              "      <td>name</td>\n",
              "    </tr>\n",
              "    <tr>\n",
              "      <th>...</th>\n",
              "      <td>...</td>\n",
              "      <td>...</td>\n",
              "      <td>...</td>\n",
              "      <td>...</td>\n",
              "      <td>...</td>\n",
              "      <td>...</td>\n",
              "      <td>...</td>\n",
              "      <td>...</td>\n",
              "      <td>...</td>\n",
              "      <td>...</td>\n",
              "      <td>...</td>\n",
              "      <td>...</td>\n",
              "      <td>...</td>\n",
              "      <td>...</td>\n",
              "      <td>...</td>\n",
              "      <td>...</td>\n",
              "      <td>...</td>\n",
              "      <td>...</td>\n",
              "      <td>...</td>\n",
              "      <td>...</td>\n",
              "      <td>...</td>\n",
              "    </tr>\n",
              "    <tr>\n",
              "      <th>289</th>\n",
              "      <td>1053</td>\n",
              "      <td>0</td>\n",
              "      <td>48</td>\n",
              "      <td>0</td>\n",
              "      <td>0</td>\n",
              "      <td>0</td>\n",
              "      <td>0</td>\n",
              "      <td>-9</td>\n",
              "      <td>2</td>\n",
              "      <td>-9</td>\n",
              "      <td>...</td>\n",
              "      <td>-9</td>\n",
              "      <td>-9</td>\n",
              "      <td>1</td>\n",
              "      <td>1</td>\n",
              "      <td>1</td>\n",
              "      <td>1</td>\n",
              "      <td>1</td>\n",
              "      <td>-9.</td>\n",
              "      <td>-9.</td>\n",
              "      <td>name</td>\n",
              "    </tr>\n",
              "    <tr>\n",
              "      <th>290</th>\n",
              "      <td>1054</td>\n",
              "      <td>0</td>\n",
              "      <td>36</td>\n",
              "      <td>1</td>\n",
              "      <td>1</td>\n",
              "      <td>0</td>\n",
              "      <td>0</td>\n",
              "      <td>-9</td>\n",
              "      <td>2</td>\n",
              "      <td>120</td>\n",
              "      <td>...</td>\n",
              "      <td>-9</td>\n",
              "      <td>-9</td>\n",
              "      <td>1</td>\n",
              "      <td>1</td>\n",
              "      <td>1</td>\n",
              "      <td>1</td>\n",
              "      <td>1</td>\n",
              "      <td>-9.</td>\n",
              "      <td>-9.</td>\n",
              "      <td>name</td>\n",
              "    </tr>\n",
              "    <tr>\n",
              "      <th>291</th>\n",
              "      <td>5001</td>\n",
              "      <td>0</td>\n",
              "      <td>48</td>\n",
              "      <td>1</td>\n",
              "      <td>0</td>\n",
              "      <td>0</td>\n",
              "      <td>0</td>\n",
              "      <td>-9</td>\n",
              "      <td>3</td>\n",
              "      <td>110</td>\n",
              "      <td>...</td>\n",
              "      <td>-9</td>\n",
              "      <td>-9</td>\n",
              "      <td>1</td>\n",
              "      <td>1</td>\n",
              "      <td>1</td>\n",
              "      <td>1</td>\n",
              "      <td>1</td>\n",
              "      <td>-9.</td>\n",
              "      <td>-9.</td>\n",
              "      <td>name</td>\n",
              "    </tr>\n",
              "    <tr>\n",
              "      <th>292</th>\n",
              "      <td>5000</td>\n",
              "      <td>0</td>\n",
              "      <td>47</td>\n",
              "      <td>0</td>\n",
              "      <td>0</td>\n",
              "      <td>0</td>\n",
              "      <td>0</td>\n",
              "      <td>-9</td>\n",
              "      <td>2</td>\n",
              "      <td>140</td>\n",
              "      <td>...</td>\n",
              "      <td>-9</td>\n",
              "      <td>-9</td>\n",
              "      <td>1</td>\n",
              "      <td>1</td>\n",
              "      <td>1</td>\n",
              "      <td>1</td>\n",
              "      <td>1</td>\n",
              "      <td>-9.</td>\n",
              "      <td>-9.</td>\n",
              "      <td>name</td>\n",
              "    </tr>\n",
              "    <tr>\n",
              "      <th>293</th>\n",
              "      <td>5002</td>\n",
              "      <td>0</td>\n",
              "      <td>53</td>\n",
              "      <td>1</td>\n",
              "      <td>1</td>\n",
              "      <td>1</td>\n",
              "      <td>1</td>\n",
              "      <td>-9</td>\n",
              "      <td>4</td>\n",
              "      <td>130</td>\n",
              "      <td>...</td>\n",
              "      <td>1</td>\n",
              "      <td>1</td>\n",
              "      <td>1</td>\n",
              "      <td>1</td>\n",
              "      <td>1</td>\n",
              "      <td>1</td>\n",
              "      <td>1</td>\n",
              "      <td>-9.</td>\n",
              "      <td>-9.</td>\n",
              "      <td>name</td>\n",
              "    </tr>\n",
              "  </tbody>\n",
              "</table>\n",
              "<p>294 rows × 76 columns</p>\n",
              "</div>"
            ],
            "text/plain": [
              "       0  1   2  3  4  5  6   7  8    9   ...  66  67 68 69 70 71 72   73  \\\n",
              "0    1254  0  40  1  1  0  0  -9  2  140  ...  -9  -9  1  1  1  1  1  -9.   \n",
              "1    1255  0  49  0  1  0  0  -9  3  160  ...  -9  -9  1  1  1  1  1  -9.   \n",
              "2    1256  0  37  1  1  0  0  -9  2  130  ...  -9  -9  1  1  1  1  1  -9.   \n",
              "3    1257  0  48  0  1  1  1  -9  4  138  ...   2  -9  1  1  1  1  1  -9.   \n",
              "4    1258  0  54  1  1  0  1  -9  3  150  ...   1  -9  1  1  1  1  1  -9.   \n",
              "..    ... ..  .. .. .. .. ..  .. ..  ...  ...  ..  .. .. .. .. .. ..  ...   \n",
              "289  1053  0  48  0  0  0  0  -9  2   -9  ...  -9  -9  1  1  1  1  1  -9.   \n",
              "290  1054  0  36  1  1  0  0  -9  2  120  ...  -9  -9  1  1  1  1  1  -9.   \n",
              "291  5001  0  48  1  0  0  0  -9  3  110  ...  -9  -9  1  1  1  1  1  -9.   \n",
              "292  5000  0  47  0  0  0  0  -9  2  140  ...  -9  -9  1  1  1  1  1  -9.   \n",
              "293  5002  0  53  1  1  1  1  -9  4  130  ...   1   1  1  1  1  1  1  -9.   \n",
              "\n",
              "      74    75  \n",
              "0    -9.  name  \n",
              "1    -9.  name  \n",
              "2    -9.  name  \n",
              "3    -9.  name  \n",
              "4    -9.  name  \n",
              "..   ...   ...  \n",
              "289  -9.  name  \n",
              "290  -9.  name  \n",
              "291  -9.  name  \n",
              "292  -9.  name  \n",
              "293  -9.  name  \n",
              "\n",
              "[294 rows x 76 columns]"
            ]
          },
          "execution_count": 7,
          "metadata": {},
          "output_type": "execute_result"
        }
      ],
      "source": [
        "# Menggunakan modul itertools untuk mengambil elemen dari lines selama panjangnya adalah 76\n",
        "data = itertools.takewhile(\n",
        "    lambda x: len(x) == 76,\n",
        "    (' '.join(lines[i:(i+10)]).split() for i in range (0, len(lines),10))\n",
        ")\n",
        "df = pd.DataFrame.from_records(data) # Membuat DataFrame dari data yang diperoleh\n",
        "\n",
        "df # Menampilkan DataFrame"
      ]
    },
    {
      "cell_type": "code",
      "execution_count": 8,
      "metadata": {
        "colab": {
          "base_uri": "https://localhost:8080/"
        },
        "id": "Uvho0t-4lkYx",
        "outputId": "978b5e8d-4607-407c-bd84-8f06a031309b"
      },
      "outputs": [
        {
          "name": "stdout",
          "output_type": "stream",
          "text": [
            "<class 'pandas.core.frame.DataFrame'>\n",
            "RangeIndex: 294 entries, 0 to 293\n",
            "Data columns (total 76 columns):\n",
            " #   Column  Non-Null Count  Dtype \n",
            "---  ------  --------------  ----- \n",
            " 0   0       294 non-null    object\n",
            " 1   1       294 non-null    object\n",
            " 2   2       294 non-null    object\n",
            " 3   3       294 non-null    object\n",
            " 4   4       294 non-null    object\n",
            " 5   5       294 non-null    object\n",
            " 6   6       294 non-null    object\n",
            " 7   7       294 non-null    object\n",
            " 8   8       294 non-null    object\n",
            " 9   9       294 non-null    object\n",
            " 10  10      294 non-null    object\n",
            " 11  11      294 non-null    object\n",
            " 12  12      294 non-null    object\n",
            " 13  13      294 non-null    object\n",
            " 14  14      294 non-null    object\n",
            " 15  15      294 non-null    object\n",
            " 16  16      294 non-null    object\n",
            " 17  17      294 non-null    object\n",
            " 18  18      294 non-null    object\n",
            " 19  19      294 non-null    object\n",
            " 20  20      294 non-null    object\n",
            " 21  21      294 non-null    object\n",
            " 22  22      294 non-null    object\n",
            " 23  23      294 non-null    object\n",
            " 24  24      294 non-null    object\n",
            " 25  25      294 non-null    object\n",
            " 26  26      294 non-null    object\n",
            " 27  27      294 non-null    object\n",
            " 28  28      294 non-null    object\n",
            " 29  29      294 non-null    object\n",
            " 30  30      294 non-null    object\n",
            " 31  31      294 non-null    object\n",
            " 32  32      294 non-null    object\n",
            " 33  33      294 non-null    object\n",
            " 34  34      294 non-null    object\n",
            " 35  35      294 non-null    object\n",
            " 36  36      294 non-null    object\n",
            " 37  37      294 non-null    object\n",
            " 38  38      294 non-null    object\n",
            " 39  39      294 non-null    object\n",
            " 40  40      294 non-null    object\n",
            " 41  41      294 non-null    object\n",
            " 42  42      294 non-null    object\n",
            " 43  43      294 non-null    object\n",
            " 44  44      294 non-null    object\n",
            " 45  45      294 non-null    object\n",
            " 46  46      294 non-null    object\n",
            " 47  47      294 non-null    object\n",
            " 48  48      294 non-null    object\n",
            " 49  49      294 non-null    object\n",
            " 50  50      294 non-null    object\n",
            " 51  51      294 non-null    object\n",
            " 52  52      294 non-null    object\n",
            " 53  53      294 non-null    object\n",
            " 54  54      294 non-null    object\n",
            " 55  55      294 non-null    object\n",
            " 56  56      294 non-null    object\n",
            " 57  57      294 non-null    object\n",
            " 58  58      294 non-null    object\n",
            " 59  59      294 non-null    object\n",
            " 60  60      294 non-null    object\n",
            " 61  61      294 non-null    object\n",
            " 62  62      294 non-null    object\n",
            " 63  63      294 non-null    object\n",
            " 64  64      294 non-null    object\n",
            " 65  65      294 non-null    object\n",
            " 66  66      294 non-null    object\n",
            " 67  67      294 non-null    object\n",
            " 68  68      294 non-null    object\n",
            " 69  69      294 non-null    object\n",
            " 70  70      294 non-null    object\n",
            " 71  71      294 non-null    object\n",
            " 72  72      294 non-null    object\n",
            " 73  73      294 non-null    object\n",
            " 74  74      294 non-null    object\n",
            " 75  75      294 non-null    object\n",
            "dtypes: object(76)\n",
            "memory usage: 174.7+ KB\n"
          ]
        }
      ],
      "source": [
        "df.info() # Menampilkan informasi terkait DataFrame"
      ]
    },
    {
      "cell_type": "code",
      "execution_count": 9,
      "metadata": {
        "id": "3F7oIG8-ltHs"
      },
      "outputs": [],
      "source": [
        "df = df.iloc[:, :-1] # Mengambil semua baris dan kolom kecuali kolom terakhir\n",
        "df = df.drop(df.columns[0], axis=1) # Menghapus kolom pertama dari DataFrame"
      ]
    },
    {
      "cell_type": "code",
      "execution_count": 10,
      "metadata": {
        "id": "nUkythCemBEq"
      },
      "outputs": [],
      "source": [
        "df = df.astype(float) # Mengonversi semua nilai dalam DataFrame menjadi tipe data float"
      ]
    },
    {
      "cell_type": "code",
      "execution_count": 11,
      "metadata": {
        "colab": {
          "base_uri": "https://localhost:8080/"
        },
        "id": "ts_C214_mDo0",
        "outputId": "b00d8e13-234f-42fd-ef93-c445bfe8c582"
      },
      "outputs": [
        {
          "name": "stdout",
          "output_type": "stream",
          "text": [
            "<class 'pandas.core.frame.DataFrame'>\n",
            "RangeIndex: 294 entries, 0 to 293\n",
            "Data columns (total 74 columns):\n",
            " #   Column  Non-Null Count  Dtype  \n",
            "---  ------  --------------  -----  \n",
            " 0   1       294 non-null    float64\n",
            " 1   2       294 non-null    float64\n",
            " 2   3       294 non-null    float64\n",
            " 3   4       294 non-null    float64\n",
            " 4   5       294 non-null    float64\n",
            " 5   6       294 non-null    float64\n",
            " 6   7       294 non-null    float64\n",
            " 7   8       294 non-null    float64\n",
            " 8   9       294 non-null    float64\n",
            " 9   10      294 non-null    float64\n",
            " 10  11      294 non-null    float64\n",
            " 11  12      294 non-null    float64\n",
            " 12  13      294 non-null    float64\n",
            " 13  14      294 non-null    float64\n",
            " 14  15      294 non-null    float64\n",
            " 15  16      294 non-null    float64\n",
            " 16  17      294 non-null    float64\n",
            " 17  18      294 non-null    float64\n",
            " 18  19      294 non-null    float64\n",
            " 19  20      294 non-null    float64\n",
            " 20  21      294 non-null    float64\n",
            " 21  22      294 non-null    float64\n",
            " 22  23      294 non-null    float64\n",
            " 23  24      294 non-null    float64\n",
            " 24  25      294 non-null    float64\n",
            " 25  26      294 non-null    float64\n",
            " 26  27      294 non-null    float64\n",
            " 27  28      294 non-null    float64\n",
            " 28  29      294 non-null    float64\n",
            " 29  30      294 non-null    float64\n",
            " 30  31      294 non-null    float64\n",
            " 31  32      294 non-null    float64\n",
            " 32  33      294 non-null    float64\n",
            " 33  34      294 non-null    float64\n",
            " 34  35      294 non-null    float64\n",
            " 35  36      294 non-null    float64\n",
            " 36  37      294 non-null    float64\n",
            " 37  38      294 non-null    float64\n",
            " 38  39      294 non-null    float64\n",
            " 39  40      294 non-null    float64\n",
            " 40  41      294 non-null    float64\n",
            " 41  42      294 non-null    float64\n",
            " 42  43      294 non-null    float64\n",
            " 43  44      294 non-null    float64\n",
            " 44  45      294 non-null    float64\n",
            " 45  46      294 non-null    float64\n",
            " 46  47      294 non-null    float64\n",
            " 47  48      294 non-null    float64\n",
            " 48  49      294 non-null    float64\n",
            " 49  50      294 non-null    float64\n",
            " 50  51      294 non-null    float64\n",
            " 51  52      294 non-null    float64\n",
            " 52  53      294 non-null    float64\n",
            " 53  54      294 non-null    float64\n",
            " 54  55      294 non-null    float64\n",
            " 55  56      294 non-null    float64\n",
            " 56  57      294 non-null    float64\n",
            " 57  58      294 non-null    float64\n",
            " 58  59      294 non-null    float64\n",
            " 59  60      294 non-null    float64\n",
            " 60  61      294 non-null    float64\n",
            " 61  62      294 non-null    float64\n",
            " 62  63      294 non-null    float64\n",
            " 63  64      294 non-null    float64\n",
            " 64  65      294 non-null    float64\n",
            " 65  66      294 non-null    float64\n",
            " 66  67      294 non-null    float64\n",
            " 67  68      294 non-null    float64\n",
            " 68  69      294 non-null    float64\n",
            " 69  70      294 non-null    float64\n",
            " 70  71      294 non-null    float64\n",
            " 71  72      294 non-null    float64\n",
            " 72  73      294 non-null    float64\n",
            " 73  74      294 non-null    float64\n",
            "dtypes: float64(74)\n",
            "memory usage: 170.1 KB\n"
          ]
        }
      ],
      "source": [
        "df.info() # Menampilkan informasi terkait DataFrame"
      ]
    },
    {
      "cell_type": "markdown",
      "metadata": {
        "id": "6vLIXErIfqYF"
      },
      "source": [
        "# **VALIDASI DATA**"
      ]
    },
    {
      "cell_type": "markdown",
      "metadata": {
        "id": "yjbAj2OlZRyL"
      },
      "source": [
        "Pada tahap ini bertujuan untuk mengetahui dan memahami isi dari dataset agar dapat dilakukan penanganan sesuai dengan kondisinya\n",
        "\n",
        "mengubah nilai -9.0 menjadi nilai null value sesuai dengan deskripsi dataset"
      ]
    },
    {
      "cell_type": "code",
      "execution_count": 12,
      "metadata": {
        "id": "dDKzg_JMnBGI"
      },
      "outputs": [],
      "source": [
        "df.replace(-9.0, np.nan, inplace=True) # Mengganti nilai -9.0 dengan NaN dalam DataFrame"
      ]
    },
    {
      "cell_type": "code",
      "execution_count": 13,
      "metadata": {
        "colab": {
          "base_uri": "https://localhost:8080/"
        },
        "id": "liCu9dSfnKYt",
        "outputId": "feb37f66-627e-473c-f529-d2dee6393b65"
      },
      "outputs": [
        {
          "data": {
            "text/plain": [
              "1       0\n",
              "2       0\n",
              "3       0\n",
              "4       0\n",
              "5       0\n",
              "     ... \n",
              "70      0\n",
              "71      0\n",
              "72      0\n",
              "73    266\n",
              "74    294\n",
              "Length: 74, dtype: int64"
            ]
          },
          "execution_count": 13,
          "metadata": {},
          "output_type": "execute_result"
        }
      ],
      "source": [
        "df.isnull().sum() # Menghitung jumlah nilai null (NaN) dalam setiap kolom"
      ]
    },
    {
      "cell_type": "code",
      "execution_count": 14,
      "metadata": {
        "colab": {
          "base_uri": "https://localhost:8080/",
          "height": 235
        },
        "id": "gnMSpg_Kn0q3",
        "outputId": "d0a20ede-4ad6-41fe-aac3-2269a74b37bb"
      },
      "outputs": [
        {
          "data": {
            "text/html": [
              "<div>\n",
              "<style scoped>\n",
              "    .dataframe tbody tr th:only-of-type {\n",
              "        vertical-align: middle;\n",
              "    }\n",
              "\n",
              "    .dataframe tbody tr th {\n",
              "        vertical-align: top;\n",
              "    }\n",
              "\n",
              "    .dataframe thead th {\n",
              "        text-align: right;\n",
              "    }\n",
              "</style>\n",
              "<table border=\"1\" class=\"dataframe\">\n",
              "  <thead>\n",
              "    <tr style=\"text-align: right;\">\n",
              "      <th></th>\n",
              "      <th>1</th>\n",
              "      <th>2</th>\n",
              "      <th>3</th>\n",
              "      <th>4</th>\n",
              "      <th>5</th>\n",
              "      <th>6</th>\n",
              "      <th>7</th>\n",
              "      <th>8</th>\n",
              "      <th>9</th>\n",
              "      <th>10</th>\n",
              "      <th>...</th>\n",
              "      <th>65</th>\n",
              "      <th>66</th>\n",
              "      <th>67</th>\n",
              "      <th>68</th>\n",
              "      <th>69</th>\n",
              "      <th>70</th>\n",
              "      <th>71</th>\n",
              "      <th>72</th>\n",
              "      <th>73</th>\n",
              "      <th>74</th>\n",
              "    </tr>\n",
              "  </thead>\n",
              "  <tbody>\n",
              "    <tr>\n",
              "      <th>0</th>\n",
              "      <td>0.0</td>\n",
              "      <td>40.0</td>\n",
              "      <td>1.0</td>\n",
              "      <td>1.0</td>\n",
              "      <td>0.0</td>\n",
              "      <td>0.0</td>\n",
              "      <td>NaN</td>\n",
              "      <td>2.0</td>\n",
              "      <td>140.0</td>\n",
              "      <td>0.0</td>\n",
              "      <td>...</td>\n",
              "      <td>NaN</td>\n",
              "      <td>NaN</td>\n",
              "      <td>NaN</td>\n",
              "      <td>1.0</td>\n",
              "      <td>1.0</td>\n",
              "      <td>1.0</td>\n",
              "      <td>1.0</td>\n",
              "      <td>1.0</td>\n",
              "      <td>NaN</td>\n",
              "      <td>NaN</td>\n",
              "    </tr>\n",
              "    <tr>\n",
              "      <th>1</th>\n",
              "      <td>0.0</td>\n",
              "      <td>49.0</td>\n",
              "      <td>0.0</td>\n",
              "      <td>1.0</td>\n",
              "      <td>0.0</td>\n",
              "      <td>0.0</td>\n",
              "      <td>NaN</td>\n",
              "      <td>3.0</td>\n",
              "      <td>160.0</td>\n",
              "      <td>1.0</td>\n",
              "      <td>...</td>\n",
              "      <td>NaN</td>\n",
              "      <td>NaN</td>\n",
              "      <td>NaN</td>\n",
              "      <td>1.0</td>\n",
              "      <td>1.0</td>\n",
              "      <td>1.0</td>\n",
              "      <td>1.0</td>\n",
              "      <td>1.0</td>\n",
              "      <td>NaN</td>\n",
              "      <td>NaN</td>\n",
              "    </tr>\n",
              "    <tr>\n",
              "      <th>2</th>\n",
              "      <td>0.0</td>\n",
              "      <td>37.0</td>\n",
              "      <td>1.0</td>\n",
              "      <td>1.0</td>\n",
              "      <td>0.0</td>\n",
              "      <td>0.0</td>\n",
              "      <td>NaN</td>\n",
              "      <td>2.0</td>\n",
              "      <td>130.0</td>\n",
              "      <td>0.0</td>\n",
              "      <td>...</td>\n",
              "      <td>NaN</td>\n",
              "      <td>NaN</td>\n",
              "      <td>NaN</td>\n",
              "      <td>1.0</td>\n",
              "      <td>1.0</td>\n",
              "      <td>1.0</td>\n",
              "      <td>1.0</td>\n",
              "      <td>1.0</td>\n",
              "      <td>NaN</td>\n",
              "      <td>NaN</td>\n",
              "    </tr>\n",
              "    <tr>\n",
              "      <th>3</th>\n",
              "      <td>0.0</td>\n",
              "      <td>48.0</td>\n",
              "      <td>0.0</td>\n",
              "      <td>1.0</td>\n",
              "      <td>1.0</td>\n",
              "      <td>1.0</td>\n",
              "      <td>NaN</td>\n",
              "      <td>4.0</td>\n",
              "      <td>138.0</td>\n",
              "      <td>0.0</td>\n",
              "      <td>...</td>\n",
              "      <td>NaN</td>\n",
              "      <td>2.0</td>\n",
              "      <td>NaN</td>\n",
              "      <td>1.0</td>\n",
              "      <td>1.0</td>\n",
              "      <td>1.0</td>\n",
              "      <td>1.0</td>\n",
              "      <td>1.0</td>\n",
              "      <td>NaN</td>\n",
              "      <td>NaN</td>\n",
              "    </tr>\n",
              "    <tr>\n",
              "      <th>4</th>\n",
              "      <td>0.0</td>\n",
              "      <td>54.0</td>\n",
              "      <td>1.0</td>\n",
              "      <td>1.0</td>\n",
              "      <td>0.0</td>\n",
              "      <td>1.0</td>\n",
              "      <td>NaN</td>\n",
              "      <td>3.0</td>\n",
              "      <td>150.0</td>\n",
              "      <td>0.0</td>\n",
              "      <td>...</td>\n",
              "      <td>NaN</td>\n",
              "      <td>1.0</td>\n",
              "      <td>NaN</td>\n",
              "      <td>1.0</td>\n",
              "      <td>1.0</td>\n",
              "      <td>1.0</td>\n",
              "      <td>1.0</td>\n",
              "      <td>1.0</td>\n",
              "      <td>NaN</td>\n",
              "      <td>NaN</td>\n",
              "    </tr>\n",
              "  </tbody>\n",
              "</table>\n",
              "<p>5 rows × 74 columns</p>\n",
              "</div>"
            ],
            "text/plain": [
              "    1     2    3    4    5    6   7    8      9    10  ...  65   66  67   68  \\\n",
              "0  0.0  40.0  1.0  1.0  0.0  0.0 NaN  2.0  140.0  0.0  ... NaN  NaN NaN  1.0   \n",
              "1  0.0  49.0  0.0  1.0  0.0  0.0 NaN  3.0  160.0  1.0  ... NaN  NaN NaN  1.0   \n",
              "2  0.0  37.0  1.0  1.0  0.0  0.0 NaN  2.0  130.0  0.0  ... NaN  NaN NaN  1.0   \n",
              "3  0.0  48.0  0.0  1.0  1.0  1.0 NaN  4.0  138.0  0.0  ... NaN  2.0 NaN  1.0   \n",
              "4  0.0  54.0  1.0  1.0  0.0  1.0 NaN  3.0  150.0  0.0  ... NaN  1.0 NaN  1.0   \n",
              "\n",
              "    69   70   71   72  73  74  \n",
              "0  1.0  1.0  1.0  1.0 NaN NaN  \n",
              "1  1.0  1.0  1.0  1.0 NaN NaN  \n",
              "2  1.0  1.0  1.0  1.0 NaN NaN  \n",
              "3  1.0  1.0  1.0  1.0 NaN NaN  \n",
              "4  1.0  1.0  1.0  1.0 NaN NaN  \n",
              "\n",
              "[5 rows x 74 columns]"
            ]
          },
          "execution_count": 14,
          "metadata": {},
          "output_type": "execute_result"
        }
      ],
      "source": [
        "df.head() # Menampilkan lima baris pertama dari DataFrame"
      ]
    },
    {
      "cell_type": "code",
      "execution_count": 15,
      "metadata": {
        "colab": {
          "base_uri": "https://localhost:8080/"
        },
        "id": "ORE9Pql3n7wn",
        "outputId": "7d8fb310-8ef5-4e5b-9bc7-a703ab110aff"
      },
      "outputs": [
        {
          "name": "stdout",
          "output_type": "stream",
          "text": [
            "<class 'pandas.core.frame.DataFrame'>\n",
            "RangeIndex: 294 entries, 0 to 293\n",
            "Data columns (total 74 columns):\n",
            " #   Column  Non-Null Count  Dtype  \n",
            "---  ------  --------------  -----  \n",
            " 0   1       294 non-null    float64\n",
            " 1   2       294 non-null    float64\n",
            " 2   3       294 non-null    float64\n",
            " 3   4       294 non-null    float64\n",
            " 4   5       294 non-null    float64\n",
            " 5   6       294 non-null    float64\n",
            " 6   7       0 non-null      float64\n",
            " 7   8       294 non-null    float64\n",
            " 8   9       293 non-null    float64\n",
            " 9   10      293 non-null    float64\n",
            " 10  11      271 non-null    float64\n",
            " 11  12      12 non-null     float64\n",
            " 12  13      1 non-null      float64\n",
            " 13  14      0 non-null      float64\n",
            " 14  15      286 non-null    float64\n",
            " 15  16      21 non-null     float64\n",
            " 16  17      1 non-null      float64\n",
            " 17  18      293 non-null    float64\n",
            " 18  19      294 non-null    float64\n",
            " 19  20      294 non-null    float64\n",
            " 20  21      294 non-null    float64\n",
            " 21  22      293 non-null    float64\n",
            " 22  23      292 non-null    float64\n",
            " 23  24      293 non-null    float64\n",
            " 24  25      293 non-null    float64\n",
            " 25  26      293 non-null    float64\n",
            " 26  27      285 non-null    float64\n",
            " 27  28      292 non-null    float64\n",
            " 28  29      104 non-null    float64\n",
            " 29  30      292 non-null    float64\n",
            " 30  31      293 non-null    float64\n",
            " 31  32      293 non-null    float64\n",
            " 32  33      293 non-null    float64\n",
            " 33  34      293 non-null    float64\n",
            " 34  35      293 non-null    float64\n",
            " 35  36      293 non-null    float64\n",
            " 36  37      293 non-null    float64\n",
            " 37  38      292 non-null    float64\n",
            " 38  39      294 non-null    float64\n",
            " 39  40      104 non-null    float64\n",
            " 40  41      293 non-null    float64\n",
            " 41  42      294 non-null    float64\n",
            " 42  43      4 non-null      float64\n",
            " 43  44      0 non-null      float64\n",
            " 44  45      0 non-null      float64\n",
            " 45  46      0 non-null      float64\n",
            " 46  47      3 non-null      float64\n",
            " 47  48      0 non-null      float64\n",
            " 48  49      2 non-null      float64\n",
            " 49  50      28 non-null     float64\n",
            " 50  51      27 non-null     float64\n",
            " 51  52      17 non-null     float64\n",
            " 52  53      0 non-null      float64\n",
            " 53  54      294 non-null    float64\n",
            " 54  55      294 non-null    float64\n",
            " 55  56      294 non-null    float64\n",
            " 56  57      294 non-null    float64\n",
            " 57  58      19 non-null     float64\n",
            " 58  59      58 non-null     float64\n",
            " 59  60      48 non-null     float64\n",
            " 60  61      18 non-null     float64\n",
            " 61  62      59 non-null     float64\n",
            " 62  63      9 non-null      float64\n",
            " 63  64      23 non-null     float64\n",
            " 64  65      5 non-null      float64\n",
            " 65  66      50 non-null     float64\n",
            " 66  67      25 non-null     float64\n",
            " 67  68      294 non-null    float64\n",
            " 68  69      294 non-null    float64\n",
            " 69  70      294 non-null    float64\n",
            " 70  71      294 non-null    float64\n",
            " 71  72      294 non-null    float64\n",
            " 72  73      28 non-null     float64\n",
            " 73  74      0 non-null      float64\n",
            "dtypes: float64(74)\n",
            "memory usage: 170.1 KB\n"
          ]
        }
      ],
      "source": [
        "df.info() # Menampilkan informasi terkait DataFrame"
      ]
    },
    {
      "cell_type": "markdown",
      "metadata": {
        "id": "QqxIXyVKZrEr"
      },
      "source": [
        "# **MENENTUKAN OBJECT DATA**"
      ]
    },
    {
      "cell_type": "code",
      "execution_count": 16,
      "metadata": {
        "id": "Y8oQ8onmocTb"
      },
      "outputs": [],
      "source": [
        "df_selected = df.iloc[:, [1, 2,7,8, 10, 14 ,17, 30, 36, 38, 39, 42, 49, 56]] # Memilih kolom-kolom tertentu dari DataFrame"
      ]
    },
    {
      "cell_type": "code",
      "execution_count": 17,
      "metadata": {
        "colab": {
          "base_uri": "https://localhost:8080/",
          "height": 206
        },
        "id": "STI2_bqBoyZT",
        "outputId": "7068b34a-9cbd-45a0-f698-658b734aed53"
      },
      "outputs": [
        {
          "data": {
            "text/html": [
              "<div>\n",
              "<style scoped>\n",
              "    .dataframe tbody tr th:only-of-type {\n",
              "        vertical-align: middle;\n",
              "    }\n",
              "\n",
              "    .dataframe tbody tr th {\n",
              "        vertical-align: top;\n",
              "    }\n",
              "\n",
              "    .dataframe thead th {\n",
              "        text-align: right;\n",
              "    }\n",
              "</style>\n",
              "<table border=\"1\" class=\"dataframe\">\n",
              "  <thead>\n",
              "    <tr style=\"text-align: right;\">\n",
              "      <th></th>\n",
              "      <th>2</th>\n",
              "      <th>3</th>\n",
              "      <th>8</th>\n",
              "      <th>9</th>\n",
              "      <th>11</th>\n",
              "      <th>15</th>\n",
              "      <th>18</th>\n",
              "      <th>31</th>\n",
              "      <th>37</th>\n",
              "      <th>39</th>\n",
              "      <th>40</th>\n",
              "      <th>43</th>\n",
              "      <th>50</th>\n",
              "      <th>57</th>\n",
              "    </tr>\n",
              "  </thead>\n",
              "  <tbody>\n",
              "    <tr>\n",
              "      <th>0</th>\n",
              "      <td>40.0</td>\n",
              "      <td>1.0</td>\n",
              "      <td>2.0</td>\n",
              "      <td>140.0</td>\n",
              "      <td>289.0</td>\n",
              "      <td>0.0</td>\n",
              "      <td>0.0</td>\n",
              "      <td>172.0</td>\n",
              "      <td>0.0</td>\n",
              "      <td>0.0</td>\n",
              "      <td>NaN</td>\n",
              "      <td>NaN</td>\n",
              "      <td>NaN</td>\n",
              "      <td>0.0</td>\n",
              "    </tr>\n",
              "    <tr>\n",
              "      <th>1</th>\n",
              "      <td>49.0</td>\n",
              "      <td>0.0</td>\n",
              "      <td>3.0</td>\n",
              "      <td>160.0</td>\n",
              "      <td>180.0</td>\n",
              "      <td>0.0</td>\n",
              "      <td>0.0</td>\n",
              "      <td>156.0</td>\n",
              "      <td>0.0</td>\n",
              "      <td>1.0</td>\n",
              "      <td>2.0</td>\n",
              "      <td>NaN</td>\n",
              "      <td>NaN</td>\n",
              "      <td>1.0</td>\n",
              "    </tr>\n",
              "    <tr>\n",
              "      <th>2</th>\n",
              "      <td>37.0</td>\n",
              "      <td>1.0</td>\n",
              "      <td>2.0</td>\n",
              "      <td>130.0</td>\n",
              "      <td>283.0</td>\n",
              "      <td>0.0</td>\n",
              "      <td>1.0</td>\n",
              "      <td>98.0</td>\n",
              "      <td>0.0</td>\n",
              "      <td>0.0</td>\n",
              "      <td>NaN</td>\n",
              "      <td>NaN</td>\n",
              "      <td>NaN</td>\n",
              "      <td>0.0</td>\n",
              "    </tr>\n",
              "    <tr>\n",
              "      <th>3</th>\n",
              "      <td>48.0</td>\n",
              "      <td>0.0</td>\n",
              "      <td>4.0</td>\n",
              "      <td>138.0</td>\n",
              "      <td>214.0</td>\n",
              "      <td>0.0</td>\n",
              "      <td>0.0</td>\n",
              "      <td>108.0</td>\n",
              "      <td>1.0</td>\n",
              "      <td>1.5</td>\n",
              "      <td>2.0</td>\n",
              "      <td>NaN</td>\n",
              "      <td>NaN</td>\n",
              "      <td>3.0</td>\n",
              "    </tr>\n",
              "    <tr>\n",
              "      <th>4</th>\n",
              "      <td>54.0</td>\n",
              "      <td>1.0</td>\n",
              "      <td>3.0</td>\n",
              "      <td>150.0</td>\n",
              "      <td>NaN</td>\n",
              "      <td>0.0</td>\n",
              "      <td>0.0</td>\n",
              "      <td>122.0</td>\n",
              "      <td>0.0</td>\n",
              "      <td>0.0</td>\n",
              "      <td>NaN</td>\n",
              "      <td>NaN</td>\n",
              "      <td>NaN</td>\n",
              "      <td>0.0</td>\n",
              "    </tr>\n",
              "  </tbody>\n",
              "</table>\n",
              "</div>"
            ],
            "text/plain": [
              "     2    3    8      9      11   15   18     31   37   39   40  43  50   57\n",
              "0  40.0  1.0  2.0  140.0  289.0  0.0  0.0  172.0  0.0  0.0  NaN NaN NaN  0.0\n",
              "1  49.0  0.0  3.0  160.0  180.0  0.0  0.0  156.0  0.0  1.0  2.0 NaN NaN  1.0\n",
              "2  37.0  1.0  2.0  130.0  283.0  0.0  1.0   98.0  0.0  0.0  NaN NaN NaN  0.0\n",
              "3  48.0  0.0  4.0  138.0  214.0  0.0  0.0  108.0  1.0  1.5  2.0 NaN NaN  3.0\n",
              "4  54.0  1.0  3.0  150.0    NaN  0.0  0.0  122.0  0.0  0.0  NaN NaN NaN  0.0"
            ]
          },
          "execution_count": 17,
          "metadata": {},
          "output_type": "execute_result"
        }
      ],
      "source": [
        "df_selected.head() # Menampilkan lima baris pertama dari DataFrame yang baru"
      ]
    },
    {
      "cell_type": "code",
      "execution_count": 18,
      "metadata": {
        "colab": {
          "base_uri": "https://localhost:8080/",
          "height": 206
        },
        "id": "8-MgC16yo5Yh",
        "outputId": "6fac7529-c7e9-405d-d83c-024e349124c8"
      },
      "outputs": [
        {
          "data": {
            "text/html": [
              "<div>\n",
              "<style scoped>\n",
              "    .dataframe tbody tr th:only-of-type {\n",
              "        vertical-align: middle;\n",
              "    }\n",
              "\n",
              "    .dataframe tbody tr th {\n",
              "        vertical-align: top;\n",
              "    }\n",
              "\n",
              "    .dataframe thead th {\n",
              "        text-align: right;\n",
              "    }\n",
              "</style>\n",
              "<table border=\"1\" class=\"dataframe\">\n",
              "  <thead>\n",
              "    <tr style=\"text-align: right;\">\n",
              "      <th></th>\n",
              "      <th>2</th>\n",
              "      <th>3</th>\n",
              "      <th>8</th>\n",
              "      <th>9</th>\n",
              "      <th>11</th>\n",
              "      <th>15</th>\n",
              "      <th>18</th>\n",
              "      <th>31</th>\n",
              "      <th>37</th>\n",
              "      <th>39</th>\n",
              "      <th>40</th>\n",
              "      <th>43</th>\n",
              "      <th>50</th>\n",
              "      <th>57</th>\n",
              "    </tr>\n",
              "  </thead>\n",
              "  <tbody>\n",
              "    <tr>\n",
              "      <th>289</th>\n",
              "      <td>48.0</td>\n",
              "      <td>0.0</td>\n",
              "      <td>2.0</td>\n",
              "      <td>NaN</td>\n",
              "      <td>308.0</td>\n",
              "      <td>0.0</td>\n",
              "      <td>1.0</td>\n",
              "      <td>NaN</td>\n",
              "      <td>NaN</td>\n",
              "      <td>2.0</td>\n",
              "      <td>1.0</td>\n",
              "      <td>NaN</td>\n",
              "      <td>NaN</td>\n",
              "      <td>0.0</td>\n",
              "    </tr>\n",
              "    <tr>\n",
              "      <th>290</th>\n",
              "      <td>36.0</td>\n",
              "      <td>1.0</td>\n",
              "      <td>2.0</td>\n",
              "      <td>120.0</td>\n",
              "      <td>166.0</td>\n",
              "      <td>0.0</td>\n",
              "      <td>0.0</td>\n",
              "      <td>180.0</td>\n",
              "      <td>0.0</td>\n",
              "      <td>0.0</td>\n",
              "      <td>NaN</td>\n",
              "      <td>NaN</td>\n",
              "      <td>NaN</td>\n",
              "      <td>0.0</td>\n",
              "    </tr>\n",
              "    <tr>\n",
              "      <th>291</th>\n",
              "      <td>48.0</td>\n",
              "      <td>1.0</td>\n",
              "      <td>3.0</td>\n",
              "      <td>110.0</td>\n",
              "      <td>211.0</td>\n",
              "      <td>0.0</td>\n",
              "      <td>0.0</td>\n",
              "      <td>138.0</td>\n",
              "      <td>0.0</td>\n",
              "      <td>0.0</td>\n",
              "      <td>NaN</td>\n",
              "      <td>NaN</td>\n",
              "      <td>6.0</td>\n",
              "      <td>0.0</td>\n",
              "    </tr>\n",
              "    <tr>\n",
              "      <th>292</th>\n",
              "      <td>47.0</td>\n",
              "      <td>0.0</td>\n",
              "      <td>2.0</td>\n",
              "      <td>140.0</td>\n",
              "      <td>257.0</td>\n",
              "      <td>0.0</td>\n",
              "      <td>0.0</td>\n",
              "      <td>135.0</td>\n",
              "      <td>0.0</td>\n",
              "      <td>1.0</td>\n",
              "      <td>1.0</td>\n",
              "      <td>NaN</td>\n",
              "      <td>NaN</td>\n",
              "      <td>0.0</td>\n",
              "    </tr>\n",
              "    <tr>\n",
              "      <th>293</th>\n",
              "      <td>53.0</td>\n",
              "      <td>1.0</td>\n",
              "      <td>4.0</td>\n",
              "      <td>130.0</td>\n",
              "      <td>182.0</td>\n",
              "      <td>0.0</td>\n",
              "      <td>0.0</td>\n",
              "      <td>148.0</td>\n",
              "      <td>0.0</td>\n",
              "      <td>0.0</td>\n",
              "      <td>NaN</td>\n",
              "      <td>NaN</td>\n",
              "      <td>NaN</td>\n",
              "      <td>0.0</td>\n",
              "    </tr>\n",
              "  </tbody>\n",
              "</table>\n",
              "</div>"
            ],
            "text/plain": [
              "       2    3    8      9      11   15   18     31   37   39   40  43   50  \\\n",
              "289  48.0  0.0  2.0    NaN  308.0  0.0  1.0    NaN  NaN  2.0  1.0 NaN  NaN   \n",
              "290  36.0  1.0  2.0  120.0  166.0  0.0  0.0  180.0  0.0  0.0  NaN NaN  NaN   \n",
              "291  48.0  1.0  3.0  110.0  211.0  0.0  0.0  138.0  0.0  0.0  NaN NaN  6.0   \n",
              "292  47.0  0.0  2.0  140.0  257.0  0.0  0.0  135.0  0.0  1.0  1.0 NaN  NaN   \n",
              "293  53.0  1.0  4.0  130.0  182.0  0.0  0.0  148.0  0.0  0.0  NaN NaN  NaN   \n",
              "\n",
              "      57  \n",
              "289  0.0  \n",
              "290  0.0  \n",
              "291  0.0  \n",
              "292  0.0  \n",
              "293  0.0  "
            ]
          },
          "execution_count": 18,
          "metadata": {},
          "output_type": "execute_result"
        }
      ],
      "source": [
        "df_selected.tail() # Menampilkan lima baris terakhir dari DataFrame yang baru"
      ]
    },
    {
      "cell_type": "code",
      "execution_count": 19,
      "metadata": {
        "colab": {
          "base_uri": "https://localhost:8080/"
        },
        "id": "CvfUFfsVo8ID",
        "outputId": "9191fdcc-3110-49e4-adc5-91d9fe4dc4d3"
      },
      "outputs": [
        {
          "name": "stdout",
          "output_type": "stream",
          "text": [
            "<class 'pandas.core.frame.DataFrame'>\n",
            "RangeIndex: 294 entries, 0 to 293\n",
            "Data columns (total 14 columns):\n",
            " #   Column  Non-Null Count  Dtype  \n",
            "---  ------  --------------  -----  \n",
            " 0   2       294 non-null    float64\n",
            " 1   3       294 non-null    float64\n",
            " 2   8       294 non-null    float64\n",
            " 3   9       293 non-null    float64\n",
            " 4   11      271 non-null    float64\n",
            " 5   15      286 non-null    float64\n",
            " 6   18      293 non-null    float64\n",
            " 7   31      293 non-null    float64\n",
            " 8   37      293 non-null    float64\n",
            " 9   39      294 non-null    float64\n",
            " 10  40      104 non-null    float64\n",
            " 11  43      4 non-null      float64\n",
            " 12  50      28 non-null     float64\n",
            " 13  57      294 non-null    float64\n",
            "dtypes: float64(14)\n",
            "memory usage: 32.3 KB\n"
          ]
        }
      ],
      "source": [
        "df_selected.info() # Menampilkan informasi terkait DataFrame yang baru"
      ]
    },
    {
      "cell_type": "code",
      "execution_count": 20,
      "metadata": {
        "id": "u7VrFxo0pCK6"
      },
      "outputs": [],
      "source": [
        "# Membuat mapping untuk mengganti nama kolom dengan menggunakan dictionary\n",
        "columns_mapping ={\n",
        "    2: 'age',\n",
        "    3: 'sex',\n",
        "    8: 'cp',\n",
        "    9: 'trestbps',\n",
        "    11: 'chol',\n",
        "    15: 'fbs',\n",
        "    18: 'restecg',\n",
        "    31: 'thalach',\n",
        "    37: 'exang',\n",
        "    39: 'oldpeak',\n",
        "    40: 'slope',\n",
        "    43: 'ca',\n",
        "    50: 'thal',\n",
        "    57: 'target'\n",
        "}"
      ]
    },
    {
      "cell_type": "code",
      "execution_count": 21,
      "metadata": {
        "colab": {
          "base_uri": "https://localhost:8080/"
        },
        "id": "m2H8bxE0p1lI",
        "outputId": "26d0a145-272d-4311-ad55-9a2e6e235808"
      },
      "outputs": [
        {
          "name": "stderr",
          "output_type": "stream",
          "text": [
            "C:\\Users\\Administrator\\AppData\\Local\\Temp\\ipykernel_11124\\3003207822.py:1: SettingWithCopyWarning: \n",
            "A value is trying to be set on a copy of a slice from a DataFrame\n",
            "\n",
            "See the caveats in the documentation: https://pandas.pydata.org/pandas-docs/stable/user_guide/indexing.html#returning-a-view-versus-a-copy\n",
            "  df_selected.rename(columns=columns_mapping, inplace=True) # Mengganti nama kolom menggunakan mapping yang telah dibuat\n"
          ]
        }
      ],
      "source": [
        "df_selected.rename(columns=columns_mapping, inplace=True) # Mengganti nama kolom menggunakan mapping yang telah dibuat"
      ]
    },
    {
      "cell_type": "code",
      "execution_count": 22,
      "metadata": {
        "colab": {
          "base_uri": "https://localhost:8080/"
        },
        "id": "w9YB5hP6qE6f",
        "outputId": "54ff7b3b-add4-4c05-9086-340c3a641fe6"
      },
      "outputs": [
        {
          "name": "stdout",
          "output_type": "stream",
          "text": [
            "<class 'pandas.core.frame.DataFrame'>\n",
            "RangeIndex: 294 entries, 0 to 293\n",
            "Data columns (total 14 columns):\n",
            " #   Column    Non-Null Count  Dtype  \n",
            "---  ------    --------------  -----  \n",
            " 0   age       294 non-null    float64\n",
            " 1   sex       294 non-null    float64\n",
            " 2   cp        294 non-null    float64\n",
            " 3   trestbps  293 non-null    float64\n",
            " 4   chol      271 non-null    float64\n",
            " 5   fbs       286 non-null    float64\n",
            " 6   restecg   293 non-null    float64\n",
            " 7   thalach   293 non-null    float64\n",
            " 8   exang     293 non-null    float64\n",
            " 9   oldpeak   294 non-null    float64\n",
            " 10  slope     104 non-null    float64\n",
            " 11  ca        4 non-null      float64\n",
            " 12  thal      28 non-null     float64\n",
            " 13  target    294 non-null    float64\n",
            "dtypes: float64(14)\n",
            "memory usage: 32.3 KB\n"
          ]
        }
      ],
      "source": [
        "df_selected.info() # Menampilkan informasi terkait DataFrame yang baru setelah mengganti nama kolom"
      ]
    },
    {
      "cell_type": "code",
      "execution_count": 23,
      "metadata": {
        "colab": {
          "base_uri": "https://localhost:8080/"
        },
        "id": "9KgWTvXwokdy",
        "outputId": "1b0bebcb-1ee5-4627-c62d-c35c61931f3b"
      },
      "outputs": [
        {
          "data": {
            "text/plain": [
              "age   sex  cp   trestbps  chol   fbs  restecg  thalach  exang  oldpeak  slope  ca   thal  target\n",
              "47.0  1.0  4.0  150.0     226.0  0.0  0.0      98.0     1.0    1.5      2.0    0.0  7.0   1.0       1\n",
              "dtype: int64"
            ]
          },
          "execution_count": 23,
          "metadata": {},
          "output_type": "execute_result"
        }
      ],
      "source": [
        "df_selected.value_counts() #menghitung jumlah fitur pada dataset"
      ]
    },
    {
      "cell_type": "markdown",
      "metadata": {
        "id": "QtQBsx0lpGQh"
      },
      "source": [
        "# **MEMBERSIHKAN DATA**"
      ]
    },
    {
      "cell_type": "markdown",
      "metadata": {
        "id": "yyQdsHpYpM2z"
      },
      "source": [
        "Sebelum melakukan pemodelan dilakukan pembersihan data agar model yang dihasilkan lebih akurat\n",
        "menghitung jumlah null values yang ada diddalam dataset"
      ]
    },
    {
      "cell_type": "code",
      "execution_count": 24,
      "metadata": {
        "colab": {
          "base_uri": "https://localhost:8080/"
        },
        "id": "aj-_zjWNqJIs",
        "outputId": "50a3c6bc-8d00-4f09-fb3f-2bacad044d62"
      },
      "outputs": [
        {
          "data": {
            "text/plain": [
              "age           0\n",
              "sex           0\n",
              "cp            0\n",
              "trestbps      1\n",
              "chol         23\n",
              "fbs           8\n",
              "restecg       1\n",
              "thalach       1\n",
              "exang         1\n",
              "oldpeak       0\n",
              "slope       190\n",
              "ca          290\n",
              "thal        266\n",
              "target        0\n",
              "dtype: int64"
            ]
          },
          "execution_count": 24,
          "metadata": {},
          "output_type": "execute_result"
        }
      ],
      "source": [
        "df_selected.isnull().sum() # Menghitung jumlah nilai null (NaN) dalam setiap kolom DataFrame yang baru"
      ]
    },
    {
      "cell_type": "code",
      "execution_count": 25,
      "metadata": {
        "id": "_0rl5fElqQok"
      },
      "outputs": [],
      "source": [
        "columns_to_drop = ['ca', 'slope','thal'] # Menentukan kolom-kolom yang akan dihapus\n",
        "df_selected = df_selected.drop(columns_to_drop, axis=1) # Menghapus kolom-kolom yang telah ditentukan"
      ]
    },
    {
      "cell_type": "code",
      "execution_count": 26,
      "metadata": {
        "colab": {
          "base_uri": "https://localhost:8080/"
        },
        "id": "BMkaCj5AaF0T",
        "outputId": "c177d9fb-d5ec-4ffc-e1dd-8a240db20533"
      },
      "outputs": [
        {
          "data": {
            "text/plain": [
              "age          0\n",
              "sex          0\n",
              "cp           0\n",
              "trestbps     1\n",
              "chol        23\n",
              "fbs          8\n",
              "restecg      1\n",
              "thalach      1\n",
              "exang        1\n",
              "oldpeak      0\n",
              "target       0\n",
              "dtype: int64"
            ]
          },
          "execution_count": 26,
          "metadata": {},
          "output_type": "execute_result"
        }
      ],
      "source": [
        "df_selected.isnull().sum() # Menghitung jumlah nilai null (NaN) dalam setiap kolom DataFrame yang baru setelah penghapusan kolom"
      ]
    },
    {
      "cell_type": "markdown",
      "metadata": {
        "id": "ZYGtHmrjamYY"
      },
      "source": [
        "Dikarenakan masih ada nilai null dibeberapa kolom fitur maka akan dilakukan pengisian nilai null menggunakan nilai mean di setiap kolomnya"
      ]
    },
    {
      "cell_type": "code",
      "execution_count": 27,
      "metadata": {
        "id": "xzHUusSuqr2M"
      },
      "outputs": [],
      "source": [
        "meanTBPS = df_selected['trestbps'].dropna() # Mengambil kolom 'trestbps' dan menghapus nilai null (NaN)\n",
        "meanChol = df_selected['chol'].dropna() # Mengambil kolom 'chol' dan menghapus nilai null (NaN)\n",
        "meanfbs = df_selected['fbs'].dropna() # Mengambil kolom 'fbs' dan menghapus nilai null (NaN)\n",
        "meanRestCG = df_selected['restecg'].dropna() # Mengambil kolom 'restecg' dan menghapus nilai null (NaN)\n",
        "meanthalach = df_selected['thalach'].dropna() # Mengambil kolom 'thalach' dan menghapus nilai null (NaN)\n",
        "meanexang = df_selected['exang'].dropna() # Mengambil kolom 'exang' dan menghapus nilai null (NaN)"
      ]
    },
    {
      "cell_type": "code",
      "execution_count": 28,
      "metadata": {
        "id": "ESEGkGVUaJBq"
      },
      "outputs": [],
      "source": [
        "# Mengonversi nilai-nilai yang diambil menjadi tipe data float\n",
        "meanTBPS = meanTBPS.astype(float)\n",
        "meanChol = meanChol.astype(float)\n",
        "meanfbs = meanfbs.astype(float)\n",
        "meanthalach = meanthalach.astype(float)\n",
        "meanexang = meanexang.astype(float)\n",
        "meanRestCG = meanRestCG.astype(float)"
      ]
    },
    {
      "cell_type": "code",
      "execution_count": 29,
      "metadata": {
        "id": "gPEE6x9faLbv"
      },
      "outputs": [],
      "source": [
        "# Menghitung nilai mean dan membulatkannya\n",
        "meanTBPS = round(meanTBPS.mean())\n",
        "meanChol = round(meanChol.mean())\n",
        "meanfbs = round(meanfbs.mean())\n",
        "meanthalach = round(meanthalach.mean())\n",
        "meanexang = round(meanexang.mean())\n",
        "meanRestCG = round(meanRestCG.mean())"
      ]
    },
    {
      "cell_type": "markdown",
      "metadata": {
        "id": "BgAkk5VaapNg"
      },
      "source": [
        "mengubah nilai null menjadi nilai mean yang sudah ditentukan sebelumnya"
      ]
    },
    {
      "cell_type": "code",
      "execution_count": 30,
      "metadata": {
        "colab": {
          "base_uri": "https://localhost:8080/"
        },
        "id": "7rdy90n8aPJN",
        "outputId": "695360d5-322e-4ab9-8d32-f51f3e896ca1"
      },
      "outputs": [
        {
          "name": "stdout",
          "output_type": "stream",
          "text": [
            "<class 'pandas.core.frame.DataFrame'>\n",
            "RangeIndex: 294 entries, 0 to 293\n",
            "Data columns (total 11 columns):\n",
            " #   Column    Non-Null Count  Dtype  \n",
            "---  ------    --------------  -----  \n",
            " 0   age       294 non-null    float64\n",
            " 1   sex       294 non-null    float64\n",
            " 2   cp        294 non-null    float64\n",
            " 3   trestbps  294 non-null    float64\n",
            " 4   chol      294 non-null    float64\n",
            " 5   fbs       294 non-null    float64\n",
            " 6   restecg   294 non-null    float64\n",
            " 7   thalach   294 non-null    float64\n",
            " 8   exang     294 non-null    float64\n",
            " 9   oldpeak   294 non-null    float64\n",
            " 10  target    294 non-null    float64\n",
            "dtypes: float64(11)\n",
            "memory usage: 25.4 KB\n"
          ]
        }
      ],
      "source": [
        "fill_values = {'trestbps': meanTBPS, 'chol': meanChol, 'fbs': meanfbs, 'thalach':meanthalach,'exang':meanexang,'restecg':meanRestCG} # Membuat dictionary untuk nilai rata-rata yang akan digunakan untuk mengisi nilai null (NaN)\n",
        "dfClean = df_selected.fillna(value=fill_values) # Mengisi nilai null (NaN) dalam DataFrame dengan nilai rata-rata yang telah dihitung\n",
        "dfClean.info() # Menampilkan informasi terkait DataFrame yang bersih setelah pengisian nilai null"
      ]
    },
    {
      "cell_type": "code",
      "execution_count": 31,
      "metadata": {
        "colab": {
          "base_uri": "https://localhost:8080/"
        },
        "id": "e_nQa7PKaRB2",
        "outputId": "c0f6240d-2a6c-40d5-d922-4cd31ea0d73a"
      },
      "outputs": [
        {
          "data": {
            "text/plain": [
              "age         0\n",
              "sex         0\n",
              "cp          0\n",
              "trestbps    0\n",
              "chol        0\n",
              "fbs         0\n",
              "restecg     0\n",
              "thalach     0\n",
              "exang       0\n",
              "oldpeak     0\n",
              "target      0\n",
              "dtype: int64"
            ]
          },
          "execution_count": 31,
          "metadata": {},
          "output_type": "execute_result"
        }
      ],
      "source": [
        "dfClean.isnull().sum() # Menghitung jumlah nilai null (NaN) dalam setiap kolom DataFrame yang bersih"
      ]
    },
    {
      "cell_type": "markdown",
      "metadata": {
        "id": "SmRISodNatEV"
      },
      "source": [
        "melalukan pengecekan terhadap duplikaksi data"
      ]
    },
    {
      "cell_type": "code",
      "execution_count": 32,
      "metadata": {
        "colab": {
          "base_uri": "https://localhost:8080/",
          "height": 80
        },
        "id": "0IqbFnvLaS-f",
        "outputId": "8446ba9f-dcea-47d5-f949-5df376198bdf"
      },
      "outputs": [
        {
          "data": {
            "text/html": [
              "<div>\n",
              "<style scoped>\n",
              "    .dataframe tbody tr th:only-of-type {\n",
              "        vertical-align: middle;\n",
              "    }\n",
              "\n",
              "    .dataframe tbody tr th {\n",
              "        vertical-align: top;\n",
              "    }\n",
              "\n",
              "    .dataframe thead th {\n",
              "        text-align: right;\n",
              "    }\n",
              "</style>\n",
              "<table border=\"1\" class=\"dataframe\">\n",
              "  <thead>\n",
              "    <tr style=\"text-align: right;\">\n",
              "      <th></th>\n",
              "      <th>age</th>\n",
              "      <th>sex</th>\n",
              "      <th>cp</th>\n",
              "      <th>trestbps</th>\n",
              "      <th>chol</th>\n",
              "      <th>fbs</th>\n",
              "      <th>restecg</th>\n",
              "      <th>thalach</th>\n",
              "      <th>exang</th>\n",
              "      <th>oldpeak</th>\n",
              "      <th>target</th>\n",
              "    </tr>\n",
              "  </thead>\n",
              "  <tbody>\n",
              "    <tr>\n",
              "      <th>163</th>\n",
              "      <td>49.0</td>\n",
              "      <td>0.0</td>\n",
              "      <td>2.0</td>\n",
              "      <td>110.0</td>\n",
              "      <td>251.0</td>\n",
              "      <td>0.0</td>\n",
              "      <td>0.0</td>\n",
              "      <td>160.0</td>\n",
              "      <td>0.0</td>\n",
              "      <td>0.0</td>\n",
              "      <td>0.0</td>\n",
              "    </tr>\n",
              "  </tbody>\n",
              "</table>\n",
              "</div>"
            ],
            "text/plain": [
              "      age  sex   cp  trestbps   chol  fbs  restecg  thalach  exang  oldpeak  \\\n",
              "163  49.0  0.0  2.0     110.0  251.0  0.0      0.0    160.0    0.0      0.0   \n",
              "\n",
              "     target  \n",
              "163     0.0  "
            ]
          },
          "execution_count": 32,
          "metadata": {},
          "output_type": "execute_result"
        }
      ],
      "source": [
        "duplicate_rows = dfClean.duplicated() # Membuat DataFrame boolean yang menunjukkan baris mana yang merupakan duplikat\n",
        "dfClean[duplicate_rows] # Menampilkan baris-baris yang merupakan duplikat"
      ]
    },
    {
      "cell_type": "code",
      "execution_count": 33,
      "metadata": {
        "colab": {
          "base_uri": "https://localhost:8080/",
          "height": 130
        },
        "id": "0Fza0ds6aVEb",
        "outputId": "f66f1f1d-8a2f-4d53-8109-22a94fae1859"
      },
      "outputs": [
        {
          "name": "stdout",
          "output_type": "stream",
          "text": [
            "All Duplicate Rows:\n"
          ]
        },
        {
          "data": {
            "text/html": [
              "<div>\n",
              "<style scoped>\n",
              "    .dataframe tbody tr th:only-of-type {\n",
              "        vertical-align: middle;\n",
              "    }\n",
              "\n",
              "    .dataframe tbody tr th {\n",
              "        vertical-align: top;\n",
              "    }\n",
              "\n",
              "    .dataframe thead th {\n",
              "        text-align: right;\n",
              "    }\n",
              "</style>\n",
              "<table border=\"1\" class=\"dataframe\">\n",
              "  <thead>\n",
              "    <tr style=\"text-align: right;\">\n",
              "      <th></th>\n",
              "      <th>age</th>\n",
              "      <th>sex</th>\n",
              "      <th>cp</th>\n",
              "      <th>trestbps</th>\n",
              "      <th>chol</th>\n",
              "      <th>fbs</th>\n",
              "      <th>restecg</th>\n",
              "      <th>thalach</th>\n",
              "      <th>exang</th>\n",
              "      <th>oldpeak</th>\n",
              "      <th>target</th>\n",
              "    </tr>\n",
              "  </thead>\n",
              "  <tbody>\n",
              "    <tr>\n",
              "      <th>90</th>\n",
              "      <td>49.0</td>\n",
              "      <td>0.0</td>\n",
              "      <td>2.0</td>\n",
              "      <td>110.0</td>\n",
              "      <td>251.0</td>\n",
              "      <td>0.0</td>\n",
              "      <td>0.0</td>\n",
              "      <td>160.0</td>\n",
              "      <td>0.0</td>\n",
              "      <td>0.0</td>\n",
              "      <td>0.0</td>\n",
              "    </tr>\n",
              "    <tr>\n",
              "      <th>163</th>\n",
              "      <td>49.0</td>\n",
              "      <td>0.0</td>\n",
              "      <td>2.0</td>\n",
              "      <td>110.0</td>\n",
              "      <td>251.0</td>\n",
              "      <td>0.0</td>\n",
              "      <td>0.0</td>\n",
              "      <td>160.0</td>\n",
              "      <td>0.0</td>\n",
              "      <td>0.0</td>\n",
              "      <td>0.0</td>\n",
              "    </tr>\n",
              "  </tbody>\n",
              "</table>\n",
              "</div>"
            ],
            "text/plain": [
              "      age  sex   cp  trestbps   chol  fbs  restecg  thalach  exang  oldpeak  \\\n",
              "90   49.0  0.0  2.0     110.0  251.0  0.0      0.0    160.0    0.0      0.0   \n",
              "163  49.0  0.0  2.0     110.0  251.0  0.0      0.0    160.0    0.0      0.0   \n",
              "\n",
              "     target  \n",
              "90      0.0  \n",
              "163     0.0  "
            ]
          },
          "execution_count": 33,
          "metadata": {},
          "output_type": "execute_result"
        }
      ],
      "source": [
        "# Menampilkan semua baris yang merupakan duplikat (menggunakan keep=False)\n",
        "print(\"All Duplicate Rows:\")\n",
        "dfClean[dfClean.duplicated(keep=False)]"
      ]
    },
    {
      "cell_type": "markdown",
      "metadata": {
        "id": "6_J4ALO0axGV"
      },
      "source": [
        "Menghapus data yang memiliki duplikat"
      ]
    },
    {
      "cell_type": "code",
      "execution_count": 34,
      "metadata": {
        "colab": {
          "base_uri": "https://localhost:8080/",
          "height": 71
        },
        "id": "ln1boArGaXGi",
        "outputId": "07701326-15f3-4aad-a00e-95c47944ca06"
      },
      "outputs": [
        {
          "name": "stdout",
          "output_type": "stream",
          "text": [
            "All Duplicate Rows:\n"
          ]
        },
        {
          "data": {
            "text/html": [
              "<div>\n",
              "<style scoped>\n",
              "    .dataframe tbody tr th:only-of-type {\n",
              "        vertical-align: middle;\n",
              "    }\n",
              "\n",
              "    .dataframe tbody tr th {\n",
              "        vertical-align: top;\n",
              "    }\n",
              "\n",
              "    .dataframe thead th {\n",
              "        text-align: right;\n",
              "    }\n",
              "</style>\n",
              "<table border=\"1\" class=\"dataframe\">\n",
              "  <thead>\n",
              "    <tr style=\"text-align: right;\">\n",
              "      <th></th>\n",
              "      <th>age</th>\n",
              "      <th>sex</th>\n",
              "      <th>cp</th>\n",
              "      <th>trestbps</th>\n",
              "      <th>chol</th>\n",
              "      <th>fbs</th>\n",
              "      <th>restecg</th>\n",
              "      <th>thalach</th>\n",
              "      <th>exang</th>\n",
              "      <th>oldpeak</th>\n",
              "      <th>target</th>\n",
              "    </tr>\n",
              "  </thead>\n",
              "  <tbody>\n",
              "  </tbody>\n",
              "</table>\n",
              "</div>"
            ],
            "text/plain": [
              "Empty DataFrame\n",
              "Columns: [age, sex, cp, trestbps, chol, fbs, restecg, thalach, exang, oldpeak, target]\n",
              "Index: []"
            ]
          },
          "execution_count": 34,
          "metadata": {},
          "output_type": "execute_result"
        }
      ],
      "source": [
        "dfClean = dfClean.drop_duplicates() # Menghapus baris-baris yang merupakan duplikat dari DataFrame\n",
        "# Menampilkan semua baris yang merupakan duplikat setelah penghapusan (menggunakan keep=False)\n",
        "print(\"All Duplicate Rows:\")\n",
        "dfClean[dfClean.duplicated(keep=False)]"
      ]
    },
    {
      "cell_type": "code",
      "execution_count": 35,
      "metadata": {
        "colab": {
          "base_uri": "https://localhost:8080/",
          "height": 206
        },
        "id": "ryJFXNImaZBB",
        "outputId": "f7cc1bcc-16d7-49e8-c71e-5ae74908623f"
      },
      "outputs": [
        {
          "data": {
            "text/html": [
              "<div>\n",
              "<style scoped>\n",
              "    .dataframe tbody tr th:only-of-type {\n",
              "        vertical-align: middle;\n",
              "    }\n",
              "\n",
              "    .dataframe tbody tr th {\n",
              "        vertical-align: top;\n",
              "    }\n",
              "\n",
              "    .dataframe thead th {\n",
              "        text-align: right;\n",
              "    }\n",
              "</style>\n",
              "<table border=\"1\" class=\"dataframe\">\n",
              "  <thead>\n",
              "    <tr style=\"text-align: right;\">\n",
              "      <th></th>\n",
              "      <th>age</th>\n",
              "      <th>sex</th>\n",
              "      <th>cp</th>\n",
              "      <th>trestbps</th>\n",
              "      <th>chol</th>\n",
              "      <th>fbs</th>\n",
              "      <th>restecg</th>\n",
              "      <th>thalach</th>\n",
              "      <th>exang</th>\n",
              "      <th>oldpeak</th>\n",
              "      <th>target</th>\n",
              "    </tr>\n",
              "  </thead>\n",
              "  <tbody>\n",
              "    <tr>\n",
              "      <th>0</th>\n",
              "      <td>40.0</td>\n",
              "      <td>1.0</td>\n",
              "      <td>2.0</td>\n",
              "      <td>140.0</td>\n",
              "      <td>289.0</td>\n",
              "      <td>0.0</td>\n",
              "      <td>0.0</td>\n",
              "      <td>172.0</td>\n",
              "      <td>0.0</td>\n",
              "      <td>0.0</td>\n",
              "      <td>0.0</td>\n",
              "    </tr>\n",
              "    <tr>\n",
              "      <th>1</th>\n",
              "      <td>49.0</td>\n",
              "      <td>0.0</td>\n",
              "      <td>3.0</td>\n",
              "      <td>160.0</td>\n",
              "      <td>180.0</td>\n",
              "      <td>0.0</td>\n",
              "      <td>0.0</td>\n",
              "      <td>156.0</td>\n",
              "      <td>0.0</td>\n",
              "      <td>1.0</td>\n",
              "      <td>1.0</td>\n",
              "    </tr>\n",
              "    <tr>\n",
              "      <th>2</th>\n",
              "      <td>37.0</td>\n",
              "      <td>1.0</td>\n",
              "      <td>2.0</td>\n",
              "      <td>130.0</td>\n",
              "      <td>283.0</td>\n",
              "      <td>0.0</td>\n",
              "      <td>1.0</td>\n",
              "      <td>98.0</td>\n",
              "      <td>0.0</td>\n",
              "      <td>0.0</td>\n",
              "      <td>0.0</td>\n",
              "    </tr>\n",
              "    <tr>\n",
              "      <th>3</th>\n",
              "      <td>48.0</td>\n",
              "      <td>0.0</td>\n",
              "      <td>4.0</td>\n",
              "      <td>138.0</td>\n",
              "      <td>214.0</td>\n",
              "      <td>0.0</td>\n",
              "      <td>0.0</td>\n",
              "      <td>108.0</td>\n",
              "      <td>1.0</td>\n",
              "      <td>1.5</td>\n",
              "      <td>3.0</td>\n",
              "    </tr>\n",
              "    <tr>\n",
              "      <th>4</th>\n",
              "      <td>54.0</td>\n",
              "      <td>1.0</td>\n",
              "      <td>3.0</td>\n",
              "      <td>150.0</td>\n",
              "      <td>251.0</td>\n",
              "      <td>0.0</td>\n",
              "      <td>0.0</td>\n",
              "      <td>122.0</td>\n",
              "      <td>0.0</td>\n",
              "      <td>0.0</td>\n",
              "      <td>0.0</td>\n",
              "    </tr>\n",
              "  </tbody>\n",
              "</table>\n",
              "</div>"
            ],
            "text/plain": [
              "    age  sex   cp  trestbps   chol  fbs  restecg  thalach  exang  oldpeak  \\\n",
              "0  40.0  1.0  2.0     140.0  289.0  0.0      0.0    172.0    0.0      0.0   \n",
              "1  49.0  0.0  3.0     160.0  180.0  0.0      0.0    156.0    0.0      1.0   \n",
              "2  37.0  1.0  2.0     130.0  283.0  0.0      1.0     98.0    0.0      0.0   \n",
              "3  48.0  0.0  4.0     138.0  214.0  0.0      0.0    108.0    1.0      1.5   \n",
              "4  54.0  1.0  3.0     150.0  251.0  0.0      0.0    122.0    0.0      0.0   \n",
              "\n",
              "   target  \n",
              "0     0.0  \n",
              "1     1.0  \n",
              "2     0.0  \n",
              "3     3.0  \n",
              "4     0.0  "
            ]
          },
          "execution_count": 35,
          "metadata": {},
          "output_type": "execute_result"
        }
      ],
      "source": [
        "dfClean.head() # Menampilkan lima baris pertama dari DataFrame yang bersih"
      ]
    },
    {
      "cell_type": "code",
      "execution_count": 36,
      "metadata": {
        "colab": {
          "base_uri": "https://localhost:8080/"
        },
        "id": "54CV3mQvaaiJ",
        "outputId": "8108dbba-9aaa-4933-f99b-284aa410097d"
      },
      "outputs": [
        {
          "data": {
            "text/plain": [
              "0.0    187\n",
              "1.0     37\n",
              "3.0     28\n",
              "2.0     26\n",
              "4.0     15\n",
              "Name: target, dtype: int64"
            ]
          },
          "execution_count": 36,
          "metadata": {},
          "output_type": "execute_result"
        }
      ],
      "source": [
        "dfClean['target'].value_counts() # Menampilkan jumlah nilai unik dalam kolom 'target'"
      ]
    },
    {
      "cell_type": "markdown",
      "metadata": {
        "id": "vpaNpymFa1Iv"
      },
      "source": [
        "Mencari korelasi antar fitur"
      ]
    },
    {
      "cell_type": "code",
      "execution_count": 37,
      "metadata": {
        "id": "dpsVTV8Xac63"
      },
      "outputs": [],
      "source": [
        "import seaborn as sns # Mengimport modul Seaborn sebagai sns\n",
        "import matplotlib.pyplot as plt # Mengimport modul Matplotlib sebagai plt"
      ]
    },
    {
      "cell_type": "code",
      "execution_count": 38,
      "metadata": {
        "colab": {
          "base_uri": "https://localhost:8080/",
          "height": 394
        },
        "id": "NBZA1Eebae1X",
        "outputId": "a4e378f0-db54-4cb3-84f0-873b3e4e389e"
      },
      "outputs": [
        {
          "data": {
            "text/html": [
              "<div>\n",
              "<style scoped>\n",
              "    .dataframe tbody tr th:only-of-type {\n",
              "        vertical-align: middle;\n",
              "    }\n",
              "\n",
              "    .dataframe tbody tr th {\n",
              "        vertical-align: top;\n",
              "    }\n",
              "\n",
              "    .dataframe thead th {\n",
              "        text-align: right;\n",
              "    }\n",
              "</style>\n",
              "<table border=\"1\" class=\"dataframe\">\n",
              "  <thead>\n",
              "    <tr style=\"text-align: right;\">\n",
              "      <th></th>\n",
              "      <th>age</th>\n",
              "      <th>sex</th>\n",
              "      <th>cp</th>\n",
              "      <th>trestbps</th>\n",
              "      <th>chol</th>\n",
              "      <th>fbs</th>\n",
              "      <th>restecg</th>\n",
              "      <th>thalach</th>\n",
              "      <th>exang</th>\n",
              "      <th>oldpeak</th>\n",
              "      <th>target</th>\n",
              "    </tr>\n",
              "  </thead>\n",
              "  <tbody>\n",
              "    <tr>\n",
              "      <th>age</th>\n",
              "      <td>1.000000</td>\n",
              "      <td>0.014516</td>\n",
              "      <td>0.146616</td>\n",
              "      <td>0.246571</td>\n",
              "      <td>0.087101</td>\n",
              "      <td>0.181130</td>\n",
              "      <td>0.050672</td>\n",
              "      <td>-0.460514</td>\n",
              "      <td>0.239223</td>\n",
              "      <td>0.178172</td>\n",
              "      <td>0.210429</td>\n",
              "    </tr>\n",
              "    <tr>\n",
              "      <th>sex</th>\n",
              "      <td>0.014516</td>\n",
              "      <td>1.000000</td>\n",
              "      <td>0.245769</td>\n",
              "      <td>0.082064</td>\n",
              "      <td>0.027695</td>\n",
              "      <td>0.044372</td>\n",
              "      <td>-0.108656</td>\n",
              "      <td>-0.106959</td>\n",
              "      <td>0.154925</td>\n",
              "      <td>0.115959</td>\n",
              "      <td>0.220732</td>\n",
              "    </tr>\n",
              "    <tr>\n",
              "      <th>cp</th>\n",
              "      <td>0.146616</td>\n",
              "      <td>0.245769</td>\n",
              "      <td>1.000000</td>\n",
              "      <td>0.081293</td>\n",
              "      <td>0.134697</td>\n",
              "      <td>0.031930</td>\n",
              "      <td>-0.016372</td>\n",
              "      <td>-0.367819</td>\n",
              "      <td>0.494674</td>\n",
              "      <td>0.351735</td>\n",
              "      <td>0.427536</td>\n",
              "    </tr>\n",
              "    <tr>\n",
              "      <th>trestbps</th>\n",
              "      <td>0.246571</td>\n",
              "      <td>0.082064</td>\n",
              "      <td>0.081293</td>\n",
              "      <td>1.000000</td>\n",
              "      <td>0.080818</td>\n",
              "      <td>0.096222</td>\n",
              "      <td>0.011256</td>\n",
              "      <td>-0.181824</td>\n",
              "      <td>0.211507</td>\n",
              "      <td>0.204000</td>\n",
              "      <td>0.214898</td>\n",
              "    </tr>\n",
              "    <tr>\n",
              "      <th>chol</th>\n",
              "      <td>0.087101</td>\n",
              "      <td>0.027695</td>\n",
              "      <td>0.134697</td>\n",
              "      <td>0.080818</td>\n",
              "      <td>1.000000</td>\n",
              "      <td>0.107686</td>\n",
              "      <td>0.048081</td>\n",
              "      <td>-0.122038</td>\n",
              "      <td>0.161055</td>\n",
              "      <td>0.106743</td>\n",
              "      <td>0.256027</td>\n",
              "    </tr>\n",
              "    <tr>\n",
              "      <th>fbs</th>\n",
              "      <td>0.181130</td>\n",
              "      <td>0.044372</td>\n",
              "      <td>0.031930</td>\n",
              "      <td>0.096222</td>\n",
              "      <td>0.107686</td>\n",
              "      <td>1.000000</td>\n",
              "      <td>0.047988</td>\n",
              "      <td>-0.069722</td>\n",
              "      <td>0.115503</td>\n",
              "      <td>0.063179</td>\n",
              "      <td>0.154319</td>\n",
              "    </tr>\n",
              "    <tr>\n",
              "      <th>restecg</th>\n",
              "      <td>0.050672</td>\n",
              "      <td>-0.108656</td>\n",
              "      <td>-0.016372</td>\n",
              "      <td>0.011256</td>\n",
              "      <td>0.048081</td>\n",
              "      <td>0.047988</td>\n",
              "      <td>1.000000</td>\n",
              "      <td>0.006084</td>\n",
              "      <td>0.041290</td>\n",
              "      <td>0.042193</td>\n",
              "      <td>0.042643</td>\n",
              "    </tr>\n",
              "    <tr>\n",
              "      <th>thalach</th>\n",
              "      <td>-0.460514</td>\n",
              "      <td>-0.106959</td>\n",
              "      <td>-0.367819</td>\n",
              "      <td>-0.181824</td>\n",
              "      <td>-0.122038</td>\n",
              "      <td>-0.069722</td>\n",
              "      <td>0.006084</td>\n",
              "      <td>1.000000</td>\n",
              "      <td>-0.400508</td>\n",
              "      <td>-0.300458</td>\n",
              "      <td>-0.367525</td>\n",
              "    </tr>\n",
              "    <tr>\n",
              "      <th>exang</th>\n",
              "      <td>0.239223</td>\n",
              "      <td>0.154925</td>\n",
              "      <td>0.494674</td>\n",
              "      <td>0.211507</td>\n",
              "      <td>0.161055</td>\n",
              "      <td>0.115503</td>\n",
              "      <td>0.041290</td>\n",
              "      <td>-0.400508</td>\n",
              "      <td>1.000000</td>\n",
              "      <td>0.624965</td>\n",
              "      <td>0.571710</td>\n",
              "    </tr>\n",
              "    <tr>\n",
              "      <th>oldpeak</th>\n",
              "      <td>0.178172</td>\n",
              "      <td>0.115959</td>\n",
              "      <td>0.351735</td>\n",
              "      <td>0.204000</td>\n",
              "      <td>0.106743</td>\n",
              "      <td>0.063179</td>\n",
              "      <td>0.042193</td>\n",
              "      <td>-0.300458</td>\n",
              "      <td>0.624965</td>\n",
              "      <td>1.000000</td>\n",
              "      <td>0.580732</td>\n",
              "    </tr>\n",
              "    <tr>\n",
              "      <th>target</th>\n",
              "      <td>0.210429</td>\n",
              "      <td>0.220732</td>\n",
              "      <td>0.427536</td>\n",
              "      <td>0.214898</td>\n",
              "      <td>0.256027</td>\n",
              "      <td>0.154319</td>\n",
              "      <td>0.042643</td>\n",
              "      <td>-0.367525</td>\n",
              "      <td>0.571710</td>\n",
              "      <td>0.580732</td>\n",
              "      <td>1.000000</td>\n",
              "    </tr>\n",
              "  </tbody>\n",
              "</table>\n",
              "</div>"
            ],
            "text/plain": [
              "               age       sex        cp  trestbps      chol       fbs  \\\n",
              "age       1.000000  0.014516  0.146616  0.246571  0.087101  0.181130   \n",
              "sex       0.014516  1.000000  0.245769  0.082064  0.027695  0.044372   \n",
              "cp        0.146616  0.245769  1.000000  0.081293  0.134697  0.031930   \n",
              "trestbps  0.246571  0.082064  0.081293  1.000000  0.080818  0.096222   \n",
              "chol      0.087101  0.027695  0.134697  0.080818  1.000000  0.107686   \n",
              "fbs       0.181130  0.044372  0.031930  0.096222  0.107686  1.000000   \n",
              "restecg   0.050672 -0.108656 -0.016372  0.011256  0.048081  0.047988   \n",
              "thalach  -0.460514 -0.106959 -0.367819 -0.181824 -0.122038 -0.069722   \n",
              "exang     0.239223  0.154925  0.494674  0.211507  0.161055  0.115503   \n",
              "oldpeak   0.178172  0.115959  0.351735  0.204000  0.106743  0.063179   \n",
              "target    0.210429  0.220732  0.427536  0.214898  0.256027  0.154319   \n",
              "\n",
              "           restecg   thalach     exang   oldpeak    target  \n",
              "age       0.050672 -0.460514  0.239223  0.178172  0.210429  \n",
              "sex      -0.108656 -0.106959  0.154925  0.115959  0.220732  \n",
              "cp       -0.016372 -0.367819  0.494674  0.351735  0.427536  \n",
              "trestbps  0.011256 -0.181824  0.211507  0.204000  0.214898  \n",
              "chol      0.048081 -0.122038  0.161055  0.106743  0.256027  \n",
              "fbs       0.047988 -0.069722  0.115503  0.063179  0.154319  \n",
              "restecg   1.000000  0.006084  0.041290  0.042193  0.042643  \n",
              "thalach   0.006084  1.000000 -0.400508 -0.300458 -0.367525  \n",
              "exang     0.041290 -0.400508  1.000000  0.624965  0.571710  \n",
              "oldpeak   0.042193 -0.300458  0.624965  1.000000  0.580732  \n",
              "target    0.042643 -0.367525  0.571710  0.580732  1.000000  "
            ]
          },
          "execution_count": 38,
          "metadata": {},
          "output_type": "execute_result"
        }
      ],
      "source": [
        "dfClean.corr() # Menghitung korelasi antar kolom dalam DataFrame yang bersih"
      ]
    },
    {
      "cell_type": "code",
      "execution_count": 39,
      "metadata": {
        "colab": {
          "base_uri": "https://localhost:8080/",
          "height": 854
        },
        "id": "N6EuLodqafhS",
        "outputId": "c0279cc8-b81f-4b6d-afa0-4f075cce3d10"
      },
      "outputs": [
        {
          "data": {
            "text/plain": [
              "<Axes: >"
            ]
          },
          "execution_count": 39,
          "metadata": {},
          "output_type": "execute_result"
        },
        {
          "data": {
            "image/png": "[encoded data removed]",
            "text/plain": [
              "<Figure size 1500x1000 with 2 Axes>"
            ]
          },
          "metadata": {},
          "output_type": "display_data"
        }
      ],
      "source": [
        "cor_mat=dfClean.corr() # Membuat matriks korelasi\n",
        "# Membuat plot heatmap dari matriks korelasi\n",
        "fig,ax=plt.subplots(figsize=(15,10)) # Membuat objek subplot dengan ukuran gambar (figsize) 15x10\n",
        "\n",
        "# Membuat heatmap dengan menggunakan data dari matriks korelasi (cor_mat)\n",
        "# Anotasi (nilai korelasi) ditambahkan ke dalam heatmap\n",
        "# Lebar garis antar sel heatmap diatur dengan linewidths=0.5\n",
        "# Format nilai dalam heatmap diatur dengan fmt=\".3f\" untuk tiga angka di belakang koma\n",
        "sns.heatmap(cor_mat,annot=True,linewidths=0.5,fmt=\".3f\")"
      ]
    },
    {
      "cell_type": "markdown",
      "metadata": {
        "id": "OUSZ8saxfed_"
      },
      "source": [
        "\n",
        "# **KONTRUKSI DATA**"
      ]
    },
    {
      "cell_type": "markdown",
      "metadata": {
        "id": "x3U5oXYZfxZ3"
      },
      "source": [
        "Dalam tahap ini Konstruksi data salah satu tujuannya yaitu untuk menyesuaikan semua tipe data yang ada di dalam dataset. Namun pada\n",
        "tahap ini dataset sudah memiliki tipe data yang sesuai sehingga tidak perlu dilakukan penyesuaian kembali"
      ]
    },
    {
      "cell_type": "code",
      "execution_count": 40,
      "metadata": {
        "colab": {
          "base_uri": "https://localhost:8080/"
        },
        "id": "usoEsftrfZyi",
        "outputId": "23509950-0fbb-4287-8751-dec722f33bd0"
      },
      "outputs": [
        {
          "name": "stdout",
          "output_type": "stream",
          "text": [
            "<class 'pandas.core.frame.DataFrame'>\n",
            "Int64Index: 293 entries, 0 to 293\n",
            "Data columns (total 11 columns):\n",
            " #   Column    Non-Null Count  Dtype  \n",
            "---  ------    --------------  -----  \n",
            " 0   age       293 non-null    float64\n",
            " 1   sex       293 non-null    float64\n",
            " 2   cp        293 non-null    float64\n",
            " 3   trestbps  293 non-null    float64\n",
            " 4   chol      293 non-null    float64\n",
            " 5   fbs       293 non-null    float64\n",
            " 6   restecg   293 non-null    float64\n",
            " 7   thalach   293 non-null    float64\n",
            " 8   exang     293 non-null    float64\n",
            " 9   oldpeak   293 non-null    float64\n",
            " 10  target    293 non-null    float64\n",
            "dtypes: float64(11)\n",
            "memory usage: 27.5 KB\n"
          ]
        }
      ],
      "source": [
        "dfClean.info() # Menampilkan informasi"
      ]
    },
    {
      "cell_type": "code",
      "execution_count": 41,
      "metadata": {
        "colab": {
          "base_uri": "https://localhost:8080/",
          "height": 206
        },
        "id": "fT_syjuWfy0Q",
        "outputId": "d739c5b7-99be-4bf2-bd79-1e73b21bb157"
      },
      "outputs": [
        {
          "data": {
            "text/html": [
              "<div>\n",
              "<style scoped>\n",
              "    .dataframe tbody tr th:only-of-type {\n",
              "        vertical-align: middle;\n",
              "    }\n",
              "\n",
              "    .dataframe tbody tr th {\n",
              "        vertical-align: top;\n",
              "    }\n",
              "\n",
              "    .dataframe thead th {\n",
              "        text-align: right;\n",
              "    }\n",
              "</style>\n",
              "<table border=\"1\" class=\"dataframe\">\n",
              "  <thead>\n",
              "    <tr style=\"text-align: right;\">\n",
              "      <th></th>\n",
              "      <th>age</th>\n",
              "      <th>sex</th>\n",
              "      <th>cp</th>\n",
              "      <th>trestbps</th>\n",
              "      <th>chol</th>\n",
              "      <th>fbs</th>\n",
              "      <th>restecg</th>\n",
              "      <th>thalach</th>\n",
              "      <th>exang</th>\n",
              "      <th>oldpeak</th>\n",
              "      <th>target</th>\n",
              "    </tr>\n",
              "  </thead>\n",
              "  <tbody>\n",
              "    <tr>\n",
              "      <th>0</th>\n",
              "      <td>40.0</td>\n",
              "      <td>1.0</td>\n",
              "      <td>2.0</td>\n",
              "      <td>140.0</td>\n",
              "      <td>289.0</td>\n",
              "      <td>0.0</td>\n",
              "      <td>0.0</td>\n",
              "      <td>172.0</td>\n",
              "      <td>0.0</td>\n",
              "      <td>0.0</td>\n",
              "      <td>0.0</td>\n",
              "    </tr>\n",
              "    <tr>\n",
              "      <th>1</th>\n",
              "      <td>49.0</td>\n",
              "      <td>0.0</td>\n",
              "      <td>3.0</td>\n",
              "      <td>160.0</td>\n",
              "      <td>180.0</td>\n",
              "      <td>0.0</td>\n",
              "      <td>0.0</td>\n",
              "      <td>156.0</td>\n",
              "      <td>0.0</td>\n",
              "      <td>1.0</td>\n",
              "      <td>1.0</td>\n",
              "    </tr>\n",
              "    <tr>\n",
              "      <th>2</th>\n",
              "      <td>37.0</td>\n",
              "      <td>1.0</td>\n",
              "      <td>2.0</td>\n",
              "      <td>130.0</td>\n",
              "      <td>283.0</td>\n",
              "      <td>0.0</td>\n",
              "      <td>1.0</td>\n",
              "      <td>98.0</td>\n",
              "      <td>0.0</td>\n",
              "      <td>0.0</td>\n",
              "      <td>0.0</td>\n",
              "    </tr>\n",
              "    <tr>\n",
              "      <th>3</th>\n",
              "      <td>48.0</td>\n",
              "      <td>0.0</td>\n",
              "      <td>4.0</td>\n",
              "      <td>138.0</td>\n",
              "      <td>214.0</td>\n",
              "      <td>0.0</td>\n",
              "      <td>0.0</td>\n",
              "      <td>108.0</td>\n",
              "      <td>1.0</td>\n",
              "      <td>1.5</td>\n",
              "      <td>3.0</td>\n",
              "    </tr>\n",
              "    <tr>\n",
              "      <th>4</th>\n",
              "      <td>54.0</td>\n",
              "      <td>1.0</td>\n",
              "      <td>3.0</td>\n",
              "      <td>150.0</td>\n",
              "      <td>251.0</td>\n",
              "      <td>0.0</td>\n",
              "      <td>0.0</td>\n",
              "      <td>122.0</td>\n",
              "      <td>0.0</td>\n",
              "      <td>0.0</td>\n",
              "      <td>0.0</td>\n",
              "    </tr>\n",
              "  </tbody>\n",
              "</table>\n",
              "</div>"
            ],
            "text/plain": [
              "    age  sex   cp  trestbps   chol  fbs  restecg  thalach  exang  oldpeak  \\\n",
              "0  40.0  1.0  2.0     140.0  289.0  0.0      0.0    172.0    0.0      0.0   \n",
              "1  49.0  0.0  3.0     160.0  180.0  0.0      0.0    156.0    0.0      1.0   \n",
              "2  37.0  1.0  2.0     130.0  283.0  0.0      1.0     98.0    0.0      0.0   \n",
              "3  48.0  0.0  4.0     138.0  214.0  0.0      0.0    108.0    1.0      1.5   \n",
              "4  54.0  1.0  3.0     150.0  251.0  0.0      0.0    122.0    0.0      0.0   \n",
              "\n",
              "   target  \n",
              "0     0.0  \n",
              "1     1.0  \n",
              "2     0.0  \n",
              "3     3.0  \n",
              "4     0.0  "
            ]
          },
          "execution_count": 41,
          "metadata": {},
          "output_type": "execute_result"
        }
      ],
      "source": [
        "dfClean.head(5) # Menampilkan lima baris pertama"
      ]
    },
    {
      "cell_type": "markdown",
      "metadata": {
        "id": "GdvrcR8lf5uo"
      },
      "source": [
        "Setelah Menyesuaikan tipe dataset kita , kita harus memisahkan antara fitur dan target lalu simpan kedalam variabel."
      ]
    },
    {
      "cell_type": "code",
      "execution_count": 42,
      "metadata": {
        "id": "EpjUVEvcf2Hr"
      },
      "outputs": [],
      "source": [
        "# Mengambil nilai kolom kecuali kolom 'target' sebagai fitur (X)\n",
        "# dan kolom 'target' sebagai label (y)\n",
        "X = dfClean.drop(\"target\",axis=1).values\n",
        "y = dfClean.iloc[:,-1]"
      ]
    },
    {
      "cell_type": "markdown",
      "metadata": {
        "id": "-qXVw_jqf-Yu"
      },
      "source": [
        "Setelah kita memisahkan antara fitur dan target , sebaiknya kita melakukan pengecekan terlebih dahulu terhadap persebaran jumlah target\n",
        "terlebih dahulu."
      ]
    },
    {
      "cell_type": "code",
      "execution_count": 43,
      "metadata": {
        "colab": {
          "base_uri": "https://localhost:8080/",
          "height": 545
        },
        "id": "AQmqL-f9gAwe",
        "outputId": "abd2cbff-ff2a-4292-ca80-af86c09b3955"
      },
      "outputs": [
        {
          "data": {
            "image/png": "[encoded data removed]",
            "text/plain": [
              "<Figure size 1000x600 with 1 Axes>"
            ]
          },
          "metadata": {},
          "output_type": "display_data"
        }
      ],
      "source": [
        "# Menampilkan plot bar untuk menggambarkan jumlah nilai dalam kolom 'target'\n",
        "dfClean['target'].value_counts().plot(kind='bar',figsize=(10,6),color=['green','blue'])\n",
        "plt.title(\"Count of the target\")\n",
        "plt.xticks(rotation=0);"
      ]
    },
    {
      "cell_type": "markdown",
      "metadata": {
        "id": "5GZcIqnMgF5s"
      },
      "source": [
        "Pada Grafik diatas menunjukan bahwa persebaran jumlah target tidak seimbang oleh karena itu perlu diseimbangkan terlebih dahulu.\n",
        "Menyeimbangkan target ada 2 cara yaitu oversampling dan undersampling. oversampling dilakukan jika jumlah dataset sedikit sedangkan\n",
        "undersampling dilakukan jika jumlah data terlalu banyak.\n",
        "Disini kita akan melakukan oversampling dikarenakan jumlah data kita tidak banyak. Salah satu metode yang Oversampling yang akan kita\n",
        "gunakan adalah SMOTE"
      ]
    },
    {
      "cell_type": "code",
      "execution_count": 44,
      "metadata": {
        "colab": {
          "base_uri": "https://localhost:8080/",
          "height": 607
        },
        "id": "IWD9rfq8gDlB",
        "outputId": "d486c8d5-5dcb-49a0-a7e9-4f60afc2f096"
      },
      "outputs": [
        {
          "data": {
            "image/png": "[encoded data removed]",
            "text/plain": [
              "<Figure size 1000x600 with 2 Axes>"
            ]
          },
          "metadata": {},
          "output_type": "display_data"
        }
      ],
      "source": [
        "from imblearn.over_sampling import SMOTE\n",
        "\n",
        "# Menggunakan SMOTE untuk oversampling\n",
        "smote = SMOTE(random_state=42)\n",
        "X_smote_resampled, y_smote_resampled = smote.fit_resample(X, y)\n",
        "\n",
        "plt.figure(figsize=(12, 4)) # Menampilkan plot bar untuk menggambarkan jumlah nilai target sebelum dan setelah oversampling dengan SMOTE\n",
        "\n",
        "# Plot sebelum oversampling\n",
        "new_df1 = pd.DataFrame(data=y)\n",
        "plt.subplot(1, 2, 1)\n",
        "new_df1.value_counts().plot(kind='bar',figsize=(10,6),color=['green','blue','red','yellow'])\n",
        "plt.title(\"target before over sampling with SMOTE \")\n",
        "plt.xticks(rotation=0);\n",
        "\n",
        "# Plot setelah oversampling\n",
        "plt.subplot(1, 2, 2)\n",
        "new_df2 = pd.DataFrame(data=y_smote_resampled)\n",
        "new_df2.value_counts().plot(kind='bar',figsize=(10,6),color=['green','blue','red','yellow'])\n",
        "plt.title(\"target after over sampling with SMOTE\")\n",
        "plt.xticks(rotation=0);\n",
        "\n",
        "plt.tight_layout()\n",
        "plt.show()"
      ]
    },
    {
      "cell_type": "markdown",
      "metadata": {
        "id": "qxqzORskgsC-"
      },
      "source": [
        "Pada Grafik diatas dapat dilihat ketika target belum di seimbangkan dan sudah diseimbangkan menggunakan oversampling."
      ]
    },
    {
      "cell_type": "code",
      "execution_count": 45,
      "metadata": {
        "colab": {
          "base_uri": "https://localhost:8080/"
        },
        "id": "Jhcjcg1ngpOu",
        "outputId": "dad6a791-0376-4ab5-92e9-2e8ed738d66e"
      },
      "outputs": [
        {
          "data": {
            "text/plain": [
              "target\n",
              "0.0       187\n",
              "1.0        37\n",
              "3.0        28\n",
              "2.0        26\n",
              "4.0        15\n",
              "dtype: int64"
            ]
          },
          "execution_count": 45,
          "metadata": {},
          "output_type": "execute_result"
        }
      ],
      "source": [
        "new_df1 = pd.DataFrame(data=y) # Membuat DataFrame baru dari label asli (y)\n",
        "new_df1.value_counts() # Menghitung jumlah nilai unik dalam label menggunakan value_counts()\n"
      ]
    },
    {
      "cell_type": "code",
      "execution_count": 46,
      "metadata": {
        "colab": {
          "base_uri": "https://localhost:8080/"
        },
        "id": "pkmG_ZJFgOAN",
        "outputId": "517ce5fe-6b77-46ca-e22f-0a70315a5d58"
      },
      "outputs": [
        {
          "data": {
            "text/plain": [
              "target\n",
              "0.0       187\n",
              "1.0       187\n",
              "2.0       187\n",
              "3.0       187\n",
              "4.0       187\n",
              "dtype: int64"
            ]
          },
          "execution_count": 46,
          "metadata": {},
          "output_type": "execute_result"
        }
      ],
      "source": [
        "# over\n",
        "new_df2 = pd.DataFrame(data=y_smote_resampled) # Membuat DataFrame baru dari label yang telah di-resample dengan SMOTE\n",
        "new_df2.value_counts() # Menghitung jumlah nilai unik dalam label yang telah di-resample menggunakan value_counts()"
      ]
    },
    {
      "cell_type": "markdown",
      "metadata": {
        "id": "6qrafvlrgz5f"
      },
      "source": [
        "Setelah menyeimbangkan persebaran jumlah target kita akan melakukan mengecekan apakah perlu dilakukan normalisasi/standarisasi pada\n",
        "datset kita."
      ]
    },
    {
      "cell_type": "code",
      "execution_count": 47,
      "metadata": {
        "colab": {
          "base_uri": "https://localhost:8080/",
          "height": 300
        },
        "id": "qaqVVg10gxgy",
        "outputId": "e8a393b2-4016-4c9d-da7d-939af3661837"
      },
      "outputs": [
        {
          "data": {
            "text/html": [
              "<div>\n",
              "<style scoped>\n",
              "    .dataframe tbody tr th:only-of-type {\n",
              "        vertical-align: middle;\n",
              "    }\n",
              "\n",
              "    .dataframe tbody tr th {\n",
              "        vertical-align: top;\n",
              "    }\n",
              "\n",
              "    .dataframe thead th {\n",
              "        text-align: right;\n",
              "    }\n",
              "</style>\n",
              "<table border=\"1\" class=\"dataframe\">\n",
              "  <thead>\n",
              "    <tr style=\"text-align: right;\">\n",
              "      <th></th>\n",
              "      <th>age</th>\n",
              "      <th>sex</th>\n",
              "      <th>cp</th>\n",
              "      <th>trestbps</th>\n",
              "      <th>chol</th>\n",
              "      <th>fbs</th>\n",
              "      <th>restecg</th>\n",
              "      <th>thalach</th>\n",
              "      <th>exang</th>\n",
              "      <th>oldpeak</th>\n",
              "      <th>target</th>\n",
              "    </tr>\n",
              "  </thead>\n",
              "  <tbody>\n",
              "    <tr>\n",
              "      <th>count</th>\n",
              "      <td>293.000000</td>\n",
              "      <td>293.000000</td>\n",
              "      <td>293.000000</td>\n",
              "      <td>293.000000</td>\n",
              "      <td>293.000000</td>\n",
              "      <td>293.000000</td>\n",
              "      <td>293.000000</td>\n",
              "      <td>293.000000</td>\n",
              "      <td>293.000000</td>\n",
              "      <td>293.000000</td>\n",
              "      <td>293.000000</td>\n",
              "    </tr>\n",
              "    <tr>\n",
              "      <th>mean</th>\n",
              "      <td>47.822526</td>\n",
              "      <td>0.726962</td>\n",
              "      <td>2.986348</td>\n",
              "      <td>132.662116</td>\n",
              "      <td>250.860068</td>\n",
              "      <td>0.068259</td>\n",
              "      <td>0.218430</td>\n",
              "      <td>139.058020</td>\n",
              "      <td>0.303754</td>\n",
              "      <td>0.588055</td>\n",
              "      <td>0.795222</td>\n",
              "    </tr>\n",
              "    <tr>\n",
              "      <th>std</th>\n",
              "      <td>7.824875</td>\n",
              "      <td>0.446282</td>\n",
              "      <td>0.965049</td>\n",
              "      <td>17.576793</td>\n",
              "      <td>65.059069</td>\n",
              "      <td>0.252622</td>\n",
              "      <td>0.460868</td>\n",
              "      <td>23.558003</td>\n",
              "      <td>0.460665</td>\n",
              "      <td>0.909554</td>\n",
              "      <td>1.238251</td>\n",
              "    </tr>\n",
              "    <tr>\n",
              "      <th>min</th>\n",
              "      <td>28.000000</td>\n",
              "      <td>0.000000</td>\n",
              "      <td>1.000000</td>\n",
              "      <td>92.000000</td>\n",
              "      <td>85.000000</td>\n",
              "      <td>0.000000</td>\n",
              "      <td>0.000000</td>\n",
              "      <td>82.000000</td>\n",
              "      <td>0.000000</td>\n",
              "      <td>0.000000</td>\n",
              "      <td>0.000000</td>\n",
              "    </tr>\n",
              "    <tr>\n",
              "      <th>25%</th>\n",
              "      <td>42.000000</td>\n",
              "      <td>0.000000</td>\n",
              "      <td>2.000000</td>\n",
              "      <td>120.000000</td>\n",
              "      <td>211.000000</td>\n",
              "      <td>0.000000</td>\n",
              "      <td>0.000000</td>\n",
              "      <td>122.000000</td>\n",
              "      <td>0.000000</td>\n",
              "      <td>0.000000</td>\n",
              "      <td>0.000000</td>\n",
              "    </tr>\n",
              "    <tr>\n",
              "      <th>50%</th>\n",
              "      <td>49.000000</td>\n",
              "      <td>1.000000</td>\n",
              "      <td>3.000000</td>\n",
              "      <td>130.000000</td>\n",
              "      <td>248.000000</td>\n",
              "      <td>0.000000</td>\n",
              "      <td>0.000000</td>\n",
              "      <td>140.000000</td>\n",
              "      <td>0.000000</td>\n",
              "      <td>0.000000</td>\n",
              "      <td>0.000000</td>\n",
              "    </tr>\n",
              "    <tr>\n",
              "      <th>75%</th>\n",
              "      <td>54.000000</td>\n",
              "      <td>1.000000</td>\n",
              "      <td>4.000000</td>\n",
              "      <td>140.000000</td>\n",
              "      <td>277.000000</td>\n",
              "      <td>0.000000</td>\n",
              "      <td>0.000000</td>\n",
              "      <td>155.000000</td>\n",
              "      <td>1.000000</td>\n",
              "      <td>1.000000</td>\n",
              "      <td>1.000000</td>\n",
              "    </tr>\n",
              "    <tr>\n",
              "      <th>max</th>\n",
              "      <td>66.000000</td>\n",
              "      <td>1.000000</td>\n",
              "      <td>4.000000</td>\n",
              "      <td>200.000000</td>\n",
              "      <td>603.000000</td>\n",
              "      <td>1.000000</td>\n",
              "      <td>2.000000</td>\n",
              "      <td>190.000000</td>\n",
              "      <td>1.000000</td>\n",
              "      <td>5.000000</td>\n",
              "      <td>4.000000</td>\n",
              "    </tr>\n",
              "  </tbody>\n",
              "</table>\n",
              "</div>"
            ],
            "text/plain": [
              "              age         sex          cp    trestbps        chol         fbs  \\\n",
              "count  293.000000  293.000000  293.000000  293.000000  293.000000  293.000000   \n",
              "mean    47.822526    0.726962    2.986348  132.662116  250.860068    0.068259   \n",
              "std      7.824875    0.446282    0.965049   17.576793   65.059069    0.252622   \n",
              "min     28.000000    0.000000    1.000000   92.000000   85.000000    0.000000   \n",
              "25%     42.000000    0.000000    2.000000  120.000000  211.000000    0.000000   \n",
              "50%     49.000000    1.000000    3.000000  130.000000  248.000000    0.000000   \n",
              "75%     54.000000    1.000000    4.000000  140.000000  277.000000    0.000000   \n",
              "max     66.000000    1.000000    4.000000  200.000000  603.000000    1.000000   \n",
              "\n",
              "          restecg     thalach       exang     oldpeak      target  \n",
              "count  293.000000  293.000000  293.000000  293.000000  293.000000  \n",
              "mean     0.218430  139.058020    0.303754    0.588055    0.795222  \n",
              "std      0.460868   23.558003    0.460665    0.909554    1.238251  \n",
              "min      0.000000   82.000000    0.000000    0.000000    0.000000  \n",
              "25%      0.000000  122.000000    0.000000    0.000000    0.000000  \n",
              "50%      0.000000  140.000000    0.000000    0.000000    0.000000  \n",
              "75%      0.000000  155.000000    1.000000    1.000000    1.000000  \n",
              "max      2.000000  190.000000    1.000000    5.000000    4.000000  "
            ]
          },
          "execution_count": 47,
          "metadata": {},
          "output_type": "execute_result"
        }
      ],
      "source": [
        "dfClean.describe() # Menampilkan statistik deskriptif dari DataFrame dfClean"
      ]
    },
    {
      "cell_type": "markdown",
      "metadata": {
        "id": "FzYQoWSmg2X0"
      },
      "source": [
        "Pada deskripsi diatas dapat dilihat bahwa terdapat rentang nilai yang cukup jauh pada standar deviasi setiap fitur dataset yang kita miliki. Oleh\n",
        "karena itu perlu dilakukan normalisasi/standarisasi agar memperkecil rentang antara standar deviasi setiap kolom."
      ]
    },
    {
      "cell_type": "code",
      "execution_count": 48,
      "metadata": {
        "colab": {
          "base_uri": "https://localhost:8080/",
          "height": 300
        },
        "id": "Ne_1wMT4g4uZ",
        "outputId": "03949767-19a9-48f0-fc68-929a47a79d9a"
      },
      "outputs": [
        {
          "data": {
            "text/html": [
              "<div>\n",
              "<style scoped>\n",
              "    .dataframe tbody tr th:only-of-type {\n",
              "        vertical-align: middle;\n",
              "    }\n",
              "\n",
              "    .dataframe tbody tr th {\n",
              "        vertical-align: top;\n",
              "    }\n",
              "\n",
              "    .dataframe thead th {\n",
              "        text-align: right;\n",
              "    }\n",
              "</style>\n",
              "<table border=\"1\" class=\"dataframe\">\n",
              "  <thead>\n",
              "    <tr style=\"text-align: right;\">\n",
              "      <th></th>\n",
              "      <th>0</th>\n",
              "      <th>1</th>\n",
              "      <th>2</th>\n",
              "      <th>3</th>\n",
              "      <th>4</th>\n",
              "      <th>5</th>\n",
              "      <th>6</th>\n",
              "      <th>7</th>\n",
              "      <th>8</th>\n",
              "      <th>9</th>\n",
              "    </tr>\n",
              "  </thead>\n",
              "  <tbody>\n",
              "    <tr>\n",
              "      <th>count</th>\n",
              "      <td>935.000000</td>\n",
              "      <td>935.000000</td>\n",
              "      <td>935.000000</td>\n",
              "      <td>935.000000</td>\n",
              "      <td>935.000000</td>\n",
              "      <td>935.000000</td>\n",
              "      <td>935.000000</td>\n",
              "      <td>935.000000</td>\n",
              "      <td>935.000000</td>\n",
              "      <td>935.000000</td>\n",
              "    </tr>\n",
              "    <tr>\n",
              "      <th>mean</th>\n",
              "      <td>0.563739</td>\n",
              "      <td>0.842507</td>\n",
              "      <td>0.818224</td>\n",
              "      <td>0.403413</td>\n",
              "      <td>0.341027</td>\n",
              "      <td>0.094277</td>\n",
              "      <td>0.117938</td>\n",
              "      <td>0.453354</td>\n",
              "      <td>0.598398</td>\n",
              "      <td>0.227015</td>\n",
              "    </tr>\n",
              "    <tr>\n",
              "      <th>std</th>\n",
              "      <td>0.174873</td>\n",
              "      <td>0.332492</td>\n",
              "      <td>0.274211</td>\n",
              "      <td>0.147493</td>\n",
              "      <td>0.110990</td>\n",
              "      <td>0.252030</td>\n",
              "      <td>0.199527</td>\n",
              "      <td>0.197232</td>\n",
              "      <td>0.450288</td>\n",
              "      <td>0.201293</td>\n",
              "    </tr>\n",
              "    <tr>\n",
              "      <th>min</th>\n",
              "      <td>0.000000</td>\n",
              "      <td>0.000000</td>\n",
              "      <td>0.000000</td>\n",
              "      <td>0.000000</td>\n",
              "      <td>0.000000</td>\n",
              "      <td>0.000000</td>\n",
              "      <td>0.000000</td>\n",
              "      <td>0.000000</td>\n",
              "      <td>0.000000</td>\n",
              "      <td>0.000000</td>\n",
              "    </tr>\n",
              "    <tr>\n",
              "      <th>25%</th>\n",
              "      <td>0.473283</td>\n",
              "      <td>1.000000</td>\n",
              "      <td>0.666667</td>\n",
              "      <td>0.305556</td>\n",
              "      <td>0.267954</td>\n",
              "      <td>0.000000</td>\n",
              "      <td>0.000000</td>\n",
              "      <td>0.312720</td>\n",
              "      <td>0.000000</td>\n",
              "      <td>0.000000</td>\n",
              "    </tr>\n",
              "    <tr>\n",
              "      <th>50%</th>\n",
              "      <td>0.578947</td>\n",
              "      <td>1.000000</td>\n",
              "      <td>1.000000</td>\n",
              "      <td>0.387952</td>\n",
              "      <td>0.330240</td>\n",
              "      <td>0.000000</td>\n",
              "      <td>0.000000</td>\n",
              "      <td>0.440606</td>\n",
              "      <td>0.962447</td>\n",
              "      <td>0.200000</td>\n",
              "    </tr>\n",
              "    <tr>\n",
              "      <th>75%</th>\n",
              "      <td>0.683363</td>\n",
              "      <td>1.000000</td>\n",
              "      <td>1.000000</td>\n",
              "      <td>0.487481</td>\n",
              "      <td>0.393811</td>\n",
              "      <td>0.000000</td>\n",
              "      <td>0.201473</td>\n",
              "      <td>0.593629</td>\n",
              "      <td>1.000000</td>\n",
              "      <td>0.386166</td>\n",
              "    </tr>\n",
              "    <tr>\n",
              "      <th>max</th>\n",
              "      <td>1.000000</td>\n",
              "      <td>1.000000</td>\n",
              "      <td>1.000000</td>\n",
              "      <td>1.000000</td>\n",
              "      <td>1.000000</td>\n",
              "      <td>1.000000</td>\n",
              "      <td>1.000000</td>\n",
              "      <td>1.000000</td>\n",
              "      <td>1.000000</td>\n",
              "      <td>1.000000</td>\n",
              "    </tr>\n",
              "  </tbody>\n",
              "</table>\n",
              "</div>"
            ],
            "text/plain": [
              "                0           1           2           3           4           5  \\\n",
              "count  935.000000  935.000000  935.000000  935.000000  935.000000  935.000000   \n",
              "mean     0.563739    0.842507    0.818224    0.403413    0.341027    0.094277   \n",
              "std      0.174873    0.332492    0.274211    0.147493    0.110990    0.252030   \n",
              "min      0.000000    0.000000    0.000000    0.000000    0.000000    0.000000   \n",
              "25%      0.473283    1.000000    0.666667    0.305556    0.267954    0.000000   \n",
              "50%      0.578947    1.000000    1.000000    0.387952    0.330240    0.000000   \n",
              "75%      0.683363    1.000000    1.000000    0.487481    0.393811    0.000000   \n",
              "max      1.000000    1.000000    1.000000    1.000000    1.000000    1.000000   \n",
              "\n",
              "                6           7           8           9  \n",
              "count  935.000000  935.000000  935.000000  935.000000  \n",
              "mean     0.117938    0.453354    0.598398    0.227015  \n",
              "std      0.199527    0.197232    0.450288    0.201293  \n",
              "min      0.000000    0.000000    0.000000    0.000000  \n",
              "25%      0.000000    0.312720    0.000000    0.000000  \n",
              "50%      0.000000    0.440606    0.962447    0.200000  \n",
              "75%      0.201473    0.593629    1.000000    0.386166  \n",
              "max      1.000000    1.000000    1.000000    1.000000  "
            ]
          },
          "execution_count": 48,
          "metadata": {},
          "output_type": "execute_result"
        }
      ],
      "source": [
        "from sklearn.preprocessing import MinMaxScaler\n",
        "scaler = MinMaxScaler() # Membuat objek MinMaxScaler\n",
        "X_smote_resampled_normal = scaler.fit_transform(X_smote_resampled) # Melakukan normalisasi pada data hasil resampling dengan SMOTE\n",
        "len(X_smote_resampled_normal) # Menghitung panjang data normalisasi\n",
        "935\n",
        "dfcek1 = pd.DataFrame(X_smote_resampled_normal) # Membuat DataFrame baru dari data hasil normalisasi\n",
        "dfcek1.describe() # Menampilkan statistik deskriptif dari DataFrame normalisasi menggunakan describe()"
      ]
    },
    {
      "cell_type": "markdown",
      "metadata": {
        "id": "669gAjAOhGTb"
      },
      "source": [
        "Setelah dilakukan normalisasi pada fitur, selanjutnya kita perlu membagi fitur dan target menjadi data train dan test."
      ]
    },
    {
      "cell_type": "code",
      "execution_count": 49,
      "metadata": {
        "id": "bfuDA9LEhJTA"
      },
      "outputs": [],
      "source": [
        "from sklearn.model_selection import train_test_split\n",
        "# membagi fitur dan target menjadi data train dan test (untuk yang oversample saja)\n",
        "X_train, X_test, y_train, y_test = train_test_split(X_smote_resampled, y_smote_resampled, test_size=0.2, random_state=42,stratify=y_smote_resampled)\n",
        "# membagi fitur dan target menjadi data train dan test (untuk yang oversample + normalization)\n",
        "X_train_normal, X_test_normal, y_train_normal, y_test_normal = train_test_split(X_smote_resampled_normal, y_smote_resampled, test_size=0.2, random_state=42,stratify = y_smote_resampled)"
      ]
    },
    {
      "cell_type": "markdown",
      "metadata": {
        "id": "Dl7Xn1eWhJ5t"
      },
      "source": [
        "# **MODEL**"
      ]
    },
    {
      "cell_type": "markdown",
      "metadata": {
        "id": "x8DzgCm2hObb"
      },
      "source": [
        "Pada tahap ini kita akan memulai untuk membangun sebuah model.\n",
        "Dibawah ini merupakan sebuah fungsi untuk menampilkan hasil akurasi dan rata - rata dari recall , f1 dan precision score setiap model. Fungsi\n",
        "ini nantinya akan dipanggil di setiap model. Membuat Fungsi ini bersifat opsional."
      ]
    },
    {
      "cell_type": "code",
      "execution_count": 50,
      "metadata": {
        "id": "dCW4ihiqhMpZ"
      },
      "outputs": [],
      "source": [
        "# Import modul evaluasi dan metrik dari scikit-learn\n",
        "from sklearn.metrics import accuracy_score,recall_score,f1_score,precision_score,roc_auc_score,confusion_matrix,precision_score\n",
        "# Fungsi untuk evaluasi model dengan beberapa metrik\n",
        "def evaluation(Y_test,Y_pred):\n",
        "    acc = accuracy_score(Y_test,Y_pred)\n",
        "    rcl = recall_score(Y_test,Y_pred,average = 'weighted')\n",
        "    f1 = f1_score(Y_test,Y_pred,average = 'weighted')\n",
        "    ps = precision_score(Y_test,Y_pred,average = 'weighted')\n",
        "    metric_dict={'accuracy': round(acc,3),\n",
        "                'recall': round(rcl,3),\n",
        "                'F1 score': round(f1,3),\n",
        "                'Precision score': round(ps,3)\n",
        "                }\n",
        "    return print(metric_dict)"
      ]
    },
    {
      "cell_type": "markdown",
      "metadata": {
        "id": "upFWqZvYhtzG"
      },
      "source": [
        "## **OVERSAMPLE**"
      ]
    },
    {
      "cell_type": "markdown",
      "metadata": {
        "id": "MNuKv3uDhybz"
      },
      "source": [
        "### **KNN**"
      ]
    },
    {
      "cell_type": "markdown",
      "metadata": {
        "id": "a1bslKDQh7He"
      },
      "source": [
        "Pada tahap ini kita akan akan memulai membangun model dengan algoritma KNN dengan nilai neighbors yaitu 3."
      ]
    },
    {
      "cell_type": "code",
      "execution_count": 51,
      "metadata": {
        "colab": {
          "base_uri": "https://localhost:8080/",
          "height": 74
        },
        "id": "kfhLE83Vhwz7",
        "outputId": "0a56b6a3-ea57-4604-93c9-3494fb133729"
      },
      "outputs": [
        {
          "data": {
            "text/html": [
              "<style>#sk-container-id-1 {color: black;}#sk-container-id-1 pre{padding: 0;}#sk-container-id-1 div.sk-toggleable {background-color: white;}#sk-container-id-1 label.sk-toggleable__label {cursor: pointer;display: block;width: 100%;margin-bottom: 0;padding: 0.3em;box-sizing: border-box;text-align: center;}#sk-container-id-1 label.sk-toggleable__label-arrow:before {content: \"▸\";float: left;margin-right: 0.25em;color: #696969;}#sk-container-id-1 label.sk-toggleable__label-arrow:hover:before {color: black;}#sk-container-id-1 div.sk-estimator:hover label.sk-toggleable__label-arrow:before {color: black;}#sk-container-id-1 div.sk-toggleable__content {max-height: 0;max-width: 0;overflow: hidden;text-align: left;background-color: #f0f8ff;}#sk-container-id-1 div.sk-toggleable__content pre {margin: 0.2em;color: black;border-radius: 0.25em;background-color: #f0f8ff;}#sk-container-id-1 input.sk-toggleable__control:checked~div.sk-toggleable__content {max-height: 200px;max-width: 100%;overflow: auto;}#sk-container-id-1 input.sk-toggleable__control:checked~label.sk-toggleable__label-arrow:before {content: \"▾\";}#sk-container-id-1 div.sk-estimator input.sk-toggleable__control:checked~label.sk-toggleable__label {background-color: #d4ebff;}#sk-container-id-1 div.sk-label input.sk-toggleable__control:checked~label.sk-toggleable__label {background-color: #d4ebff;}#sk-container-id-1 input.sk-hidden--visually {border: 0;clip: rect(1px 1px 1px 1px);clip: rect(1px, 1px, 1px, 1px);height: 1px;margin: -1px;overflow: hidden;padding: 0;position: absolute;width: 1px;}#sk-container-id-1 div.sk-estimator {font-family: monospace;background-color: #f0f8ff;border: 1px dotted black;border-radius: 0.25em;box-sizing: border-box;margin-bottom: 0.5em;}#sk-container-id-1 div.sk-estimator:hover {background-color: #d4ebff;}#sk-container-id-1 div.sk-parallel-item::after {content: \"\";width: 100%;border-bottom: 1px solid gray;flex-grow: 1;}#sk-container-id-1 div.sk-label:hover label.sk-toggleable__label {background-color: #d4ebff;}#sk-container-id-1 div.sk-serial::before {content: \"\";position: absolute;border-left: 1px solid gray;box-sizing: border-box;top: 0;bottom: 0;left: 50%;z-index: 0;}#sk-container-id-1 div.sk-serial {display: flex;flex-direction: column;align-items: center;background-color: white;padding-right: 0.2em;padding-left: 0.2em;position: relative;}#sk-container-id-1 div.sk-item {position: relative;z-index: 1;}#sk-container-id-1 div.sk-parallel {display: flex;align-items: stretch;justify-content: center;background-color: white;position: relative;}#sk-container-id-1 div.sk-item::before, #sk-container-id-1 div.sk-parallel-item::before {content: \"\";position: absolute;border-left: 1px solid gray;box-sizing: border-box;top: 0;bottom: 0;left: 50%;z-index: -1;}#sk-container-id-1 div.sk-parallel-item {display: flex;flex-direction: column;z-index: 1;position: relative;background-color: white;}#sk-container-id-1 div.sk-parallel-item:first-child::after {align-self: flex-end;width: 50%;}#sk-container-id-1 div.sk-parallel-item:last-child::after {align-self: flex-start;width: 50%;}#sk-container-id-1 div.sk-parallel-item:only-child::after {width: 0;}#sk-container-id-1 div.sk-dashed-wrapped {border: 1px dashed gray;margin: 0 0.4em 0.5em 0.4em;box-sizing: border-box;padding-bottom: 0.4em;background-color: white;}#sk-container-id-1 div.sk-label label {font-family: monospace;font-weight: bold;display: inline-block;line-height: 1.2em;}#sk-container-id-1 div.sk-label-container {text-align: center;}#sk-container-id-1 div.sk-container {/* jupyter's `normalize.less` sets `[hidden] { display: none; }` but bootstrap.min.css set `[hidden] { display: none !important; }` so we also need the `!important` here to be able to override the default hidden behavior on the sphinx rendered scikit-learn.org. See: https://github.com/scikit-learn/scikit-learn/issues/21755 */display: inline-block !important;position: relative;}#sk-container-id-1 div.sk-text-repr-fallback {display: none;}</style><div id=\"sk-container-id-1\" class=\"sk-top-container\"><div class=\"sk-text-repr-fallback\"><pre>KNeighborsClassifier(n_neighbors=3)</pre><b>In a Jupyter environment, please rerun this cell to show the HTML representation or trust the notebook. <br />On GitHub, the HTML representation is unable to render, please try loading this page with nbviewer.org.</b></div><div class=\"sk-container\" hidden><div class=\"sk-item\"><div class=\"sk-estimator sk-toggleable\"><input class=\"sk-toggleable__control sk-hidden--visually\" id=\"sk-estimator-id-1\" type=\"checkbox\" checked><label for=\"sk-estimator-id-1\" class=\"sk-toggleable__label sk-toggleable__label-arrow\">KNeighborsClassifier</label><div class=\"sk-toggleable__content\"><pre>KNeighborsClassifier(n_neighbors=3)</pre></div></div></div></div></div>"
            ],
            "text/plain": [
              "KNeighborsClassifier(n_neighbors=3)"
            ]
          },
          "execution_count": 51,
          "metadata": {},
          "output_type": "execute_result"
        }
      ],
      "source": [
        "from sklearn.neighbors import KNeighborsClassifier\n",
        "from sklearn.ensemble import RandomForestClassifier\n",
        "from xgboost import XGBClassifier\n",
        "from sklearn.metrics import accuracy_score, classification_report\n",
        "\n",
        "# Membuat model K-Nearest Neighbors (KNN) dengan n_neighbors=3\n",
        "knn_model = KNeighborsClassifier(n_neighbors = 3)\n",
        "knn_model.fit(X_train, y_train)"
      ]
    },
    {
      "cell_type": "markdown",
      "metadata": {
        "id": "zFInc5vgiJPu"
      },
      "source": [
        "Berikut adalah kode program untuk menampilkan hasil akurasi dengan algoritma KNN"
      ]
    },
    {
      "cell_type": "code",
      "execution_count": 52,
      "metadata": {
        "id": "r4TMNzj7h-9a"
      },
      "outputs": [],
      "source": [
        "y_pred_knn = knn_model.predict(X_test) # Memprediksi data test menggunakan model KNN"
      ]
    },
    {
      "cell_type": "code",
      "execution_count": 53,
      "metadata": {
        "colab": {
          "base_uri": "https://localhost:8080/"
        },
        "id": "GLC3BL5eiDc2",
        "outputId": "4624f6c4-46bf-4f28-9f0b-b894def065ac"
      },
      "outputs": [
        {
          "name": "stdout",
          "output_type": "stream",
          "text": [
            "K-Nearest Neighbors (KNN) Model:\n",
            "Accuracy: 0.754\n",
            "Classification Report:\n",
            "              precision    recall  f1-score   support\n",
            "\n",
            "         0.0       0.65      0.39      0.49        38\n",
            "         1.0       0.73      0.81      0.77        37\n",
            "         2.0       0.80      0.86      0.83        37\n",
            "         3.0       0.77      0.87      0.81        38\n",
            "         4.0       0.78      0.84      0.81        37\n",
            "\n",
            "    accuracy                           0.75       187\n",
            "   macro avg       0.75      0.76      0.74       187\n",
            "weighted avg       0.74      0.75      0.74       187\n",
            "\n"
          ]
        }
      ],
      "source": [
        "# Menampilkan evaluasi model KNN\n",
        "print(\"K-Nearest Neighbors (KNN) Model:\")\n",
        "accuracy_knn_smote = round(accuracy_score(y_test,y_pred_knn),3)\n",
        "print(\"Accuracy:\", accuracy_knn_smote)\n",
        "print(\"Classification Report:\")\n",
        "print(classification_report(y_test, y_pred_knn))"
      ]
    },
    {
      "cell_type": "code",
      "execution_count": 54,
      "metadata": {
        "colab": {
          "base_uri": "https://localhost:8080/"
        },
        "id": "Lx24rye0iWv7",
        "outputId": "1920c687-56cd-4980-f3d9-39e52f93f421"
      },
      "outputs": [
        {
          "name": "stdout",
          "output_type": "stream",
          "text": [
            "{'accuracy': 0.754, 'recall': 0.754, 'F1 score': 0.741, 'Precision score': 0.745}\n"
          ]
        }
      ],
      "source": [
        "evaluation(y_test,y_pred_knn) # Memanggil fungsi evaluasi untuk KNN"
      ]
    },
    {
      "cell_type": "markdown",
      "metadata": {
        "id": "C6te8tZDiXQ9"
      },
      "source": [
        "Pada visualisasi ini ditampilkan visualisasi confusion matrix untuk membandingkan hasil prediksi model dengan nilai sebenarnya."
      ]
    },
    {
      "cell_type": "code",
      "execution_count": 55,
      "metadata": {
        "colab": {
          "base_uri": "https://localhost:8080/",
          "height": 564
        },
        "id": "jZxVJGRoiZWL",
        "outputId": "24dd326e-5b4d-4992-d53a-c5712f61f365"
      },
      "outputs": [
        {
          "data": {
            "image/png": "[encoded data removed]",
            "text/plain": [
              "<Figure size 800x600 with 2 Axes>"
            ]
          },
          "metadata": {},
          "output_type": "display_data"
        }
      ],
      "source": [
        "# Menampilkan confusion matrix untuk KNN\n",
        "cm = confusion_matrix(y_test, y_pred_knn)\n",
        "\n",
        "plt.figure(figsize=(8, 6))\n",
        "sns.heatmap(cm, annot=True, fmt=\"d\", cmap=\"Blues\")\n",
        "plt.title('Confusion Matrix')\n",
        "plt.xlabel('True')\n",
        "plt.ylabel('Predict')\n",
        "plt.show()"
      ]
    },
    {
      "cell_type": "markdown",
      "metadata": {
        "id": "Tm4Kd5pgigta"
      },
      "source": [
        "### **RANDOM FOREST**"
      ]
    },
    {
      "cell_type": "markdown",
      "metadata": {
        "id": "Fi1E3_YAikfl"
      },
      "source": [
        "Selanjutnya kita akan membangun model dengan algoritma random forest dengan n_estimators yaitu 100, n_estimators sendiri berguna"
      ]
    },
    {
      "cell_type": "code",
      "execution_count": 56,
      "metadata": {
        "colab": {
          "base_uri": "https://localhost:8080/",
          "height": 74
        },
        "id": "Ew_lNxWVicF3",
        "outputId": "f1047b22-611d-480a-e8fa-d32f9fc268c8"
      },
      "outputs": [
        {
          "data": {
            "text/html": [
              "<style>#sk-container-id-2 {color: black;}#sk-container-id-2 pre{padding: 0;}#sk-container-id-2 div.sk-toggleable {background-color: white;}#sk-container-id-2 label.sk-toggleable__label {cursor: pointer;display: block;width: 100%;margin-bottom: 0;padding: 0.3em;box-sizing: border-box;text-align: center;}#sk-container-id-2 label.sk-toggleable__label-arrow:before {content: \"▸\";float: left;margin-right: 0.25em;color: #696969;}#sk-container-id-2 label.sk-toggleable__label-arrow:hover:before {color: black;}#sk-container-id-2 div.sk-estimator:hover label.sk-toggleable__label-arrow:before {color: black;}#sk-container-id-2 div.sk-toggleable__content {max-height: 0;max-width: 0;overflow: hidden;text-align: left;background-color: #f0f8ff;}#sk-container-id-2 div.sk-toggleable__content pre {margin: 0.2em;color: black;border-radius: 0.25em;background-color: #f0f8ff;}#sk-container-id-2 input.sk-toggleable__control:checked~div.sk-toggleable__content {max-height: 200px;max-width: 100%;overflow: auto;}#sk-container-id-2 input.sk-toggleable__control:checked~label.sk-toggleable__label-arrow:before {content: \"▾\";}#sk-container-id-2 div.sk-estimator input.sk-toggleable__control:checked~label.sk-toggleable__label {background-color: #d4ebff;}#sk-container-id-2 div.sk-label input.sk-toggleable__control:checked~label.sk-toggleable__label {background-color: #d4ebff;}#sk-container-id-2 input.sk-hidden--visually {border: 0;clip: rect(1px 1px 1px 1px);clip: rect(1px, 1px, 1px, 1px);height: 1px;margin: -1px;overflow: hidden;padding: 0;position: absolute;width: 1px;}#sk-container-id-2 div.sk-estimator {font-family: monospace;background-color: #f0f8ff;border: 1px dotted black;border-radius: 0.25em;box-sizing: border-box;margin-bottom: 0.5em;}#sk-container-id-2 div.sk-estimator:hover {background-color: #d4ebff;}#sk-container-id-2 div.sk-parallel-item::after {content: \"\";width: 100%;border-bottom: 1px solid gray;flex-grow: 1;}#sk-container-id-2 div.sk-label:hover label.sk-toggleable__label {background-color: #d4ebff;}#sk-container-id-2 div.sk-serial::before {content: \"\";position: absolute;border-left: 1px solid gray;box-sizing: border-box;top: 0;bottom: 0;left: 50%;z-index: 0;}#sk-container-id-2 div.sk-serial {display: flex;flex-direction: column;align-items: center;background-color: white;padding-right: 0.2em;padding-left: 0.2em;position: relative;}#sk-container-id-2 div.sk-item {position: relative;z-index: 1;}#sk-container-id-2 div.sk-parallel {display: flex;align-items: stretch;justify-content: center;background-color: white;position: relative;}#sk-container-id-2 div.sk-item::before, #sk-container-id-2 div.sk-parallel-item::before {content: \"\";position: absolute;border-left: 1px solid gray;box-sizing: border-box;top: 0;bottom: 0;left: 50%;z-index: -1;}#sk-container-id-2 div.sk-parallel-item {display: flex;flex-direction: column;z-index: 1;position: relative;background-color: white;}#sk-container-id-2 div.sk-parallel-item:first-child::after {align-self: flex-end;width: 50%;}#sk-container-id-2 div.sk-parallel-item:last-child::after {align-self: flex-start;width: 50%;}#sk-container-id-2 div.sk-parallel-item:only-child::after {width: 0;}#sk-container-id-2 div.sk-dashed-wrapped {border: 1px dashed gray;margin: 0 0.4em 0.5em 0.4em;box-sizing: border-box;padding-bottom: 0.4em;background-color: white;}#sk-container-id-2 div.sk-label label {font-family: monospace;font-weight: bold;display: inline-block;line-height: 1.2em;}#sk-container-id-2 div.sk-label-container {text-align: center;}#sk-container-id-2 div.sk-container {/* jupyter's `normalize.less` sets `[hidden] { display: none; }` but bootstrap.min.css set `[hidden] { display: none !important; }` so we also need the `!important` here to be able to override the default hidden behavior on the sphinx rendered scikit-learn.org. See: https://github.com/scikit-learn/scikit-learn/issues/21755 */display: inline-block !important;position: relative;}#sk-container-id-2 div.sk-text-repr-fallback {display: none;}</style><div id=\"sk-container-id-2\" class=\"sk-top-container\"><div class=\"sk-text-repr-fallback\"><pre>RandomForestClassifier(random_state=42)</pre><b>In a Jupyter environment, please rerun this cell to show the HTML representation or trust the notebook. <br />On GitHub, the HTML representation is unable to render, please try loading this page with nbviewer.org.</b></div><div class=\"sk-container\" hidden><div class=\"sk-item\"><div class=\"sk-estimator sk-toggleable\"><input class=\"sk-toggleable__control sk-hidden--visually\" id=\"sk-estimator-id-2\" type=\"checkbox\" checked><label for=\"sk-estimator-id-2\" class=\"sk-toggleable__label sk-toggleable__label-arrow\">RandomForestClassifier</label><div class=\"sk-toggleable__content\"><pre>RandomForestClassifier(random_state=42)</pre></div></div></div></div></div>"
            ],
            "text/plain": [
              "RandomForestClassifier(random_state=42)"
            ]
          },
          "execution_count": 56,
          "metadata": {},
          "output_type": "execute_result"
        }
      ],
      "source": [
        "# Membuat model Random Forest dengan n_estimators=100\n",
        "rf_model = RandomForestClassifier(n_estimators=100, random_state=42)\n",
        "rf_model.fit(X_train, y_train)"
      ]
    },
    {
      "cell_type": "code",
      "execution_count": 57,
      "metadata": {
        "id": "izFEeg--ipt5"
      },
      "outputs": [],
      "source": [
        "y_pred_rf = rf_model.predict(X_test) # Memprediksi data test menggunakan model Random Forest"
      ]
    },
    {
      "cell_type": "code",
      "execution_count": 58,
      "metadata": {
        "colab": {
          "base_uri": "https://localhost:8080/"
        },
        "id": "gofKGOKYiqOr",
        "outputId": "2a6c6908-ef44-4182-ece8-2eda47ee812f"
      },
      "outputs": [
        {
          "name": "stdout",
          "output_type": "stream",
          "text": [
            "\n",
            "Random Forest Model:\n",
            "Accuracy: 0.92\n",
            "Classification Report:\n",
            "              precision    recall  f1-score   support\n",
            "\n",
            "         0.0       0.94      0.89      0.92        38\n",
            "         1.0       0.85      0.92      0.88        37\n",
            "         2.0       0.89      0.89      0.89        37\n",
            "         3.0       0.95      0.97      0.96        38\n",
            "         4.0       0.97      0.92      0.94        37\n",
            "\n",
            "    accuracy                           0.92       187\n",
            "   macro avg       0.92      0.92      0.92       187\n",
            "weighted avg       0.92      0.92      0.92       187\n",
            "\n"
          ]
        }
      ],
      "source": [
        "# Menampilkan evaluasi model Random Forest\n",
        "print(\"\\nRandom Forest Model:\")\n",
        "accuracy_rf_smote = round(accuracy_score(y_test, y_pred_rf),3)\n",
        "print(\"Accuracy:\",accuracy_rf_smote)\n",
        "print(\"Classification Report:\")\n",
        "print(classification_report(y_test, y_pred_rf))"
      ]
    },
    {
      "cell_type": "code",
      "execution_count": 59,
      "metadata": {
        "colab": {
          "base_uri": "https://localhost:8080/"
        },
        "id": "s7yu8ZecisSH",
        "outputId": "5a593c45-f967-427e-c19b-8b4d5dd58131"
      },
      "outputs": [
        {
          "name": "stdout",
          "output_type": "stream",
          "text": [
            "{'accuracy': 0.92, 'recall': 0.92, 'F1 score': 0.92, 'Precision score': 0.922}\n"
          ]
        }
      ],
      "source": [
        "evaluation(y_test,y_pred_rf) # Memanggil fungsi evaluasi untuk Random Forest"
      ]
    },
    {
      "cell_type": "code",
      "execution_count": 60,
      "metadata": {
        "colab": {
          "base_uri": "https://localhost:8080/",
          "height": 564
        },
        "id": "MdxLnyGSiuZP",
        "outputId": "1fda3027-dfdc-4651-8b7b-71f666ca34ad"
      },
      "outputs": [
        {
          "data": {
            "image/png": "[encoded data removed]",
            "text/plain": [
              "<Figure size 800x600 with 2 Axes>"
            ]
          },
          "metadata": {},
          "output_type": "display_data"
        }
      ],
      "source": [
        "# Menampilkan confusion matrix untuk Random Forest\n",
        "cm = confusion_matrix(y_test, y_pred_rf)\n",
        "plt.figure(figsize=(8, 6))\n",
        "sns.heatmap(cm, annot=True, fmt=\"d\", cmap=\"Blues\")\n",
        "plt.title('Confusion Matrix')\n",
        "plt.xlabel('True')\n",
        "plt.ylabel('Predict')\n",
        "plt.show()"
      ]
    },
    {
      "cell_type": "markdown",
      "metadata": {
        "id": "TiJ-MSXNizsy"
      },
      "source": [
        "### **XGBOOST**"
      ]
    },
    {
      "cell_type": "markdown",
      "metadata": {
        "id": "lwM-trCwi3E2"
      },
      "source": [
        "Pada tahap ini dalam membangun model, kita akan menggunakan algoritma XGBoost dengan learning rate yaitu 0.1. learning rate berguna\n",
        "untuk mengontrol seberapa besar kita menyesuaikan bobot model."
      ]
    },
    {
      "cell_type": "code",
      "execution_count": 61,
      "metadata": {
        "colab": {
          "base_uri": "https://localhost:8080/",
          "height": 248
        },
        "id": "jJHyAmyBiw7i",
        "outputId": "6155706f-5cb3-4002-add4-5b3d44b81112"
      },
      "outputs": [
        {
          "data": {
            "text/html": [
              "<style>#sk-container-id-3 {color: black;}#sk-container-id-3 pre{padding: 0;}#sk-container-id-3 div.sk-toggleable {background-color: white;}#sk-container-id-3 label.sk-toggleable__label {cursor: pointer;display: block;width: 100%;margin-bottom: 0;padding: 0.3em;box-sizing: border-box;text-align: center;}#sk-container-id-3 label.sk-toggleable__label-arrow:before {content: \"▸\";float: left;margin-right: 0.25em;color: #696969;}#sk-container-id-3 label.sk-toggleable__label-arrow:hover:before {color: black;}#sk-container-id-3 div.sk-estimator:hover label.sk-toggleable__label-arrow:before {color: black;}#sk-container-id-3 div.sk-toggleable__content {max-height: 0;max-width: 0;overflow: hidden;text-align: left;background-color: #f0f8ff;}#sk-container-id-3 div.sk-toggleable__content pre {margin: 0.2em;color: black;border-radius: 0.25em;background-color: #f0f8ff;}#sk-container-id-3 input.sk-toggleable__control:checked~div.sk-toggleable__content {max-height: 200px;max-width: 100%;overflow: auto;}#sk-container-id-3 input.sk-toggleable__control:checked~label.sk-toggleable__label-arrow:before {content: \"▾\";}#sk-container-id-3 div.sk-estimator input.sk-toggleable__control:checked~label.sk-toggleable__label {background-color: #d4ebff;}#sk-container-id-3 div.sk-label input.sk-toggleable__control:checked~label.sk-toggleable__label {background-color: #d4ebff;}#sk-container-id-3 input.sk-hidden--visually {border: 0;clip: rect(1px 1px 1px 1px);clip: rect(1px, 1px, 1px, 1px);height: 1px;margin: -1px;overflow: hidden;padding: 0;position: absolute;width: 1px;}#sk-container-id-3 div.sk-estimator {font-family: monospace;background-color: #f0f8ff;border: 1px dotted black;border-radius: 0.25em;box-sizing: border-box;margin-bottom: 0.5em;}#sk-container-id-3 div.sk-estimator:hover {background-color: #d4ebff;}#sk-container-id-3 div.sk-parallel-item::after {content: \"\";width: 100%;border-bottom: 1px solid gray;flex-grow: 1;}#sk-container-id-3 div.sk-label:hover label.sk-toggleable__label {background-color: #d4ebff;}#sk-container-id-3 div.sk-serial::before {content: \"\";position: absolute;border-left: 1px solid gray;box-sizing: border-box;top: 0;bottom: 0;left: 50%;z-index: 0;}#sk-container-id-3 div.sk-serial {display: flex;flex-direction: column;align-items: center;background-color: white;padding-right: 0.2em;padding-left: 0.2em;position: relative;}#sk-container-id-3 div.sk-item {position: relative;z-index: 1;}#sk-container-id-3 div.sk-parallel {display: flex;align-items: stretch;justify-content: center;background-color: white;position: relative;}#sk-container-id-3 div.sk-item::before, #sk-container-id-3 div.sk-parallel-item::before {content: \"\";position: absolute;border-left: 1px solid gray;box-sizing: border-box;top: 0;bottom: 0;left: 50%;z-index: -1;}#sk-container-id-3 div.sk-parallel-item {display: flex;flex-direction: column;z-index: 1;position: relative;background-color: white;}#sk-container-id-3 div.sk-parallel-item:first-child::after {align-self: flex-end;width: 50%;}#sk-container-id-3 div.sk-parallel-item:last-child::after {align-self: flex-start;width: 50%;}#sk-container-id-3 div.sk-parallel-item:only-child::after {width: 0;}#sk-container-id-3 div.sk-dashed-wrapped {border: 1px dashed gray;margin: 0 0.4em 0.5em 0.4em;box-sizing: border-box;padding-bottom: 0.4em;background-color: white;}#sk-container-id-3 div.sk-label label {font-family: monospace;font-weight: bold;display: inline-block;line-height: 1.2em;}#sk-container-id-3 div.sk-label-container {text-align: center;}#sk-container-id-3 div.sk-container {/* jupyter's `normalize.less` sets `[hidden] { display: none; }` but bootstrap.min.css set `[hidden] { display: none !important; }` so we also need the `!important` here to be able to override the default hidden behavior on the sphinx rendered scikit-learn.org. See: https://github.com/scikit-learn/scikit-learn/issues/21755 */display: inline-block !important;position: relative;}#sk-container-id-3 div.sk-text-repr-fallback {display: none;}</style><div id=\"sk-container-id-3\" class=\"sk-top-container\"><div class=\"sk-text-repr-fallback\"><pre>XGBClassifier(base_score=None, booster=None, callbacks=None,\n",
              "              colsample_bylevel=None, colsample_bynode=None,\n",
              "              colsample_bytree=None, device=None, early_stopping_rounds=None,\n",
              "              enable_categorical=False, eval_metric=None, feature_types=None,\n",
              "              gamma=None, grow_policy=None, importance_type=None,\n",
              "              interaction_constraints=None, learning_rate=0.1, max_bin=None,\n",
              "              max_cat_threshold=None, max_cat_to_onehot=None,\n",
              "              max_delta_step=None, max_depth=None, max_leaves=None,\n",
              "              min_child_weight=None, missing=nan, monotone_constraints=None,\n",
              "              multi_strategy=None, n_estimators=100, n_jobs=None,\n",
              "              num_parallel_tree=None, objective=&#x27;multi:softprob&#x27;, ...)</pre><b>In a Jupyter environment, please rerun this cell to show the HTML representation or trust the notebook. <br />On GitHub, the HTML representation is unable to render, please try loading this page with nbviewer.org.</b></div><div class=\"sk-container\" hidden><div class=\"sk-item\"><div class=\"sk-estimator sk-toggleable\"><input class=\"sk-toggleable__control sk-hidden--visually\" id=\"sk-estimator-id-3\" type=\"checkbox\" checked><label for=\"sk-estimator-id-3\" class=\"sk-toggleable__label sk-toggleable__label-arrow\">XGBClassifier</label><div class=\"sk-toggleable__content\"><pre>XGBClassifier(base_score=None, booster=None, callbacks=None,\n",
              "              colsample_bylevel=None, colsample_bynode=None,\n",
              "              colsample_bytree=None, device=None, early_stopping_rounds=None,\n",
              "              enable_categorical=False, eval_metric=None, feature_types=None,\n",
              "              gamma=None, grow_policy=None, importance_type=None,\n",
              "              interaction_constraints=None, learning_rate=0.1, max_bin=None,\n",
              "              max_cat_threshold=None, max_cat_to_onehot=None,\n",
              "              max_delta_step=None, max_depth=None, max_leaves=None,\n",
              "              min_child_weight=None, missing=nan, monotone_constraints=None,\n",
              "              multi_strategy=None, n_estimators=100, n_jobs=None,\n",
              "              num_parallel_tree=None, objective=&#x27;multi:softprob&#x27;, ...)</pre></div></div></div></div></div>"
            ],
            "text/plain": [
              "XGBClassifier(base_score=None, booster=None, callbacks=None,\n",
              "              colsample_bylevel=None, colsample_bynode=None,\n",
              "              colsample_bytree=None, device=None, early_stopping_rounds=None,\n",
              "              enable_categorical=False, eval_metric=None, feature_types=None,\n",
              "              gamma=None, grow_policy=None, importance_type=None,\n",
              "              interaction_constraints=None, learning_rate=0.1, max_bin=None,\n",
              "              max_cat_threshold=None, max_cat_to_onehot=None,\n",
              "              max_delta_step=None, max_depth=None, max_leaves=None,\n",
              "              min_child_weight=None, missing=nan, monotone_constraints=None,\n",
              "              multi_strategy=None, n_estimators=100, n_jobs=None,\n",
              "              num_parallel_tree=None, objective='multi:softprob', ...)"
            ]
          },
          "execution_count": 61,
          "metadata": {},
          "output_type": "execute_result"
        }
      ],
      "source": [
        "# Membuat model XGBoost dengan learning_rate=0.1 dan n_estimators=100\n",
        "xgb_model = XGBClassifier(learning_rate=0.1, n_estimators=100, random_state=42)\n",
        "xgb_model.fit(X_train, y_train)"
      ]
    },
    {
      "cell_type": "code",
      "execution_count": 62,
      "metadata": {
        "id": "z-Ks1KRDi8GS"
      },
      "outputs": [],
      "source": [
        "y_pred_xgb = xgb_model.predict(X_test) # Memprediksi data test menggunakan model XGBoost"
      ]
    },
    {
      "cell_type": "code",
      "execution_count": 63,
      "metadata": {
        "colab": {
          "base_uri": "https://localhost:8080/"
        },
        "id": "7RtjTj2-i8ig",
        "outputId": "5a1625af-669d-4fd6-9072-f2a429fc5236"
      },
      "outputs": [
        {
          "name": "stdout",
          "output_type": "stream",
          "text": [
            "\n",
            "XGBoost Model:\n",
            "Accuracy: 0.904\n",
            "Classification Report:\n",
            "              precision    recall  f1-score   support\n",
            "\n",
            "         0.0       0.92      0.89      0.91        38\n",
            "         1.0       0.94      0.84      0.89        37\n",
            "         2.0       0.85      0.89      0.87        37\n",
            "         3.0       0.88      0.97      0.93        38\n",
            "         4.0       0.94      0.92      0.93        37\n",
            "\n",
            "    accuracy                           0.90       187\n",
            "   macro avg       0.91      0.90      0.90       187\n",
            "weighted avg       0.91      0.90      0.90       187\n",
            "\n"
          ]
        }
      ],
      "source": [
        "# Menampilkan evaluasi model XGBoost\n",
        "print(\"\\nXGBoost Model:\")\n",
        "accuracy_xgb_smote = round(accuracy_score(y_test, y_pred_xgb),3)\n",
        "print(\"Accuracy:\",accuracy_xgb_smote)\n",
        "print(\"Classification Report:\")\n",
        "print(classification_report(y_test, y_pred_xgb))"
      ]
    },
    {
      "cell_type": "code",
      "execution_count": 64,
      "metadata": {
        "colab": {
          "base_uri": "https://localhost:8080/"
        },
        "id": "FuigvXp7i-3K",
        "outputId": "9a208492-04ca-486d-bef4-4f3ff851cb43"
      },
      "outputs": [
        {
          "name": "stdout",
          "output_type": "stream",
          "text": [
            "{'accuracy': 0.904, 'recall': 0.904, 'F1 score': 0.904, 'Precision score': 0.906}\n"
          ]
        }
      ],
      "source": [
        "evaluation(y_test,y_pred_xgb) # Memanggil fungsi evaluasi untuk XGBoost"
      ]
    },
    {
      "cell_type": "code",
      "execution_count": 65,
      "metadata": {
        "colab": {
          "base_uri": "https://localhost:8080/",
          "height": 564
        },
        "id": "G-V428dGjAe-",
        "outputId": "16aba50f-adcc-4bd9-ff0f-791acc00a1c7"
      },
      "outputs": [
        {
          "data": {
            "image/png": "[encoded data removed]",
            "text/plain": [
              "<Figure size 800x600 with 2 Axes>"
            ]
          },
          "metadata": {},
          "output_type": "display_data"
        }
      ],
      "source": [
        "# Menampilkan confusion matrix untuk XGBoost\n",
        "cm = confusion_matrix(y_test, y_pred_xgb)\n",
        "plt.figure(figsize=(8, 6))\n",
        "sns.heatmap(cm, annot=True, fmt=\"d\", cmap=\"Blues\")\n",
        "plt.title('Confusion Matrix')\n",
        "plt.xlabel('True')\n",
        "plt.ylabel('Predict')\n",
        "plt.show()"
      ]
    },
    {
      "cell_type": "markdown",
      "metadata": {
        "id": "i24jWs4ujEBm"
      },
      "source": [
        "## **OVERSAMPLE + NORMALISASI**"
      ]
    },
    {
      "cell_type": "markdown",
      "metadata": {
        "id": "Q7LVM12ljchs"
      },
      "source": [
        "Pada bagian ini kita akan membuat sebuah model yang dimana data yang dipakai kali ini yang sudah dilakukan oversample dan normalisasi.\n",
        "Algoritma yang digunakan sama seperti sebelumnya yaitu KNN, Random Forest, dan XGBoost. Sekaligus dibuat visualisasi hasil evaluasi pada\n",
        "masing-masing model."
      ]
    },
    {
      "cell_type": "markdown",
      "metadata": {
        "id": "hlZsUroHjecK"
      },
      "source": [
        "### **KNN**"
      ]
    },
    {
      "cell_type": "code",
      "execution_count": 66,
      "metadata": {
        "colab": {
          "base_uri": "https://localhost:8080/",
          "height": 74
        },
        "id": "fvfzo2-NjUWo",
        "outputId": "74d6e6d9-a9ea-43a7-e69a-1cae29842085"
      },
      "outputs": [
        {
          "data": {
            "text/html": [
              "<style>#sk-container-id-4 {color: black;}#sk-container-id-4 pre{padding: 0;}#sk-container-id-4 div.sk-toggleable {background-color: white;}#sk-container-id-4 label.sk-toggleable__label {cursor: pointer;display: block;width: 100%;margin-bottom: 0;padding: 0.3em;box-sizing: border-box;text-align: center;}#sk-container-id-4 label.sk-toggleable__label-arrow:before {content: \"▸\";float: left;margin-right: 0.25em;color: #696969;}#sk-container-id-4 label.sk-toggleable__label-arrow:hover:before {color: black;}#sk-container-id-4 div.sk-estimator:hover label.sk-toggleable__label-arrow:before {color: black;}#sk-container-id-4 div.sk-toggleable__content {max-height: 0;max-width: 0;overflow: hidden;text-align: left;background-color: #f0f8ff;}#sk-container-id-4 div.sk-toggleable__content pre {margin: 0.2em;color: black;border-radius: 0.25em;background-color: #f0f8ff;}#sk-container-id-4 input.sk-toggleable__control:checked~div.sk-toggleable__content {max-height: 200px;max-width: 100%;overflow: auto;}#sk-container-id-4 input.sk-toggleable__control:checked~label.sk-toggleable__label-arrow:before {content: \"▾\";}#sk-container-id-4 div.sk-estimator input.sk-toggleable__control:checked~label.sk-toggleable__label {background-color: #d4ebff;}#sk-container-id-4 div.sk-label input.sk-toggleable__control:checked~label.sk-toggleable__label {background-color: #d4ebff;}#sk-container-id-4 input.sk-hidden--visually {border: 0;clip: rect(1px 1px 1px 1px);clip: rect(1px, 1px, 1px, 1px);height: 1px;margin: -1px;overflow: hidden;padding: 0;position: absolute;width: 1px;}#sk-container-id-4 div.sk-estimator {font-family: monospace;background-color: #f0f8ff;border: 1px dotted black;border-radius: 0.25em;box-sizing: border-box;margin-bottom: 0.5em;}#sk-container-id-4 div.sk-estimator:hover {background-color: #d4ebff;}#sk-container-id-4 div.sk-parallel-item::after {content: \"\";width: 100%;border-bottom: 1px solid gray;flex-grow: 1;}#sk-container-id-4 div.sk-label:hover label.sk-toggleable__label {background-color: #d4ebff;}#sk-container-id-4 div.sk-serial::before {content: \"\";position: absolute;border-left: 1px solid gray;box-sizing: border-box;top: 0;bottom: 0;left: 50%;z-index: 0;}#sk-container-id-4 div.sk-serial {display: flex;flex-direction: column;align-items: center;background-color: white;padding-right: 0.2em;padding-left: 0.2em;position: relative;}#sk-container-id-4 div.sk-item {position: relative;z-index: 1;}#sk-container-id-4 div.sk-parallel {display: flex;align-items: stretch;justify-content: center;background-color: white;position: relative;}#sk-container-id-4 div.sk-item::before, #sk-container-id-4 div.sk-parallel-item::before {content: \"\";position: absolute;border-left: 1px solid gray;box-sizing: border-box;top: 0;bottom: 0;left: 50%;z-index: -1;}#sk-container-id-4 div.sk-parallel-item {display: flex;flex-direction: column;z-index: 1;position: relative;background-color: white;}#sk-container-id-4 div.sk-parallel-item:first-child::after {align-self: flex-end;width: 50%;}#sk-container-id-4 div.sk-parallel-item:last-child::after {align-self: flex-start;width: 50%;}#sk-container-id-4 div.sk-parallel-item:only-child::after {width: 0;}#sk-container-id-4 div.sk-dashed-wrapped {border: 1px dashed gray;margin: 0 0.4em 0.5em 0.4em;box-sizing: border-box;padding-bottom: 0.4em;background-color: white;}#sk-container-id-4 div.sk-label label {font-family: monospace;font-weight: bold;display: inline-block;line-height: 1.2em;}#sk-container-id-4 div.sk-label-container {text-align: center;}#sk-container-id-4 div.sk-container {/* jupyter's `normalize.less` sets `[hidden] { display: none; }` but bootstrap.min.css set `[hidden] { display: none !important; }` so we also need the `!important` here to be able to override the default hidden behavior on the sphinx rendered scikit-learn.org. See: https://github.com/scikit-learn/scikit-learn/issues/21755 */display: inline-block !important;position: relative;}#sk-container-id-4 div.sk-text-repr-fallback {display: none;}</style><div id=\"sk-container-id-4\" class=\"sk-top-container\"><div class=\"sk-text-repr-fallback\"><pre>KNeighborsClassifier(n_neighbors=3)</pre><b>In a Jupyter environment, please rerun this cell to show the HTML representation or trust the notebook. <br />On GitHub, the HTML representation is unable to render, please try loading this page with nbviewer.org.</b></div><div class=\"sk-container\" hidden><div class=\"sk-item\"><div class=\"sk-estimator sk-toggleable\"><input class=\"sk-toggleable__control sk-hidden--visually\" id=\"sk-estimator-id-4\" type=\"checkbox\" checked><label for=\"sk-estimator-id-4\" class=\"sk-toggleable__label sk-toggleable__label-arrow\">KNeighborsClassifier</label><div class=\"sk-toggleable__content\"><pre>KNeighborsClassifier(n_neighbors=3)</pre></div></div></div></div></div>"
            ],
            "text/plain": [
              "KNeighborsClassifier(n_neighbors=3)"
            ]
          },
          "execution_count": 66,
          "metadata": {},
          "output_type": "execute_result"
        }
      ],
      "source": [
        "from sklearn.neighbors import KNeighborsClassifier\n",
        "from sklearn.ensemble import RandomForestClassifier\n",
        "from xgboost import XGBClassifier\n",
        "from sklearn.metrics import accuracy_score, classification_report\n",
        "\n",
        "# Membuat model K-Nearest Neighbors (KNN) dengan n_neighbors=3\n",
        "knn_model = KNeighborsClassifier(n_neighbors=3)\n",
        "knn_model.fit(X_train_normal, y_train_normal)"
      ]
    },
    {
      "cell_type": "code",
      "execution_count": 67,
      "metadata": {
        "id": "Tfl4vLtyjhw4"
      },
      "outputs": [],
      "source": [
        "y_pred_knn = knn_model.predict(X_test_normal) # Memprediksi data test menggunakan model KNN"
      ]
    },
    {
      "cell_type": "code",
      "execution_count": 68,
      "metadata": {
        "colab": {
          "base_uri": "https://localhost:8080/"
        },
        "id": "jhBEvE77jiax",
        "outputId": "351d9e4c-8ad2-4f68-f2c1-8363e5f2479d"
      },
      "outputs": [
        {
          "name": "stdout",
          "output_type": "stream",
          "text": [
            "K-Nearest Neighbors (KNN) Model:\n",
            "Accuracy: 0.861\n",
            "Classification Report:\n",
            "              precision    recall  f1-score   support\n",
            "\n",
            "         0.0       0.88      0.76      0.82        38\n",
            "         1.0       0.78      0.84      0.81        37\n",
            "         2.0       0.87      0.92      0.89        37\n",
            "         3.0       0.92      0.87      0.89        38\n",
            "         4.0       0.87      0.92      0.89        37\n",
            "\n",
            "    accuracy                           0.86       187\n",
            "   macro avg       0.86      0.86      0.86       187\n",
            "weighted avg       0.86      0.86      0.86       187\n",
            "\n"
          ]
        }
      ],
      "source": [
        "# Menampilkan evaluasi model KNN\n",
        "print(\"K-Nearest Neighbors (KNN) Model:\")\n",
        "accuracy_knn_smote_normal = round(accuracy_score(y_test_normal,y_pred_knn),3)\n",
        "print(\"Accuracy:\", accuracy_knn_smote_normal)\n",
        "print(\"Classification Report:\")\n",
        "print(classification_report(y_test_normal, y_pred_knn))"
      ]
    },
    {
      "cell_type": "code",
      "execution_count": 69,
      "metadata": {
        "colab": {
          "base_uri": "https://localhost:8080/"
        },
        "id": "KBCHz5wcjmeR",
        "outputId": "8637cf35-fa42-4e18-afb5-c9040a10843c"
      },
      "outputs": [
        {
          "name": "stdout",
          "output_type": "stream",
          "text": [
            "{'accuracy': 0.861, 'recall': 0.861, 'F1 score': 0.861, 'Precision score': 0.863}\n"
          ]
        }
      ],
      "source": [
        "evaluation(y_test_normal,y_pred_knn) # Memanggil fungsi evaluasi untuk KNN"
      ]
    },
    {
      "cell_type": "code",
      "execution_count": 70,
      "metadata": {
        "colab": {
          "base_uri": "https://localhost:8080/",
          "height": 564
        },
        "id": "PBM4nwTGjmnQ",
        "outputId": "212b60a2-6f9e-4994-bb9c-fe221c4b209d"
      },
      "outputs": [
        {
          "data": {
            "image/png": "[encoded data removed]",
            "text/plain": [
              "<Figure size 800x600 with 2 Axes>"
            ]
          },
          "metadata": {},
          "output_type": "display_data"
        }
      ],
      "source": [
        "# Menampilkan confusion matrix untuk KNN\n",
        "cm = confusion_matrix(y_test_normal, y_pred_knn)\n",
        "plt.figure(figsize=(8, 6))\n",
        "sns.heatmap(cm, annot=True, fmt=\"d\", cmap=\"Blues\")\n",
        "plt.title('Confusion Matrix')\n",
        "plt.xlabel('True')\n",
        "plt.ylabel('Predict')\n",
        "plt.show()"
      ]
    },
    {
      "cell_type": "markdown",
      "metadata": {
        "id": "xJCQFWNGjrD7"
      },
      "source": [
        "### **RANDOM FOREST**"
      ]
    },
    {
      "cell_type": "code",
      "execution_count": 71,
      "metadata": {
        "colab": {
          "base_uri": "https://localhost:8080/",
          "height": 74
        },
        "id": "SQLQHSkzjo-n",
        "outputId": "0714db5a-a8b2-4354-f94a-80235d91ce20"
      },
      "outputs": [
        {
          "data": {
            "text/html": [
              "<style>#sk-container-id-5 {color: black;}#sk-container-id-5 pre{padding: 0;}#sk-container-id-5 div.sk-toggleable {background-color: white;}#sk-container-id-5 label.sk-toggleable__label {cursor: pointer;display: block;width: 100%;margin-bottom: 0;padding: 0.3em;box-sizing: border-box;text-align: center;}#sk-container-id-5 label.sk-toggleable__label-arrow:before {content: \"▸\";float: left;margin-right: 0.25em;color: #696969;}#sk-container-id-5 label.sk-toggleable__label-arrow:hover:before {color: black;}#sk-container-id-5 div.sk-estimator:hover label.sk-toggleable__label-arrow:before {color: black;}#sk-container-id-5 div.sk-toggleable__content {max-height: 0;max-width: 0;overflow: hidden;text-align: left;background-color: #f0f8ff;}#sk-container-id-5 div.sk-toggleable__content pre {margin: 0.2em;color: black;border-radius: 0.25em;background-color: #f0f8ff;}#sk-container-id-5 input.sk-toggleable__control:checked~div.sk-toggleable__content {max-height: 200px;max-width: 100%;overflow: auto;}#sk-container-id-5 input.sk-toggleable__control:checked~label.sk-toggleable__label-arrow:before {content: \"▾\";}#sk-container-id-5 div.sk-estimator input.sk-toggleable__control:checked~label.sk-toggleable__label {background-color: #d4ebff;}#sk-container-id-5 div.sk-label input.sk-toggleable__control:checked~label.sk-toggleable__label {background-color: #d4ebff;}#sk-container-id-5 input.sk-hidden--visually {border: 0;clip: rect(1px 1px 1px 1px);clip: rect(1px, 1px, 1px, 1px);height: 1px;margin: -1px;overflow: hidden;padding: 0;position: absolute;width: 1px;}#sk-container-id-5 div.sk-estimator {font-family: monospace;background-color: #f0f8ff;border: 1px dotted black;border-radius: 0.25em;box-sizing: border-box;margin-bottom: 0.5em;}#sk-container-id-5 div.sk-estimator:hover {background-color: #d4ebff;}#sk-container-id-5 div.sk-parallel-item::after {content: \"\";width: 100%;border-bottom: 1px solid gray;flex-grow: 1;}#sk-container-id-5 div.sk-label:hover label.sk-toggleable__label {background-color: #d4ebff;}#sk-container-id-5 div.sk-serial::before {content: \"\";position: absolute;border-left: 1px solid gray;box-sizing: border-box;top: 0;bottom: 0;left: 50%;z-index: 0;}#sk-container-id-5 div.sk-serial {display: flex;flex-direction: column;align-items: center;background-color: white;padding-right: 0.2em;padding-left: 0.2em;position: relative;}#sk-container-id-5 div.sk-item {position: relative;z-index: 1;}#sk-container-id-5 div.sk-parallel {display: flex;align-items: stretch;justify-content: center;background-color: white;position: relative;}#sk-container-id-5 div.sk-item::before, #sk-container-id-5 div.sk-parallel-item::before {content: \"\";position: absolute;border-left: 1px solid gray;box-sizing: border-box;top: 0;bottom: 0;left: 50%;z-index: -1;}#sk-container-id-5 div.sk-parallel-item {display: flex;flex-direction: column;z-index: 1;position: relative;background-color: white;}#sk-container-id-5 div.sk-parallel-item:first-child::after {align-self: flex-end;width: 50%;}#sk-container-id-5 div.sk-parallel-item:last-child::after {align-self: flex-start;width: 50%;}#sk-container-id-5 div.sk-parallel-item:only-child::after {width: 0;}#sk-container-id-5 div.sk-dashed-wrapped {border: 1px dashed gray;margin: 0 0.4em 0.5em 0.4em;box-sizing: border-box;padding-bottom: 0.4em;background-color: white;}#sk-container-id-5 div.sk-label label {font-family: monospace;font-weight: bold;display: inline-block;line-height: 1.2em;}#sk-container-id-5 div.sk-label-container {text-align: center;}#sk-container-id-5 div.sk-container {/* jupyter's `normalize.less` sets `[hidden] { display: none; }` but bootstrap.min.css set `[hidden] { display: none !important; }` so we also need the `!important` here to be able to override the default hidden behavior on the sphinx rendered scikit-learn.org. See: https://github.com/scikit-learn/scikit-learn/issues/21755 */display: inline-block !important;position: relative;}#sk-container-id-5 div.sk-text-repr-fallback {display: none;}</style><div id=\"sk-container-id-5\" class=\"sk-top-container\"><div class=\"sk-text-repr-fallback\"><pre>RandomForestClassifier(random_state=42)</pre><b>In a Jupyter environment, please rerun this cell to show the HTML representation or trust the notebook. <br />On GitHub, the HTML representation is unable to render, please try loading this page with nbviewer.org.</b></div><div class=\"sk-container\" hidden><div class=\"sk-item\"><div class=\"sk-estimator sk-toggleable\"><input class=\"sk-toggleable__control sk-hidden--visually\" id=\"sk-estimator-id-5\" type=\"checkbox\" checked><label for=\"sk-estimator-id-5\" class=\"sk-toggleable__label sk-toggleable__label-arrow\">RandomForestClassifier</label><div class=\"sk-toggleable__content\"><pre>RandomForestClassifier(random_state=42)</pre></div></div></div></div></div>"
            ],
            "text/plain": [
              "RandomForestClassifier(random_state=42)"
            ]
          },
          "execution_count": 71,
          "metadata": {},
          "output_type": "execute_result"
        }
      ],
      "source": [
        "# Membuat model Random Forest dengan n_estimators=100\n",
        "rf_model = RandomForestClassifier(n_estimators=100, random_state=42)\n",
        "rf_model.fit(X_train_normal, y_train_normal)"
      ]
    },
    {
      "cell_type": "code",
      "execution_count": 72,
      "metadata": {
        "id": "yiHMpASfjuDz"
      },
      "outputs": [],
      "source": [
        "y_pred_rf = rf_model.predict(X_test_normal) # Memprediksi data test menggunakan model Random Forest"
      ]
    },
    {
      "cell_type": "code",
      "execution_count": 73,
      "metadata": {
        "colab": {
          "base_uri": "https://localhost:8080/"
        },
        "id": "uAxCyvEEjuUd",
        "outputId": "2f814807-b3ec-4685-faed-e3914cfd27dd"
      },
      "outputs": [
        {
          "name": "stdout",
          "output_type": "stream",
          "text": [
            "\n",
            "Random Forest Model:\n",
            "Accuracy: 0.92\n",
            "Classification Report:\n",
            "              precision    recall  f1-score   support\n",
            "\n",
            "         0.0       0.94      0.89      0.92        38\n",
            "         1.0       0.85      0.92      0.88        37\n",
            "         2.0       0.89      0.89      0.89        37\n",
            "         3.0       0.95      0.97      0.96        38\n",
            "         4.0       0.97      0.92      0.94        37\n",
            "\n",
            "    accuracy                           0.92       187\n",
            "   macro avg       0.92      0.92      0.92       187\n",
            "weighted avg       0.92      0.92      0.92       187\n",
            "\n"
          ]
        }
      ],
      "source": [
        "# Menampilkan evaluasi model Random Forest\n",
        "print(\"\\nRandom Forest Model:\")\n",
        "accuracy_rf_smote_normal = round(accuracy_score(y_test_normal, y_pred_rf),3)\n",
        "print(\"Accuracy:\",accuracy_rf_smote_normal )\n",
        "print(\"Classification Report:\")\n",
        "print(classification_report(y_test_normal, y_pred_rf))"
      ]
    },
    {
      "cell_type": "code",
      "execution_count": 74,
      "metadata": {
        "colab": {
          "base_uri": "https://localhost:8080/"
        },
        "id": "Di7Xpgr3jyMz",
        "outputId": "9adaec34-6452-4bf5-9b4b-929fbc64fe6b"
      },
      "outputs": [
        {
          "name": "stdout",
          "output_type": "stream",
          "text": [
            "{'accuracy': 0.92, 'recall': 0.92, 'F1 score': 0.92, 'Precision score': 0.922}\n"
          ]
        }
      ],
      "source": [
        "evaluation(y_test_normal,y_pred_rf) # Memanggil fungsi evaluasi untuk Random Forest"
      ]
    },
    {
      "cell_type": "code",
      "execution_count": 75,
      "metadata": {
        "colab": {
          "base_uri": "https://localhost:8080/",
          "height": 564
        },
        "id": "7nHLoGmwjz9R",
        "outputId": "e56637e7-5f8a-4fff-f2c9-68bbcfe85d48"
      },
      "outputs": [
        {
          "data": {
            "image/png": "[encoded data removed]",
            "text/plain": [
              "<Figure size 800x600 with 2 Axes>"
            ]
          },
          "metadata": {},
          "output_type": "display_data"
        }
      ],
      "source": [
        "# Menampilkan confusion matrix untuk Random Forest\n",
        "cm = confusion_matrix(y_test_normal, y_pred_rf)\n",
        "plt.figure(figsize=(8, 6))\n",
        "sns.heatmap(cm, annot=True, fmt=\"d\", cmap=\"Blues\")\n",
        "plt.title('Confusion Matrix')\n",
        "plt.xlabel('True')\n",
        "plt.ylabel('Predict')\n",
        "plt.show()"
      ]
    },
    {
      "cell_type": "markdown",
      "metadata": {
        "id": "BfCW-jpcj5Rd"
      },
      "source": [
        "### **XGBOOST**"
      ]
    },
    {
      "cell_type": "code",
      "execution_count": 76,
      "metadata": {
        "colab": {
          "base_uri": "https://localhost:8080/",
          "height": 248
        },
        "id": "9zFEw20wj2vx",
        "outputId": "002bdf4b-f1a8-4ae3-d807-c322136f369d"
      },
      "outputs": [
        {
          "data": {
            "text/html": [
              "<style>#sk-container-id-6 {color: black;}#sk-container-id-6 pre{padding: 0;}#sk-container-id-6 div.sk-toggleable {background-color: white;}#sk-container-id-6 label.sk-toggleable__label {cursor: pointer;display: block;width: 100%;margin-bottom: 0;padding: 0.3em;box-sizing: border-box;text-align: center;}#sk-container-id-6 label.sk-toggleable__label-arrow:before {content: \"▸\";float: left;margin-right: 0.25em;color: #696969;}#sk-container-id-6 label.sk-toggleable__label-arrow:hover:before {color: black;}#sk-container-id-6 div.sk-estimator:hover label.sk-toggleable__label-arrow:before {color: black;}#sk-container-id-6 div.sk-toggleable__content {max-height: 0;max-width: 0;overflow: hidden;text-align: left;background-color: #f0f8ff;}#sk-container-id-6 div.sk-toggleable__content pre {margin: 0.2em;color: black;border-radius: 0.25em;background-color: #f0f8ff;}#sk-container-id-6 input.sk-toggleable__control:checked~div.sk-toggleable__content {max-height: 200px;max-width: 100%;overflow: auto;}#sk-container-id-6 input.sk-toggleable__control:checked~label.sk-toggleable__label-arrow:before {content: \"▾\";}#sk-container-id-6 div.sk-estimator input.sk-toggleable__control:checked~label.sk-toggleable__label {background-color: #d4ebff;}#sk-container-id-6 div.sk-label input.sk-toggleable__control:checked~label.sk-toggleable__label {background-color: #d4ebff;}#sk-container-id-6 input.sk-hidden--visually {border: 0;clip: rect(1px 1px 1px 1px);clip: rect(1px, 1px, 1px, 1px);height: 1px;margin: -1px;overflow: hidden;padding: 0;position: absolute;width: 1px;}#sk-container-id-6 div.sk-estimator {font-family: monospace;background-color: #f0f8ff;border: 1px dotted black;border-radius: 0.25em;box-sizing: border-box;margin-bottom: 0.5em;}#sk-container-id-6 div.sk-estimator:hover {background-color: #d4ebff;}#sk-container-id-6 div.sk-parallel-item::after {content: \"\";width: 100%;border-bottom: 1px solid gray;flex-grow: 1;}#sk-container-id-6 div.sk-label:hover label.sk-toggleable__label {background-color: #d4ebff;}#sk-container-id-6 div.sk-serial::before {content: \"\";position: absolute;border-left: 1px solid gray;box-sizing: border-box;top: 0;bottom: 0;left: 50%;z-index: 0;}#sk-container-id-6 div.sk-serial {display: flex;flex-direction: column;align-items: center;background-color: white;padding-right: 0.2em;padding-left: 0.2em;position: relative;}#sk-container-id-6 div.sk-item {position: relative;z-index: 1;}#sk-container-id-6 div.sk-parallel {display: flex;align-items: stretch;justify-content: center;background-color: white;position: relative;}#sk-container-id-6 div.sk-item::before, #sk-container-id-6 div.sk-parallel-item::before {content: \"\";position: absolute;border-left: 1px solid gray;box-sizing: border-box;top: 0;bottom: 0;left: 50%;z-index: -1;}#sk-container-id-6 div.sk-parallel-item {display: flex;flex-direction: column;z-index: 1;position: relative;background-color: white;}#sk-container-id-6 div.sk-parallel-item:first-child::after {align-self: flex-end;width: 50%;}#sk-container-id-6 div.sk-parallel-item:last-child::after {align-self: flex-start;width: 50%;}#sk-container-id-6 div.sk-parallel-item:only-child::after {width: 0;}#sk-container-id-6 div.sk-dashed-wrapped {border: 1px dashed gray;margin: 0 0.4em 0.5em 0.4em;box-sizing: border-box;padding-bottom: 0.4em;background-color: white;}#sk-container-id-6 div.sk-label label {font-family: monospace;font-weight: bold;display: inline-block;line-height: 1.2em;}#sk-container-id-6 div.sk-label-container {text-align: center;}#sk-container-id-6 div.sk-container {/* jupyter's `normalize.less` sets `[hidden] { display: none; }` but bootstrap.min.css set `[hidden] { display: none !important; }` so we also need the `!important` here to be able to override the default hidden behavior on the sphinx rendered scikit-learn.org. See: https://github.com/scikit-learn/scikit-learn/issues/21755 */display: inline-block !important;position: relative;}#sk-container-id-6 div.sk-text-repr-fallback {display: none;}</style><div id=\"sk-container-id-6\" class=\"sk-top-container\"><div class=\"sk-text-repr-fallback\"><pre>XGBClassifier(base_score=None, booster=None, callbacks=None,\n",
              "              colsample_bylevel=None, colsample_bynode=None,\n",
              "              colsample_bytree=None, device=None, early_stopping_rounds=None,\n",
              "              enable_categorical=False, eval_metric=None, feature_types=None,\n",
              "              gamma=None, grow_policy=None, importance_type=None,\n",
              "              interaction_constraints=None, learning_rate=0.1, max_bin=None,\n",
              "              max_cat_threshold=None, max_cat_to_onehot=None,\n",
              "              max_delta_step=None, max_depth=None, max_leaves=None,\n",
              "              min_child_weight=None, missing=nan, monotone_constraints=None,\n",
              "              multi_strategy=None, n_estimators=100, n_jobs=None,\n",
              "              num_parallel_tree=None, objective=&#x27;multi:softprob&#x27;, ...)</pre><b>In a Jupyter environment, please rerun this cell to show the HTML representation or trust the notebook. <br />On GitHub, the HTML representation is unable to render, please try loading this page with nbviewer.org.</b></div><div class=\"sk-container\" hidden><div class=\"sk-item\"><div class=\"sk-estimator sk-toggleable\"><input class=\"sk-toggleable__control sk-hidden--visually\" id=\"sk-estimator-id-6\" type=\"checkbox\" checked><label for=\"sk-estimator-id-6\" class=\"sk-toggleable__label sk-toggleable__label-arrow\">XGBClassifier</label><div class=\"sk-toggleable__content\"><pre>XGBClassifier(base_score=None, booster=None, callbacks=None,\n",
              "              colsample_bylevel=None, colsample_bynode=None,\n",
              "              colsample_bytree=None, device=None, early_stopping_rounds=None,\n",
              "              enable_categorical=False, eval_metric=None, feature_types=None,\n",
              "              gamma=None, grow_policy=None, importance_type=None,\n",
              "              interaction_constraints=None, learning_rate=0.1, max_bin=None,\n",
              "              max_cat_threshold=None, max_cat_to_onehot=None,\n",
              "              max_delta_step=None, max_depth=None, max_leaves=None,\n",
              "              min_child_weight=None, missing=nan, monotone_constraints=None,\n",
              "              multi_strategy=None, n_estimators=100, n_jobs=None,\n",
              "              num_parallel_tree=None, objective=&#x27;multi:softprob&#x27;, ...)</pre></div></div></div></div></div>"
            ],
            "text/plain": [
              "XGBClassifier(base_score=None, booster=None, callbacks=None,\n",
              "              colsample_bylevel=None, colsample_bynode=None,\n",
              "              colsample_bytree=None, device=None, early_stopping_rounds=None,\n",
              "              enable_categorical=False, eval_metric=None, feature_types=None,\n",
              "              gamma=None, grow_policy=None, importance_type=None,\n",
              "              interaction_constraints=None, learning_rate=0.1, max_bin=None,\n",
              "              max_cat_threshold=None, max_cat_to_onehot=None,\n",
              "              max_delta_step=None, max_depth=None, max_leaves=None,\n",
              "              min_child_weight=None, missing=nan, monotone_constraints=None,\n",
              "              multi_strategy=None, n_estimators=100, n_jobs=None,\n",
              "              num_parallel_tree=None, objective='multi:softprob', ...)"
            ]
          },
          "execution_count": 76,
          "metadata": {},
          "output_type": "execute_result"
        }
      ],
      "source": [
        "# Membuat model XGBoost dengan learning_rate=0.1 dan n_estimators=100\n",
        "xgb_model = XGBClassifier(learning_rate=0.1, n_estimators=100, random_state=42)\n",
        "xgb_model.fit(X_train_normal, y_train_normal)"
      ]
    },
    {
      "cell_type": "code",
      "execution_count": 77,
      "metadata": {
        "id": "lXLXms9Qj3CB"
      },
      "outputs": [],
      "source": [
        "y_pred_xgb = xgb_model.predict(X_test_normal) # Memprediksi data test menggunakan model XGBoost"
      ]
    },
    {
      "cell_type": "code",
      "execution_count": 78,
      "metadata": {
        "colab": {
          "base_uri": "https://localhost:8080/"
        },
        "id": "Vjzumw4jj_O3",
        "outputId": "061eb33e-3f93-495c-ec8b-6d1ceb12ae8d"
      },
      "outputs": [
        {
          "name": "stdout",
          "output_type": "stream",
          "text": [
            "\n",
            "XGBoost Model:\n",
            "Accuracy: 0.904\n",
            "Classification Report:\n",
            "              precision    recall  f1-score   support\n",
            "\n",
            "         0.0       0.92      0.89      0.91        38\n",
            "         1.0       0.94      0.84      0.89        37\n",
            "         2.0       0.85      0.89      0.87        37\n",
            "         3.0       0.88      0.97      0.93        38\n",
            "         4.0       0.94      0.92      0.93        37\n",
            "\n",
            "    accuracy                           0.90       187\n",
            "   macro avg       0.91      0.90      0.90       187\n",
            "weighted avg       0.91      0.90      0.90       187\n",
            "\n"
          ]
        }
      ],
      "source": [
        "# Menampilkan evaluasi model XGBoost\n",
        "print(\"\\nXGBoost Model:\")\n",
        "accuracy_xgb_smote_normal = round(accuracy_score(y_test_normal, y_pred_xgb),3)\n",
        "print(\"Accuracy:\",accuracy_xgb_smote_normal)\n",
        "print(\"Classification Report:\")\n",
        "print(classification_report(y_test_normal, y_pred_xgb))"
      ]
    },
    {
      "cell_type": "code",
      "execution_count": 79,
      "metadata": {
        "colab": {
          "base_uri": "https://localhost:8080/"
        },
        "id": "OawyRO3QkCpb",
        "outputId": "9a2cac9e-9eb0-4cba-ea90-cb1dd43f0045"
      },
      "outputs": [
        {
          "name": "stdout",
          "output_type": "stream",
          "text": [
            "{'accuracy': 0.904, 'recall': 0.904, 'F1 score': 0.904, 'Precision score': 0.906}\n"
          ]
        }
      ],
      "source": [
        "evaluation(y_test_normal,y_pred_xgb) # Memanggil fungsi evaluasi untuk XGBoost"
      ]
    },
    {
      "cell_type": "code",
      "execution_count": 80,
      "metadata": {
        "colab": {
          "base_uri": "https://localhost:8080/",
          "height": 564
        },
        "id": "MnQul7mqkEf-",
        "outputId": "96999355-1dcc-44fa-d7b1-e80a60d20a05"
      },
      "outputs": [
        {
          "data": {
            "image/png": "[encoded data removed]",
            "text/plain": [
              "<Figure size 800x600 with 2 Axes>"
            ]
          },
          "metadata": {},
          "output_type": "display_data"
        }
      ],
      "source": [
        "# Menampilkan confusion matrix untuk XGBoost\n",
        "cm = confusion_matrix(y_test_normal, y_pred_xgb)\n",
        "plt.figure(figsize=(8, 6))\n",
        "sns.heatmap(cm, annot=True, fmt=\"d\", cmap=\"Blues\")\n",
        "plt.title('Confusion Matrix')\n",
        "plt.xlabel('True')\n",
        "plt.ylabel('Predict')\n",
        "plt.show()"
      ]
    },
    {
      "cell_type": "markdown",
      "metadata": {
        "id": "ohDGOV8skIAB"
      },
      "source": [
        "## **Tunning + Normalization + Oversample**"
      ]
    },
    {
      "cell_type": "markdown",
      "metadata": {
        "id": "L9msrme3kO7M"
      },
      "source": [
        "Pada pembuatan model kali ini masih menggunakan algoritma yang sama (KNN, Random Forest, dan XGBoost), namun data yang digunakan\n",
        "adalah data yang sudah dilakukan TunNIng Parameter, Normalisasi, dan Oversample."
      ]
    },
    {
      "cell_type": "markdown",
      "metadata": {
        "id": "oTxu1Yh0kLiA"
      },
      "source": [
        "### **KNN**"
      ]
    },
    {
      "cell_type": "code",
      "execution_count": 81,
      "metadata": {
        "id": "nCz9Z6U8kVG9"
      },
      "outputs": [],
      "source": [
        "from sklearn.neighbors import KNeighborsClassifier\n",
        "from sklearn.ensemble import RandomForestClassifier\n",
        "from xgboost import XGBClassifier\n",
        "from sklearn.metrics import accuracy_score, classification_report\n",
        "from sklearn.model_selection import RandomizedSearchCV"
      ]
    },
    {
      "cell_type": "markdown",
      "metadata": {
        "id": "dpkJsSzqkQuK"
      },
      "source": [
        "Setiap parameter tunnning tidak selalu sama karena bergantung pada algoritma yang digunakan."
      ]
    },
    {
      "cell_type": "code",
      "execution_count": 82,
      "metadata": {
        "id": "OaZz-JyQkYT1"
      },
      "outputs": [],
      "source": [
        "# Membuat model K-Nearest Neighbors (KNN) dengan RandomizedSearchCV untuk tuning hyperparameter\n",
        "knn_model = KNeighborsClassifier()"
      ]
    },
    {
      "cell_type": "code",
      "execution_count": 83,
      "metadata": {
        "colab": {
          "base_uri": "https://localhost:8080/"
        },
        "id": "zLf4lN1UkYfE",
        "outputId": "c104605e-cf54-4847-d581-37d04f5dd3ac"
      },
      "outputs": [
        {
          "name": "stdout",
          "output_type": "stream",
          "text": [
            "Best parameters: {'weights': 'distance', 'n_neighbors': 5, 'metric': 'manhattan', 'leaf_size': 37, 'algorithm': 'kd_tree'}\n"
          ]
        }
      ],
      "source": [
        "# Menentukan grid parameter yang akan di-tune\n",
        "param_grid = {\n",
        "      \"n_neighbors\": range(3, 21),\n",
        "      \"metric\": [\"euclidean\", \"manhattan\", \"chebyshev\"],\n",
        "      \"weights\": [\"uniform\", \"distance\"],\n",
        "      \"algorithm\": [\"auto\", \"ball_tree\", \"kd_tree\"],\n",
        "      \"leaf_size\": range(10, 61),\n",
        "}\n",
        "# Menerapkan RandomizedSearchCV untuk mencari hyperparameter terbaik\n",
        "knn_model = RandomizedSearchCV(estimator=knn_model, param_distributions=param_grid, n_iter=100, scoring=\"accuracy\", cv=5)\n",
        "knn_model.fit(X_train_normal, y_train_normal)\n",
        "\n",
        "# Mendapatkan hyperparameter terbaik\n",
        "best_params = knn_model.best_params_\n",
        "print(f\"Best parameters: {best_params}\")"
      ]
    },
    {
      "cell_type": "code",
      "execution_count": 84,
      "metadata": {
        "id": "5M7M9tgHkk-c"
      },
      "outputs": [],
      "source": [
        "y_pred_knn = knn_model.predict(X_test_normal) # Memprediksi data test menggunakan model KNN yang telah di-tune"
      ]
    },
    {
      "cell_type": "code",
      "execution_count": 85,
      "metadata": {
        "colab": {
          "base_uri": "https://localhost:8080/"
        },
        "id": "zWF85JFhklvi",
        "outputId": "c798af07-3c1c-4385-ee27-fe773a8636e9"
      },
      "outputs": [
        {
          "name": "stdout",
          "output_type": "stream",
          "text": [
            "K-Nearest Neighbors (KNN) Model:\n",
            "Accuracy: 0.92\n",
            "Classification Report:\n",
            "              precision    recall  f1-score   support\n",
            "\n",
            "         0.0       0.97      0.82      0.89        38\n",
            "         1.0       0.82      0.86      0.84        37\n",
            "         2.0       0.92      0.95      0.93        37\n",
            "         3.0       0.95      0.97      0.96        38\n",
            "         4.0       0.95      1.00      0.97        37\n",
            "\n",
            "    accuracy                           0.92       187\n",
            "   macro avg       0.92      0.92      0.92       187\n",
            "weighted avg       0.92      0.92      0.92       187\n",
            "\n"
          ]
        }
      ],
      "source": [
        "# Menampilkan evaluasi model KNN yang telah di-tune\n",
        "print(\"K-Nearest Neighbors (KNN) Model:\")\n",
        "accuracy_knn_smote_normal_Tun = round(accuracy_score(y_test_normal,y_pred_knn),3)\n",
        "print(\"Accuracy:\", accuracy_knn_smote_normal_Tun)\n",
        "print(\"Classification Report:\")\n",
        "print(classification_report(y_test_normal, y_pred_knn))"
      ]
    },
    {
      "cell_type": "code",
      "execution_count": 86,
      "metadata": {
        "colab": {
          "base_uri": "https://localhost:8080/"
        },
        "id": "XmJB1Uvyknl4",
        "outputId": "5e08ff78-dc7f-4aaf-88bf-ff85315622e5"
      },
      "outputs": [
        {
          "name": "stdout",
          "output_type": "stream",
          "text": [
            "{'accuracy': 0.92, 'recall': 0.92, 'F1 score': 0.919, 'Precision score': 0.922}\n"
          ]
        }
      ],
      "source": [
        "evaluation(y_test_normal,y_pred_knn) # Memanggil fungsi evaluasi untuk KNN yang telah di-tune"
      ]
    },
    {
      "cell_type": "code",
      "execution_count": 87,
      "metadata": {
        "colab": {
          "base_uri": "https://localhost:8080/",
          "height": 564
        },
        "id": "JMQ6Yb8aknpD",
        "outputId": "ec46d1c4-ee98-4e7c-dd89-7e805bb07684"
      },
      "outputs": [
        {
          "data": {
            "image/png": "[encoded data removed]",
            "text/plain": [
              "<Figure size 800x600 with 2 Axes>"
            ]
          },
          "metadata": {},
          "output_type": "display_data"
        }
      ],
      "source": [
        "# Menampilkan confusion matrix untuk KNN yang telah di-tune\n",
        "cm = confusion_matrix(y_test_normal, y_pred_knn)\n",
        "plt.figure(figsize=(8, 6))\n",
        "sns.heatmap(cm, annot=True, fmt=\"d\", cmap=\"Blues\")\n",
        "plt.title('Confusion Matrix')\n",
        "plt.xlabel('True')\n",
        "plt.ylabel('Predict')\n",
        "plt.show()"
      ]
    },
    {
      "cell_type": "markdown",
      "metadata": {
        "id": "u7eiKK3kkrqU"
      },
      "source": [
        "### **RANDOM FOREST**"
      ]
    },
    {
      "cell_type": "code",
      "execution_count": 88,
      "metadata": {
        "id": "aLudqMVvkujH"
      },
      "outputs": [],
      "source": [
        "# Membuat model Random Forest dengan RandomizedSearchCV untuk tuning hyperparameter\n",
        "rf_model = RandomForestClassifier()"
      ]
    },
    {
      "cell_type": "code",
      "execution_count": 89,
      "metadata": {
        "colab": {
          "base_uri": "https://localhost:8080/"
        },
        "id": "VHIXJQdtkwVX",
        "outputId": "df51253a-b764-42eb-9169-3a9882841573"
      },
      "outputs": [
        {
          "name": "stderr",
          "output_type": "stream",
          "text": [
            "c:\\Users\\Administrator\\anaconda3\\Lib\\site-packages\\sklearn\\model_selection\\_search.py:307: UserWarning: The total space of parameters 32 is smaller than n_iter=100. Running 32 iterations. For exhaustive searches, use GridSearchCV.\n",
            "  warnings.warn(\n"
          ]
        },
        {
          "name": "stdout",
          "output_type": "stream",
          "text": [
            "Best parameters: {'n_estimators': 200, 'min_samples_split': 2, 'min_samples_leaf': 1, 'max_features': 'log2', 'max_depth': 15}\n"
          ]
        }
      ],
      "source": [
        "# Menentukan grid parameter yang akan di-tune\n",
        "param_grid = {\n",
        "              \"n_estimators\": [100, 200],\n",
        "              \"max_depth\": [ 10, 15],\n",
        "              \"min_samples_leaf\": [1, 2],\n",
        "              \"min_samples_split\": [2, 5],\n",
        "              \"max_features\": [\"sqrt\", \"log2\"],\n",
        "              # \"random_state\": [42, 100, 200]\n",
        "              }\n",
        "\n",
        "# Menerapkan RandomizedSearchCV untuk mencari hyperparameter terbaik\n",
        "rf_model = RandomizedSearchCV(rf_model, param_grid, n_iter=100, cv=5, n_jobs=-1)\n",
        "rf_model.fit(X_train_normal, y_train_normal)\n",
        "\n",
        "# Mendapatkan hyperparameter terbaik\n",
        "best_params = rf_model.best_params_\n",
        "print(f\"Best parameters: {best_params}\")"
      ]
    },
    {
      "cell_type": "code",
      "execution_count": 90,
      "metadata": {
        "id": "6ec3d54pk1n1"
      },
      "outputs": [],
      "source": [
        "y_pred_rf = rf_model.predict(X_test_normal) # Memprediksi data test menggunakan model Random Forest yang telah di-tune"
      ]
    },
    {
      "cell_type": "code",
      "execution_count": 91,
      "metadata": {
        "colab": {
          "base_uri": "https://localhost:8080/"
        },
        "id": "vNEShR8Ak4Sr",
        "outputId": "9a0bbe69-3152-4629-e384-ec7210107b9f"
      },
      "outputs": [
        {
          "name": "stdout",
          "output_type": "stream",
          "text": [
            "\n",
            "Random Forest Model:\n",
            "Accuracy: 0.909\n",
            "Classification Report:\n",
            "              precision    recall  f1-score   support\n",
            "\n",
            "         0.0       0.95      0.92      0.93        38\n",
            "         1.0       0.84      0.86      0.85        37\n",
            "         2.0       0.87      0.89      0.88        37\n",
            "         3.0       0.92      0.95      0.94        38\n",
            "         4.0       0.97      0.92      0.94        37\n",
            "\n",
            "    accuracy                           0.91       187\n",
            "   macro avg       0.91      0.91      0.91       187\n",
            "weighted avg       0.91      0.91      0.91       187\n",
            "\n"
          ]
        }
      ],
      "source": [
        "# Menampilkan evaluasi model Random Forest yang telah di-tune\n",
        "print(\"\\nRandom Forest Model:\")\n",
        "accuracy_rf_smote_normal_Tun = round(accuracy_score(y_test_normal, y_pred_rf),3)\n",
        "print(\"Accuracy:\",accuracy_rf_smote_normal_Tun)\n",
        "print(\"Classification Report:\")\n",
        "print(classification_report(y_test_normal, y_pred_rf))"
      ]
    },
    {
      "cell_type": "code",
      "execution_count": 92,
      "metadata": {
        "colab": {
          "base_uri": "https://localhost:8080/"
        },
        "id": "S0xxAH7wk6vc",
        "outputId": "803a1c68-8728-43e8-cba8-aa966862e637"
      },
      "outputs": [
        {
          "name": "stdout",
          "output_type": "stream",
          "text": [
            "{'accuracy': 0.909, 'recall': 0.909, 'F1 score': 0.91, 'Precision score': 0.91}\n"
          ]
        }
      ],
      "source": [
        "evaluation(y_test_normal,y_pred_rf) # Memanggil fungsi evaluasi untuk Random Forest yang telah di-tune"
      ]
    },
    {
      "cell_type": "code",
      "execution_count": 93,
      "metadata": {
        "colab": {
          "base_uri": "https://localhost:8080/",
          "height": 564
        },
        "id": "yUdRLY-Tk8ko",
        "outputId": "20245ceb-47f4-4a38-bfc5-33e85d53dd07"
      },
      "outputs": [
        {
          "data": {
            "image/png": "[encoded data removed]",
            "text/plain": [
              "<Figure size 800x600 with 2 Axes>"
            ]
          },
          "metadata": {},
          "output_type": "display_data"
        }
      ],
      "source": [
        "# Menampilkan confusion matrix untuk Random Forest yang telah di-tune\n",
        "cm = confusion_matrix(y_test_normal, y_pred_knn)\n",
        "plt.figure(figsize=(8, 6))\n",
        "sns.heatmap(cm, annot=True, fmt=\"d\", cmap=\"Blues\")\n",
        "plt.title('Confusion Matrix')\n",
        "plt.xlabel('True')\n",
        "plt.ylabel('Predict')\n",
        "plt.show()"
      ]
    },
    {
      "cell_type": "markdown",
      "metadata": {
        "id": "WAIMWobBlAYe"
      },
      "source": [
        "### **XGBOOST**"
      ]
    },
    {
      "cell_type": "code",
      "execution_count": 94,
      "metadata": {
        "id": "n6E49Qr-k-We"
      },
      "outputs": [],
      "source": [
        "# Membuat model XGBoost dengan RandomizedSearchCV untuk tuning hyperparameter\n",
        "xgb_model = XGBClassifier()"
      ]
    },
    {
      "cell_type": "code",
      "execution_count": 95,
      "metadata": {
        "colab": {
          "base_uri": "https://localhost:8080/"
        },
        "id": "fGR1esYVlCsn",
        "outputId": "40a479e1-feec-4dfe-94dc-86bcd004b556"
      },
      "outputs": [
        {
          "name": "stdout",
          "output_type": "stream",
          "text": [
            "Best parameters: {'n_estimators': 200, 'max_depth': 5, 'learning_rate': 0.1, 'gamma': 0, 'colsample_bytree': 0.7}\n"
          ]
        }
      ],
      "source": [
        "# Menentukan grid parameter yang akan di-tune\n",
        "param_grid = {\n",
        "              \"max_depth\": [3, 5, 7],\n",
        "              \"learning_rate\": [0.01, 0.1],\n",
        "              \"n_estimators\": [100, 200],\n",
        "              \"gamma\": [0, 0.1],\n",
        "              \"colsample_bytree\": [0.7, 0.8],\n",
        "              }\n",
        "\n",
        "# Menerapkan RandomizedSearchCV untuk mencari hyperparameter terbaik\n",
        "xgb_model = RandomizedSearchCV(xgb_model, param_grid, n_iter=10, cv=5, n_jobs=-1)\n",
        "xgb_model.fit(X_train_normal, y_train_normal)\n",
        "\n",
        "# Mendapatkan hyperparameter terbaik\n",
        "best_params = xgb_model.best_params_\n",
        "print(f\"Best parameters: {best_params}\")"
      ]
    },
    {
      "cell_type": "code",
      "execution_count": 96,
      "metadata": {
        "id": "iNukCif6lC2h"
      },
      "outputs": [],
      "source": [
        "y_pred_xgb = xgb_model.predict(X_test_normal) # Memprediksi data test menggunakan model XGBoost yang telah di-tune"
      ]
    },
    {
      "cell_type": "code",
      "execution_count": 97,
      "metadata": {
        "colab": {
          "base_uri": "https://localhost:8080/"
        },
        "id": "LqbifCq5lKfw",
        "outputId": "16022abe-04ff-4942-8ee6-cfca8bff8ba5"
      },
      "outputs": [
        {
          "name": "stdout",
          "output_type": "stream",
          "text": [
            "\n",
            "XGBoost Model:\n",
            "Accuracy: 0.909\n",
            "Classification Report:\n",
            "              precision    recall  f1-score   support\n",
            "\n",
            "         0.0       0.88      0.92      0.90        38\n",
            "         1.0       0.89      0.84      0.86        37\n",
            "         2.0       0.89      0.86      0.88        37\n",
            "         3.0       0.93      1.00      0.96        38\n",
            "         4.0       0.97      0.92      0.94        37\n",
            "\n",
            "    accuracy                           0.91       187\n",
            "   macro avg       0.91      0.91      0.91       187\n",
            "weighted avg       0.91      0.91      0.91       187\n",
            "\n"
          ]
        }
      ],
      "source": [
        "# Menampilkan evaluasi model XGBoost yang telah di-tune\n",
        "print(\"\\nXGBoost Model:\")\n",
        "accuracy_xgb_smote_normal_Tun = round(accuracy_score(y_test_normal, y_pred_xgb),3)\n",
        "print(\"Accuracy:\",accuracy_xgb_smote_normal_Tun)\n",
        "print(\"Classification Report:\")\n",
        "print(classification_report(y_test_normal, y_pred_xgb))"
      ]
    },
    {
      "cell_type": "code",
      "execution_count": 98,
      "metadata": {
        "colab": {
          "base_uri": "https://localhost:8080/"
        },
        "id": "_jD4UbbtlKix",
        "outputId": "c3443e84-3ed1-4dec-91c6-703f2618737c"
      },
      "outputs": [
        {
          "name": "stdout",
          "output_type": "stream",
          "text": [
            "{'accuracy': 0.909, 'recall': 0.909, 'F1 score': 0.909, 'Precision score': 0.909}\n"
          ]
        }
      ],
      "source": [
        "evaluation(y_test_normal,y_pred_xgb) # Memanggil fungsi evaluasi untuk XGBoost yang telah di-tune"
      ]
    },
    {
      "cell_type": "code",
      "execution_count": 99,
      "metadata": {
        "colab": {
          "base_uri": "https://localhost:8080/",
          "height": 564
        },
        "id": "lr5cMqHrlOxd",
        "outputId": "2b6b2122-dd93-46b0-cd6d-6a9fbe048964"
      },
      "outputs": [
        {
          "data": {
            "image/png": "[encoded data removed]",
            "text/plain": [
              "<Figure size 800x600 with 2 Axes>"
            ]
          },
          "metadata": {},
          "output_type": "display_data"
        }
      ],
      "source": [
        "# Menampilkan confusion matrix untuk XGBoost yang telah di-tune\n",
        "cm = confusion_matrix(y_test_normal, y_pred_xgb)\n",
        "plt.figure(figsize=(8, 6))\n",
        "sns.heatmap(cm, annot=True, fmt=\"d\", cmap=\"Blues\")\n",
        "plt.title('Confusion Matrix')\n",
        "plt.xlabel('True')\n",
        "plt.ylabel('Predict')\n",
        "plt.show()"
      ]
    },
    {
      "cell_type": "markdown",
      "metadata": {
        "id": "dyJaWX4jlSRR"
      },
      "source": [
        "# **EVALUASI**"
      ]
    },
    {
      "cell_type": "markdown",
      "metadata": {
        "id": "O8MQ0ffWlSWV"
      },
      "source": [
        "Selanjutnya kita akan melakukan evaluasi data sekaligus membandingkan antar algoritma guna dengan tujuan mengetahui jenis model\n",
        "algoritma yang menghasilkan hasil akurasi terbaik."
      ]
    },
    {
      "cell_type": "code",
      "execution_count": 100,
      "metadata": {
        "colab": {
          "base_uri": "https://localhost:8080/",
          "height": 143
        },
        "id": "2PzLZ-gtlXHj",
        "outputId": "4e150f40-7aa6-4f16-d120-16e195c3092e"
      },
      "outputs": [
        {
          "data": {
            "text/html": [
              "<div>\n",
              "<style scoped>\n",
              "    .dataframe tbody tr th:only-of-type {\n",
              "        vertical-align: middle;\n",
              "    }\n",
              "\n",
              "    .dataframe tbody tr th {\n",
              "        vertical-align: top;\n",
              "    }\n",
              "\n",
              "    .dataframe thead th {\n",
              "        text-align: right;\n",
              "    }\n",
              "</style>\n",
              "<table border=\"1\" class=\"dataframe\">\n",
              "  <thead>\n",
              "    <tr style=\"text-align: right;\">\n",
              "      <th></th>\n",
              "      <th>Model</th>\n",
              "      <th>Accuracy</th>\n",
              "    </tr>\n",
              "  </thead>\n",
              "  <tbody>\n",
              "    <tr>\n",
              "      <th>0</th>\n",
              "      <td>K-Nearest Neighbour</td>\n",
              "      <td>75.4</td>\n",
              "    </tr>\n",
              "    <tr>\n",
              "      <th>1</th>\n",
              "      <td>Random Forest</td>\n",
              "      <td>92.0</td>\n",
              "    </tr>\n",
              "    <tr>\n",
              "      <th>2</th>\n",
              "      <td>XGBoost</td>\n",
              "      <td>90.4</td>\n",
              "    </tr>\n",
              "  </tbody>\n",
              "</table>\n",
              "</div>"
            ],
            "text/plain": [
              "                 Model  Accuracy\n",
              "0  K-Nearest Neighbour      75.4\n",
              "1        Random Forest      92.0\n",
              "2              XGBoost      90.4"
            ]
          },
          "execution_count": 100,
          "metadata": {},
          "output_type": "execute_result"
        }
      ],
      "source": [
        "import matplotlib.pyplot as plt\n",
        "# Membuat DataFrame untuk perbandingan model dengan oversampling\n",
        "model_comp1 = pd.DataFrame({'Model': ['K-Nearest Neighbour','Random Forest',\n",
        "'XGBoost'], 'Accuracy': [accuracy_knn_smote*100,\n",
        "accuracy_rf_smote*100,accuracy_xgb_smote*100]})\n",
        "\n",
        "# Menampilkan 5 baris pertama dari DataFrame\n",
        "model_comp1.head()"
      ]
    },
    {
      "cell_type": "code",
      "execution_count": 101,
      "metadata": {
        "colab": {
          "base_uri": "https://localhost:8080/",
          "height": 569
        },
        "id": "eYLHCHLxlckl",
        "outputId": "5ebffbe9-dce7-4177-bcb5-1b919adca6ba"
      },
      "outputs": [
        {
          "data": {
            "image/png": "[encoded data removed]",
            "text/plain": [
              "<Figure size 640x480 with 1 Axes>"
            ]
          },
          "metadata": {},
          "output_type": "display_data"
        }
      ],
      "source": [
        "# Membuat bar plot untuk perbandingan model dengan oversampling\n",
        "fig, ax = plt.subplots()\n",
        "bars = plt.bar(model_comp1['Model'], model_comp1['Accuracy'], color=['red', 'green', 'blue'])\n",
        "plt.xlabel('Model')\n",
        "plt.ylabel('Accuracy (%)')\n",
        "plt.title('Oversample')\n",
        "plt.xticks(rotation=45, ha='right') # Untuk memutar label sumbu x agar lebih mudah dibaca\n",
        "\n",
        "# Menambahkan keterangan jumlah di atas setiap bar\n",
        "for bar in bars:\n",
        "    yval = bar.get_height()\n",
        "    plt.text(bar.get_x() + bar.get_width()/2, yval, round(yval, 2), ha='center', va='bottom')\n",
        "\n",
        "plt.show() # Menampilkan plot"
      ]
    },
    {
      "cell_type": "code",
      "execution_count": 102,
      "metadata": {
        "colab": {
          "base_uri": "https://localhost:8080/",
          "height": 143
        },
        "id": "RNXB1lm0lm9B",
        "outputId": "ca915c2a-dea5-4cdf-a7ef-f91ce0358a4b"
      },
      "outputs": [
        {
          "data": {
            "text/html": [
              "<div>\n",
              "<style scoped>\n",
              "    .dataframe tbody tr th:only-of-type {\n",
              "        vertical-align: middle;\n",
              "    }\n",
              "\n",
              "    .dataframe tbody tr th {\n",
              "        vertical-align: top;\n",
              "    }\n",
              "\n",
              "    .dataframe thead th {\n",
              "        text-align: right;\n",
              "    }\n",
              "</style>\n",
              "<table border=\"1\" class=\"dataframe\">\n",
              "  <thead>\n",
              "    <tr style=\"text-align: right;\">\n",
              "      <th></th>\n",
              "      <th>Model</th>\n",
              "      <th>Accuracy</th>\n",
              "    </tr>\n",
              "  </thead>\n",
              "  <tbody>\n",
              "    <tr>\n",
              "      <th>0</th>\n",
              "      <td>K-Nearest Neighbour</td>\n",
              "      <td>86.1</td>\n",
              "    </tr>\n",
              "    <tr>\n",
              "      <th>1</th>\n",
              "      <td>Random Forest</td>\n",
              "      <td>92.0</td>\n",
              "    </tr>\n",
              "    <tr>\n",
              "      <th>2</th>\n",
              "      <td>XGBoost</td>\n",
              "      <td>90.4</td>\n",
              "    </tr>\n",
              "  </tbody>\n",
              "</table>\n",
              "</div>"
            ],
            "text/plain": [
              "                 Model  Accuracy\n",
              "0  K-Nearest Neighbour      86.1\n",
              "1        Random Forest      92.0\n",
              "2              XGBoost      90.4"
            ]
          },
          "execution_count": 102,
          "metadata": {},
          "output_type": "execute_result"
        }
      ],
      "source": [
        "# Membuat DataFrame untuk perbandingan model dengan normalisasi + oversampling\n",
        "model_comp2 = pd.DataFrame({'Model': ['K-Nearest Neighbour','Random Forest',\n",
        "                          'XGBoost'], 'Accuracy': [accuracy_knn_smote_normal*100,\n",
        "                          accuracy_rf_smote_normal*100,accuracy_xgb_smote_normal*100]})\n",
        "\n",
        "model_comp2.head() # Menampilkan 5 baris pertama dari DataFrame"
      ]
    },
    {
      "cell_type": "code",
      "execution_count": 103,
      "metadata": {
        "colab": {
          "base_uri": "https://localhost:8080/",
          "height": 569
        },
        "id": "1GsdUJ2hluox",
        "outputId": "6df0e97a-1d61-4732-d0c9-da622e0a183a"
      },
      "outputs": [
        {
          "data": {
            "image/png": "[encoded data removed]",
            "text/plain": [
              "<Figure size 640x480 with 1 Axes>"
            ]
          },
          "metadata": {},
          "output_type": "display_data"
        }
      ],
      "source": [
        "# Membuat bar plot untuk perbandingan model dengan normalisasi + oversampling\n",
        "fig, ax = plt.subplots()\n",
        "bars = plt.bar(model_comp2['Model'], model_comp2['Accuracy'], color=['red', 'green', 'blue'])\n",
        "plt.xlabel('Model')\n",
        "plt.ylabel('Accuracy (%)')\n",
        "plt.title('Normalization + Oversampling')\n",
        "plt.xticks(rotation=45, ha='right') # Untuk memutar label sumbu x agar lebih mudah dibaca\n",
        "# Menambahkan keterangan jumlah di atas setiap bar\n",
        "for bar in bars:\n",
        "    yval = bar.get_height()\n",
        "    plt.text(bar.get_x() + bar.get_width()/2, yval, round(yval, 2), ha='center', va='bottom')\n",
        "plt.show() # Menampilkan plot"
      ]
    },
    {
      "cell_type": "code",
      "execution_count": 104,
      "metadata": {
        "colab": {
          "base_uri": "https://localhost:8080/",
          "height": 143
        },
        "id": "rrVkwYCZlx5F",
        "outputId": "c163c029-0a33-40c6-b363-019bf80396c6"
      },
      "outputs": [
        {
          "data": {
            "text/html": [
              "<div>\n",
              "<style scoped>\n",
              "    .dataframe tbody tr th:only-of-type {\n",
              "        vertical-align: middle;\n",
              "    }\n",
              "\n",
              "    .dataframe tbody tr th {\n",
              "        vertical-align: top;\n",
              "    }\n",
              "\n",
              "    .dataframe thead th {\n",
              "        text-align: right;\n",
              "    }\n",
              "</style>\n",
              "<table border=\"1\" class=\"dataframe\">\n",
              "  <thead>\n",
              "    <tr style=\"text-align: right;\">\n",
              "      <th></th>\n",
              "      <th>Model</th>\n",
              "      <th>Accuracy</th>\n",
              "    </tr>\n",
              "  </thead>\n",
              "  <tbody>\n",
              "    <tr>\n",
              "      <th>0</th>\n",
              "      <td>K-Nearest Neighbour</td>\n",
              "      <td>92.0</td>\n",
              "    </tr>\n",
              "    <tr>\n",
              "      <th>1</th>\n",
              "      <td>Random Forest</td>\n",
              "      <td>90.9</td>\n",
              "    </tr>\n",
              "    <tr>\n",
              "      <th>2</th>\n",
              "      <td>XGBoost</td>\n",
              "      <td>90.9</td>\n",
              "    </tr>\n",
              "  </tbody>\n",
              "</table>\n",
              "</div>"
            ],
            "text/plain": [
              "                 Model  Accuracy\n",
              "0  K-Nearest Neighbour      92.0\n",
              "1        Random Forest      90.9\n",
              "2              XGBoost      90.9"
            ]
          },
          "execution_count": 104,
          "metadata": {},
          "output_type": "execute_result"
        }
      ],
      "source": [
        "# Membuat DataFrame untuk perbandingan model dengan normalisasi + oversampling + tuning\n",
        "model_comp3 = pd.DataFrame({'Model': ['K-Nearest Neighbour','Random Forest',\n",
        "                          'XGBoost'], 'Accuracy': [accuracy_knn_smote_normal_Tun*100,\n",
        "                          accuracy_rf_smote_normal_Tun*100,accuracy_xgb_smote_normal_Tun*100]})\n",
        "\n",
        "model_comp3.head() # Menampilkan 5 baris pertama dari DataFrame"
      ]
    },
    {
      "cell_type": "code",
      "execution_count": 105,
      "metadata": {
        "colab": {
          "base_uri": "https://localhost:8080/",
          "height": 569
        },
        "id": "g7hyRuKJl27r",
        "outputId": "70b61cb7-a938-48ac-c39e-1279253ff58e"
      },
      "outputs": [
        {
          "data": {
            "image/png": "[encoded data removed]",
            "text/plain": [
              "<Figure size 640x480 with 1 Axes>"
            ]
          },
          "metadata": {},
          "output_type": "display_data"
        }
      ],
      "source": [
        "# Membuat bar plot untuk perbandingan model dengan normalisasi + oversampling + tuning\n",
        "fig, ax = plt.subplots()\n",
        "bars = plt.bar(model_comp3['Model'], model_comp3['Accuracy'], color=['red', 'green', 'blue'])\n",
        "plt.xlabel('Model')\n",
        "plt.ylabel('Accuracy (%)')\n",
        "plt.title('Normalization + Oversampling + Tunning')\n",
        "plt.xticks(rotation=45, ha='right') # Untuk memutar label sumbu x agar lebih mudah dibaca\n",
        "# Menambahkan keterangan jumlah di atas setiap bar\n",
        "for bar in bars:\n",
        "    yval = bar.get_height()\n",
        "    plt.text(bar.get_x() + bar.get_width()/2, yval, round(yval, 2), ha='center', va='bottom')\n",
        "plt.show() # Menampilkan plot"
      ]
    },
    {
      "cell_type": "code",
      "execution_count": 106,
      "metadata": {
        "id": "iFPic994l7Yi"
      },
      "outputs": [],
      "source": [
        "# Membuat DataFrame untuk perbandingan model terbaik\n",
        "model_compBest = pd.DataFrame({\n",
        "'Model': ['K-Nearest Neighbour OverSample Tunning', 'Random Forest OverSample',\n",
        "        'XGB OverSample Standarization Tunning'],\n",
        "'Accuracy': [accuracy_knn_smote_normal_Tun*100, accuracy_rf_smote_normal*100,\n",
        "            accuracy_xgb_smote_normal_Tun*100]})"
      ]
    },
    {
      "cell_type": "code",
      "execution_count": 107,
      "metadata": {
        "colab": {
          "base_uri": "https://localhost:8080/",
          "height": 674
        },
        "id": "c8-1DCeJmCnR",
        "outputId": "ebb93a57-b8ac-4825-cf14-1b88b8a8eb4e"
      },
      "outputs": [
        {
          "data": {
            "image/png": "[encoded data removed]",
            "text/plain": [
              "<Figure size 640x480 with 1 Axes>"
            ]
          },
          "metadata": {},
          "output_type": "display_data"
        }
      ],
      "source": [
        "# Membuat bar plot dengan keterangan jumlah\n",
        "fig, ax = plt.subplots()\n",
        "bars = plt.bar(model_compBest['Model'], model_compBest['Accuracy'], color=['red', 'green', 'blue'])\n",
        "plt.xlabel('Model')\n",
        "plt.ylabel('Accuracy (%)')\n",
        "plt.title('Best Model Comparison')\n",
        "plt.xticks(rotation=45, ha='right') # Untuk memutar label sumbu x agar lebih mudah dibaca\n",
        "# Menambahkan keterangan jumlah di atas setiap bar\n",
        "for bar in bars:\n",
        "    yval = bar.get_height()\n",
        "    plt.text(bar.get_x() + bar.get_width()/2, yval, round(yval, 2), ha='center', va='bottom')\n",
        "plt.show() # Menampilkan plot"
      ]
    },
    {
      "cell_type": "code",
      "execution_count": 108,
      "metadata": {},
      "outputs": [
        {
          "name": "stdout",
          "output_type": "stream",
          "text": [
            "Model terbaik telah disimpan dalam file xgb_model.pkl\n"
          ]
        }
      ],
      "source": [
        "import joblib\n",
        "\n",
        "# Menyimpan model terbaik (XGBoost) ke dalam file pickle (.pkl)\n",
        "best_model = xgb_model  # Ganti dengan model terbaik sesuai analisis Anda\n",
        "model_filename = \"xgb_model.pkl\"\n",
        "joblib.dump(best_model, model_filename)\n",
        "\n",
        "print(f\"Model terbaik telah disimpan dalam file {model_filename}\")"
      ]
    },
    {
      "cell_type": "markdown",
      "metadata": {
        "id": "R3EJXmV7mGy8"
      },
      "source": [
        "# **KESIMPULAN**"
      ]
    },
    {
      "cell_type": "markdown",
      "metadata": {
        "id": "b1fGdRHumJTs"
      },
      "source": [
        "Dari penelitian diatas setelah melakukan pemodelan dengan algoritma KNN, Random Forest, dan XGBoost dengan berbagai penanganan data\n",
        "antara lain menggunakan random over sampling SMOTE untuk penanganan imbalance data, RandomSearchCV untuk tunning, dan Normalisasi\n",
        "data. Dapat disimpulkan bahwa klasifikasi menggunakan Random Over Sampling SMOTE pada model KNN menghasilkan akurasi 75.4 %,\n",
        "model Random Forest dengan akurasi yang dihasilkan yaitu 92%, dan model XGBoots menghasilkan akurasi 90.4%. Disamping itu bila\n",
        "klasifikasi menggunakan data yang sudah dilakukan normalisasi dan Random Over Sampling SMOTE pada model KNN menghasilkan akurasi\n",
        "86.1%, model Random Forest menghasilkan akurasi 92%, dan model XGBoots menghasilkan akurasi 90.4%. Dan pada klasifikasi menggunakan\n",
        "data yang telah dilakukan tunning RandomSearchCV, normalisasi, dan Random Over Sampling SMOTE dalam model KNN menghasilkan akurasi\n",
        "93%, pada model Random Forest menghasilkan akurasi 92%. dan model XGBoots menghasilkan akurasi 91.4%. Oleh karena itu, dalam\n",
        "penanganan data yang optimal untuk mengatasi ketidakseimbangan data adalah dengan menggunakan metode random Oversampling SMOTE\n",
        "sekaligus yang dilengkapi dengan tuning menggunakan RandomSearchCV dan normalisasi data, memberikan hasil yang signifikan dalam\n",
        "meningkatkan akurasi model klasifikasi khususnya pada model KNN dan XGBoots. Secara keseluruhan, penanganan dalam ketidakseimbangan data dengan menggunakan tunning\n",
        "parameter, normalisasi, dan oversampling dapat memberikan dampak signifikan terhadap performa model klasifikasi. Pemilihan model terbaik\n",
        "dan parameter optimal dapat meningkatkan akurasi dan kinerja model secara keseluruhan."
      ]
    }
  ],
  "metadata": {
    "colab": {
      "provenance": []
    },
    "kernelspec": {
      "display_name": "Python 3",
      "name": "python3"
    },
    "language_info": {
      "codemirror_mode": {
        "name": "ipython",
        "version": 3
      },
      "file_extension": ".py",
      "mimetype": "text/x-python",
      "name": "python",
      "nbconvert_exporter": "python",
      "pygments_lexer": "ipython3",
      "version": "3.11.4"
    }
  },
  "nbformat": 4,
  "nbformat_minor": 0
}
